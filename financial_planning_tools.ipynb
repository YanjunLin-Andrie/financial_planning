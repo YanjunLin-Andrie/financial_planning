{
 "cells": [
  {
   "cell_type": "markdown",
   "metadata": {},
   "source": [
    "# Financial Planning with APIs and Simulations\n",
    "\n",
    "In this Challenge, you’ll create two financial analysis tools by using a single Jupyter notebook:\n",
    "\n",
    "Part 1: A financial planner for emergencies. The members will be able to use this tool to visualize their current savings. The members can then determine if they have enough reserves for an emergency fund.\n",
    "\n",
    "Part 2: A financial planner for retirement. This tool will forecast the performance of their retirement portfolio in 30 years. To do this, the tool will make an Alpaca API call via the Alpaca SDK to get historical price data for use in Monte Carlo simulations.\n",
    "\n",
    "You’ll use the information from the Monte Carlo simulation to answer questions about the portfolio in your Jupyter notebook.\n",
    "\n"
   ]
  },
  {
   "cell_type": "code",
   "execution_count": 1,
   "metadata": {},
   "outputs": [],
   "source": [
    "# Import the required libraries and dependencies\n",
    "import os\n",
    "import requests\n",
    "import json\n",
    "import pandas as pd\n",
    "from dotenv import load_dotenv\n",
    "import alpaca_trade_api as tradeapi\n",
    "from MCForecastTools import MCSimulation\n",
    "\n",
    "%matplotlib inline"
   ]
  },
  {
   "cell_type": "code",
   "execution_count": 2,
   "metadata": {},
   "outputs": [
    {
     "data": {
      "text/plain": [
       "True"
      ]
     },
     "execution_count": 2,
     "metadata": {},
     "output_type": "execute_result"
    }
   ],
   "source": [
    "# Load the environment variables from the .env file by calling the load_dotenv function\n",
    "load_dotenv()"
   ]
  },
  {
   "cell_type": "markdown",
   "metadata": {},
   "source": [
    "## Part 1: Create a Financial Planner for Emergencies"
   ]
  },
  {
   "cell_type": "markdown",
   "metadata": {},
   "source": [
    "### Evaluate the Cryptocurrency Wallet by Using the Requests Library\n",
    "\n",
    "In this section, you’ll determine the current value of a member’s cryptocurrency wallet. You’ll collect the current prices for the Bitcoin and Ethereum cryptocurrencies by using the Python Requests library. For the prototype, you’ll assume that the member holds the 1.2 Bitcoins (BTC) and 5.3 Ethereum coins (ETH). To do all this, complete the following steps:\n",
    "\n",
    "1. Create a variable named `monthly_income`, and set its value to `12000`.\n",
    "\n",
    "2. Use the Requests library to get the current price (in US dollars) of Bitcoin (BTC) and Ethereum (ETH) by using the API endpoints that the starter code supplies.\n",
    "\n",
    "3. Navigate the JSON response object to access the current price of each coin, and store each in a variable.\n",
    "\n",
    "    > **Hint** Note the specific identifier for each cryptocurrency in the API JSON response. The Bitcoin identifier is `1`, and the Ethereum identifier is `1027`.\n",
    "\n",
    "4. Calculate the value, in US dollars, of the current amount of each cryptocurrency and of the entire cryptocurrency wallet.\n",
    "\n"
   ]
  },
  {
   "cell_type": "code",
   "execution_count": 3,
   "metadata": {},
   "outputs": [],
   "source": [
    "# The current number of coins for each cryptocurrency asset held in the portfolio.\n",
    "btc_coins = 1.2\n",
    "eth_coins = 5.3"
   ]
  },
  {
   "cell_type": "markdown",
   "metadata": {},
   "source": [
    "#### Step 1: Create a variable named `monthly_income`, and set its value to `12000`."
   ]
  },
  {
   "cell_type": "code",
   "execution_count": 4,
   "metadata": {},
   "outputs": [],
   "source": [
    "# The monthly amount for the member's household income\n",
    "monthly_income = 12000\n"
   ]
  },
  {
   "cell_type": "markdown",
   "metadata": {},
   "source": [
    "#### Review the endpoint URLs for the API calls to Free Crypto API in order to get the current pricing information for both BTC and ETH."
   ]
  },
  {
   "cell_type": "code",
   "execution_count": 5,
   "metadata": {},
   "outputs": [],
   "source": [
    "# The Free Crypto API Call endpoint URLs for the held cryptocurrency assets\n",
    "btc_url = \"https://api.alternative.me/v2/ticker/Bitcoin/?convert=USD\"\n",
    "eth_url = \"https://api.alternative.me/v2/ticker/Ethereum/?convert=USD\""
   ]
  },
  {
   "cell_type": "markdown",
   "metadata": {},
   "source": [
    "#### Step 2. Use the Requests library to get the current price (in US dollars) of Bitcoin (BTC) and Ethereum (ETH) by using the API endpoints that the starter code supplied."
   ]
  },
  {
   "cell_type": "code",
   "execution_count": 6,
   "metadata": {},
   "outputs": [
    {
     "name": "stdout",
     "output_type": "stream",
     "text": [
      "{\n",
      "    \"data\": {\n",
      "        \"1\": {\n",
      "            \"circulating_supply\": 19011068,\n",
      "            \"id\": 1,\n",
      "            \"last_updated\": 1649905743,\n",
      "            \"max_supply\": 21000000,\n",
      "            \"name\": \"Bitcoin\",\n",
      "            \"quotes\": {\n",
      "                \"USD\": {\n",
      "                    \"market_cap\": 789060746741,\n",
      "                    \"percent_change_1h\": -0.213513543081883,\n",
      "                    \"percent_change_24h\": 3.03042534233283,\n",
      "                    \"percent_change_7d\": -4.14437225938367,\n",
      "                    \"percentage_change_1h\": -0.213513543081883,\n",
      "                    \"percentage_change_24h\": 3.03042534233283,\n",
      "                    \"percentage_change_7d\": -4.14437225938367,\n",
      "                    \"price\": 41408.0,\n",
      "                    \"volume_24h\": 25087891370\n",
      "                }\n",
      "            },\n",
      "            \"rank\": 1,\n",
      "            \"symbol\": \"BTC\",\n",
      "            \"total_supply\": 19011068,\n",
      "            \"website_slug\": \"bitcoin\"\n",
      "        }\n",
      "    },\n",
      "    \"metadata\": {\n",
      "        \"error\": null,\n",
      "        \"num_cryptocurrencies\": 3106,\n",
      "        \"timestamp\": 1649905743\n",
      "    }\n",
      "}\n"
     ]
    }
   ],
   "source": [
    "# Using the Python requests library, make an API call to access the current price of BTC\n",
    "btc_response = requests.get(btc_url).json()\n",
    "\n",
    "# Use the json.dumps function to review the response data from the API call\n",
    "# Use the indent and sort_keys parameters to make the response object readable\n",
    "print(json.dumps(btc_response, indent=4, sort_keys=True))\n"
   ]
  },
  {
   "cell_type": "code",
   "execution_count": 7,
   "metadata": {},
   "outputs": [
    {
     "name": "stdout",
     "output_type": "stream",
     "text": [
      "{\n",
      "    \"data\": {\n",
      "        \"1027\": {\n",
      "            \"circulating_supply\": 120369195,\n",
      "            \"id\": 1027,\n",
      "            \"last_updated\": 1649905753,\n",
      "            \"max_supply\": 0,\n",
      "            \"name\": \"Ethereum\",\n",
      "            \"quotes\": {\n",
      "                \"USD\": {\n",
      "                    \"market_cap\": 377232188115,\n",
      "                    \"percent_change_1h\": -0.611003302569104,\n",
      "                    \"percent_change_24h\": 2.31772333144311,\n",
      "                    \"percent_change_7d\": -1.44946270839521,\n",
      "                    \"percentage_change_1h\": -0.611003302569104,\n",
      "                    \"percentage_change_24h\": 2.31772333144311,\n",
      "                    \"percentage_change_7d\": -1.44946270839521,\n",
      "                    \"price\": 3125.4,\n",
      "                    \"volume_24h\": 15339191136\n",
      "                }\n",
      "            },\n",
      "            \"rank\": 2,\n",
      "            \"symbol\": \"ETH\",\n",
      "            \"total_supply\": 120369195,\n",
      "            \"website_slug\": \"ethereum\"\n",
      "        }\n",
      "    },\n",
      "    \"metadata\": {\n",
      "        \"error\": null,\n",
      "        \"num_cryptocurrencies\": 3106,\n",
      "        \"timestamp\": 1649905753\n",
      "    }\n",
      "}\n"
     ]
    }
   ],
   "source": [
    "# Using the Python requests library, make an API call to access the current price ETH\n",
    "eth_response = requests.get(eth_url).json()\n",
    "\n",
    "# Use the json.dumps function to review the response data from the API call\n",
    "# Use the indent and sort_keys parameters to make the response object readable\n",
    "print(json.dumps(eth_response, indent=4, sort_keys=True))\n"
   ]
  },
  {
   "cell_type": "markdown",
   "metadata": {},
   "source": [
    "#### Step 3: Navigate the JSON response object to access the current price of each coin, and store each in a variable."
   ]
  },
  {
   "cell_type": "code",
   "execution_count": 8,
   "metadata": {},
   "outputs": [
    {
     "name": "stdout",
     "output_type": "stream",
     "text": [
      "41408.0\n"
     ]
    }
   ],
   "source": [
    "# Navigate the BTC response object to access the current price of BTC\n",
    "btc_price = btc_response['data']['1']['quotes']['USD']['price']\n",
    "\n",
    "# Print the current price of BTC\n",
    "print(btc_price)\n"
   ]
  },
  {
   "cell_type": "code",
   "execution_count": 9,
   "metadata": {},
   "outputs": [
    {
     "name": "stdout",
     "output_type": "stream",
     "text": [
      "3125.4\n"
     ]
    }
   ],
   "source": [
    "# Navigate the BTC response object to access the current price of ETH\n",
    "eth_price = eth_response['data']['1027']['quotes']['USD']['price']\n",
    "\n",
    "# Print the current price of ETH\n",
    "print(eth_price)\n"
   ]
  },
  {
   "cell_type": "markdown",
   "metadata": {},
   "source": [
    "### Step 4: Calculate the value, in US dollars, of the current amount of each cryptocurrency and of the entire cryptocurrency wallet."
   ]
  },
  {
   "cell_type": "code",
   "execution_count": 10,
   "metadata": {},
   "outputs": [
    {
     "name": "stdout",
     "output_type": "stream",
     "text": [
      "49689.6\n"
     ]
    }
   ],
   "source": [
    "# Compute the current value of the BTC holding \n",
    "btc_value = btc_price * btc_coins\n",
    "\n",
    "# Print current value of your holding in BTC\n",
    "print(btc_value)\n"
   ]
  },
  {
   "cell_type": "code",
   "execution_count": 11,
   "metadata": {},
   "outputs": [
    {
     "name": "stdout",
     "output_type": "stream",
     "text": [
      "16564.62\n"
     ]
    }
   ],
   "source": [
    "# Compute the current value of the ETH holding \n",
    "eth_value = eth_price * eth_coins\n",
    "\n",
    "# Print current value of your holding in ETH\n",
    "print(eth_value)\n"
   ]
  },
  {
   "cell_type": "code",
   "execution_count": 12,
   "metadata": {},
   "outputs": [
    {
     "name": "stdout",
     "output_type": "stream",
     "text": [
      "66254.22\n"
     ]
    }
   ],
   "source": [
    "# Compute the total value of the cryptocurrency wallet\n",
    "# Add the value of the BTC holding to the value of the ETH holding\n",
    "total_crypto_wallet = btc_value + eth_value\n",
    "\n",
    "# Print current cryptocurrency wallet balance\n",
    "print(total_crypto_wallet)\n"
   ]
  },
  {
   "cell_type": "markdown",
   "metadata": {},
   "source": [
    "### Evaluate the Stock and Bond Holdings by Using the Alpaca SDK\n",
    "\n",
    "In this section, you’ll determine the current value of a member’s stock and bond holdings. You’ll make an API call to Alpaca via the Alpaca SDK to get the current closing prices of the SPDR S&P 500 ETF Trust (ticker: SPY) and of the iShares Core US Aggregate Bond ETF (ticker: AGG). For the prototype, assume that the member holds 110 shares of SPY, which represents the stock portion of their portfolio, and 200 shares of AGG, which represents the bond portion. To do all this, complete the following steps:\n",
    "\n",
    "1. In the `Starter_Code` folder, create an environment file (`.env`) to store the values of your Alpaca API key and Alpaca secret key.\n",
    "\n",
    "2. Set the variables for the Alpaca API and secret keys. Using the Alpaca SDK, create the Alpaca `tradeapi.REST` object. In this object, include the parameters for the Alpaca API key, the secret key, and the version number.\n",
    "\n",
    "3. Set the following parameters for the Alpaca API call:\n",
    "\n",
    "    - `tickers`: Use the tickers for the member’s stock and bond holdings.\n",
    "\n",
    "    - `timeframe`: Use a time frame of one day.\n",
    "\n",
    "    - `start_date` and `end_date`: Use the same date for these parameters, and format them with the date of the previous weekday (or `2020-08-07`). This is because you want the one closing price for the most-recent trading day.\n",
    "\n",
    "4. Get the current closing prices for `SPY` and `AGG` by using the Alpaca `get_bars` function. Format the response as a Pandas DataFrame by including the `df` property at the end of the `get_bars` function.\n",
    "\n",
    "5. Navigating the Alpaca response DataFrame, select the `SPY` and `AGG` closing prices, and store them as variables.\n",
    "\n",
    "6. Calculate the value, in US dollars, of the current amount of shares in each of the stock and bond portions of the portfolio, and print the results.\n"
   ]
  },
  {
   "cell_type": "markdown",
   "metadata": {},
   "source": [
    "#### Review the total number of shares held in both (SPY) and (AGG)."
   ]
  },
  {
   "cell_type": "code",
   "execution_count": 13,
   "metadata": {},
   "outputs": [],
   "source": [
    "# Current amount of shares held in both the stock (SPY) and bond (AGG) portion of the portfolio.\n",
    "spy_shares = 110\n",
    "agg_shares = 200\n"
   ]
  },
  {
   "cell_type": "markdown",
   "metadata": {},
   "source": [
    "#### Step 1: In the `Starter_Code` folder, create an environment file (`.env`) to store the values of your Alpaca API key and Alpaca secret key."
   ]
  },
  {
   "cell_type": "markdown",
   "metadata": {},
   "source": [
    "#### Step 2: Set the variables for the Alpaca API and secret keys. Using the Alpaca SDK, create the Alpaca `tradeapi.REST` object. In this object, include the parameters for the Alpaca API key, the secret key, and the version number."
   ]
  },
  {
   "cell_type": "code",
   "execution_count": 14,
   "metadata": {},
   "outputs": [],
   "source": [
    "# Set the variables for the Alpaca API and secret keys\n",
    "alpaca_api_key = os.getenv('ALPACA_API_KEY')\n",
    "alpaca_secret_key = os.getenv(\"ALPACA_SECRET_KEY\")\n",
    "\n",
    "# Create the Alpaca tradeapi.REST object\n",
    "alpaca = tradeapi.REST(\n",
    "    alpaca_api_key,\n",
    "    alpaca_secret_key,\n",
    "    api_version=\"v2\"\n",
    ")"
   ]
  },
  {
   "cell_type": "markdown",
   "metadata": {},
   "source": [
    "#### Step 3: Set the following parameters for the Alpaca API call:\n",
    "\n",
    "- `tickers`: Use the tickers for the member’s stock and bond holdings.\n",
    "\n",
    "- `timeframe`: Use a time frame of one day.\n",
    "\n",
    "- `start_date` and `end_date`: Use the same date for these parameters, and format them with the date of the previous weekday (or `2020-08-07`). This is because you want the one closing price for the most-recent trading day.\n"
   ]
  },
  {
   "cell_type": "code",
   "execution_count": 15,
   "metadata": {},
   "outputs": [],
   "source": [
    "# Set the tickers for both the bond and stock portion of the portfolio\n",
    "tickers = ['SPY', 'AGG']\n",
    "\n",
    "# Set timeframe to 1Day\n",
    "timeframe = '1Day'\n",
    "\n",
    "# Format current date as ISO format\n",
    "# Set both the start and end date at the date of my prior weekday \n",
    "start_date = pd.Timestamp('2022-04-12', tz='America/New_York').isoformat()\n",
    "end_date = pd.Timestamp('2022-04-12', tz='America/New_York').isoformat()\n"
   ]
  },
  {
   "cell_type": "markdown",
   "metadata": {},
   "source": [
    "#### Step 4: Get the current closing prices for `SPY` and `AGG` by using the Alpaca `get_bars` function. Format the response as a Pandas DataFrame by including the `df` property at the end of the `get_bars` function."
   ]
  },
  {
   "cell_type": "code",
   "execution_count": 16,
   "metadata": {},
   "outputs": [
    {
     "data": {
      "text/html": [
       "<div>\n",
       "<style scoped>\n",
       "    .dataframe tbody tr th:only-of-type {\n",
       "        vertical-align: middle;\n",
       "    }\n",
       "\n",
       "    .dataframe tbody tr th {\n",
       "        vertical-align: top;\n",
       "    }\n",
       "\n",
       "    .dataframe thead tr th {\n",
       "        text-align: left;\n",
       "    }\n",
       "</style>\n",
       "<table border=\"1\" class=\"dataframe\">\n",
       "  <thead>\n",
       "    <tr>\n",
       "      <th></th>\n",
       "      <th colspan=\"7\" halign=\"left\">SPY</th>\n",
       "      <th colspan=\"7\" halign=\"left\">AGG</th>\n",
       "    </tr>\n",
       "    <tr>\n",
       "      <th></th>\n",
       "      <th>open</th>\n",
       "      <th>high</th>\n",
       "      <th>low</th>\n",
       "      <th>close</th>\n",
       "      <th>volume</th>\n",
       "      <th>trade_count</th>\n",
       "      <th>vwap</th>\n",
       "      <th>open</th>\n",
       "      <th>high</th>\n",
       "      <th>low</th>\n",
       "      <th>close</th>\n",
       "      <th>volume</th>\n",
       "      <th>trade_count</th>\n",
       "      <th>vwap</th>\n",
       "    </tr>\n",
       "  </thead>\n",
       "  <tbody>\n",
       "    <tr>\n",
       "      <th>2022-04-12</th>\n",
       "      <td>443.02</td>\n",
       "      <td>445.75</td>\n",
       "      <td>436.6501</td>\n",
       "      <td>438.29</td>\n",
       "      <td>84020734</td>\n",
       "      <td>694115</td>\n",
       "      <td>440.815476</td>\n",
       "      <td>104.83</td>\n",
       "      <td>104.92</td>\n",
       "      <td>104.58</td>\n",
       "      <td>104.61</td>\n",
       "      <td>8448652</td>\n",
       "      <td>29955</td>\n",
       "      <td>104.740856</td>\n",
       "    </tr>\n",
       "  </tbody>\n",
       "</table>\n",
       "</div>"
      ],
      "text/plain": [
       "               SPY                                                  \\\n",
       "              open    high       low   close    volume trade_count   \n",
       "2022-04-12  443.02  445.75  436.6501  438.29  84020734      694115   \n",
       "\n",
       "                           AGG                                               \\\n",
       "                  vwap    open    high     low   close   volume trade_count   \n",
       "2022-04-12  440.815476  104.83  104.92  104.58  104.61  8448652       29955   \n",
       "\n",
       "                        \n",
       "                  vwap  \n",
       "2022-04-12  104.740856  "
      ]
     },
     "execution_count": 16,
     "metadata": {},
     "output_type": "execute_result"
    }
   ],
   "source": [
    "# Use the Alpaca get_bars function to get current closing prices the portfolio\n",
    "# Be sure to set the `df` property after the function to format the response object as a DataFrame\n",
    "prices_df = alpaca.get_bars(\n",
    "    tickers,\n",
    "    timeframe,\n",
    "    start=start_date,\n",
    "    end=end_date\n",
    ").df\n",
    "\n",
    "# Reorganize the DataFrame\n",
    "# Separate ticker data with ticker symbol instead of the word 'symbol'\n",
    "SPY = prices_df[prices_df['symbol']=='SPY'].drop('symbol', axis=1)\n",
    "AGG = prices_df[prices_df['symbol']=='AGG'].drop('symbol', axis=1)\n",
    "# Concatenate the ticker DataFrames\n",
    "prices_df = pd.concat([SPY,AGG], axis=1, keys= ['SPY', 'AGG'])\n",
    "# For new prices dataframe, keep only the date component\n",
    "prices_df.index = prices_df.index.date\n",
    "# Review the first 5 rows of the Alpaca DataFrame\n",
    "prices_df.head()\n"
   ]
  },
  {
   "cell_type": "markdown",
   "metadata": {},
   "source": [
    "#### Step 5: Navigating the Alpaca response DataFrame, select the `SPY` and `AGG` closing prices, and store them as variables."
   ]
  },
  {
   "cell_type": "code",
   "execution_count": 17,
   "metadata": {},
   "outputs": [
    {
     "name": "stdout",
     "output_type": "stream",
     "text": [
      "104.61\n"
     ]
    }
   ],
   "source": [
    "# Access the closing price for AGG from the Alpaca DataFrame\n",
    "# Converting the value to a floating point number\n",
    "agg_close_price = float(prices_df['AGG']['close'])\n",
    "\n",
    "# Print the AGG closing price\n",
    "print(agg_close_price)\n"
   ]
  },
  {
   "cell_type": "code",
   "execution_count": 18,
   "metadata": {},
   "outputs": [
    {
     "name": "stdout",
     "output_type": "stream",
     "text": [
      "438.29\n"
     ]
    }
   ],
   "source": [
    "# Access the closing price for SPY from the Alpaca DataFrame\n",
    "# Converting the value to a floating point number\n",
    "spy_close_price = float(prices_df['SPY']['close'])\n",
    "\n",
    "# Print the SPY closing price\n",
    "print(spy_close_price)\n"
   ]
  },
  {
   "cell_type": "markdown",
   "metadata": {},
   "source": [
    "#### Step 6: Calculate the value, in US dollars, of the current amount of shares in each of the stock and bond portions of the portfolio, and print the results."
   ]
  },
  {
   "cell_type": "code",
   "execution_count": 19,
   "metadata": {},
   "outputs": [
    {
     "name": "stdout",
     "output_type": "stream",
     "text": [
      "20922.0\n"
     ]
    }
   ],
   "source": [
    "# Calculate the current value of the bond portion of the portfolio\n",
    "agg_value = agg_shares * agg_close_price\n",
    "\n",
    "# Print the current value of the bond portfolio\n",
    "print(agg_value)\n"
   ]
  },
  {
   "cell_type": "code",
   "execution_count": 20,
   "metadata": {},
   "outputs": [
    {
     "name": "stdout",
     "output_type": "stream",
     "text": [
      "48211.9\n"
     ]
    }
   ],
   "source": [
    "# Calculate the current value of the stock portion of the portfolio\n",
    "spy_value = spy_shares * spy_close_price\n",
    "\n",
    "# Print the current value of the stock portfolio\n",
    "print(spy_value)\n"
   ]
  },
  {
   "cell_type": "code",
   "execution_count": 21,
   "metadata": {},
   "outputs": [
    {
     "name": "stdout",
     "output_type": "stream",
     "text": [
      "69133.9\n"
     ]
    }
   ],
   "source": [
    "# Calculate the total value of the stock and bond portion of the portfolio\n",
    "total_stocks_bonds = agg_value + spy_value\n",
    "\n",
    "# Print the current balance of the stock and bond portion of the portfolio\n",
    "print(total_stocks_bonds)\n"
   ]
  },
  {
   "cell_type": "code",
   "execution_count": 22,
   "metadata": {},
   "outputs": [
    {
     "name": "stdout",
     "output_type": "stream",
     "text": [
      "135388.12\n"
     ]
    }
   ],
   "source": [
    "# Calculate the total value of the member's entire savings portfolio\n",
    "# Add the value of the cryptocurrency wallet to the value of the total stocks and bonds\n",
    "total_portfolio = total_crypto_wallet + total_stocks_bonds\n",
    "\n",
    "# Print current cryptocurrency wallet balance\n",
    "print(total_portfolio)\n"
   ]
  },
  {
   "cell_type": "markdown",
   "metadata": {},
   "source": [
    "### Evaluate the Emergency Fund\n",
    "\n",
    "In this section, you’ll use the valuations for the cryptocurrency wallet and for the stock and bond portions of the portfolio to determine if the credit union member has enough savings to build an emergency fund into their financial plan. To do this, complete the following steps:\n",
    "\n",
    "1. Create a Python list named `savings_data` that has two elements. The first element contains the total value of the cryptocurrency wallet. The second element contains the total value of the stock and bond portions of the portfolio.\n",
    "\n",
    "2. Use the `savings_data` list to create a Pandas DataFrame named `savings_df`, and then display this DataFrame. The function to create the DataFrame should take the following three parameters:\n",
    "\n",
    "    - `savings_data`: Use the list that you just created.\n",
    "\n",
    "    - `columns`: Set this parameter equal to a Python list with a single value called `amount`.\n",
    "\n",
    "    - `index`: Set this parameter equal to a Python list with the values of `crypto` and `stock/bond`.\n",
    "\n",
    "3. Use the `savings_df` DataFrame to plot a pie chart that visualizes the composition of the member’s portfolio. The y-axis of the pie chart uses `amount`. Be sure to add a title.\n",
    "\n",
    "4. Using Python, determine if the current portfolio has enough to create an emergency fund as part of the member’s financial plan. Ideally, an emergency fund should equal to three times the member’s monthly income. To do this, implement the following steps:\n",
    "\n",
    "    1. Create a variable named `emergency_fund_value`, and set it equal to three times the value of the member’s `monthly_income` of $12000. (You set this earlier in Part 1).\n",
    "\n",
    "    2. Create a series of three if statements to determine if the member’s total portfolio is large enough to fund the emergency portfolio:\n",
    "\n",
    "        1. If the total portfolio value is greater than the emergency fund value, display a message congratulating the member for having enough money in this fund.\n",
    "\n",
    "        2. Else if the total portfolio value is equal to the emergency fund value, display a message congratulating the member on reaching this important financial goal.\n",
    "\n",
    "        3. Else the total portfolio is less than the emergency fund value, so display a message showing how many dollars away the member is from reaching the goal. (Subtract the total portfolio value from the emergency fund value.)\n"
   ]
  },
  {
   "cell_type": "markdown",
   "metadata": {},
   "source": [
    "#### Step 1: Create a Python list named `savings_data` that has two elements. The first element contains the total value of the cryptocurrency wallet. The second element contains the total value of the stock and bond portions of the portfolio."
   ]
  },
  {
   "cell_type": "code",
   "execution_count": 23,
   "metadata": {},
   "outputs": [
    {
     "data": {
      "text/plain": [
       "[66254.22, 69133.9]"
      ]
     },
     "execution_count": 23,
     "metadata": {},
     "output_type": "execute_result"
    }
   ],
   "source": [
    "# Creating a list of saving data that includes both total crypto amount and total stocks and bonds amount\n",
    "savings_data = [total_crypto_wallet, total_stocks_bonds]\n",
    "\n",
    "# Review the savings_data list\n",
    "savings_data\n",
    "    "
   ]
  },
  {
   "cell_type": "markdown",
   "metadata": {},
   "source": [
    "#### Step 2: Use the `savings_data` list to create a Pandas DataFrame named `savings_df`, and then display this DataFrame. The function to create the DataFrame should take the following three parameters:\n",
    "\n",
    "- `savings_data`: Use the list that you just created.\n",
    "\n",
    "- `columns`: Set this parameter equal to a Python list with a single value called `amount`.\n",
    "\n",
    "- `index`: Set this parameter equal to a Python list with the values of `crypto` and `stock/bond`.\n"
   ]
  },
  {
   "cell_type": "code",
   "execution_count": 24,
   "metadata": {},
   "outputs": [
    {
     "data": {
      "text/html": [
       "<div>\n",
       "<style scoped>\n",
       "    .dataframe tbody tr th:only-of-type {\n",
       "        vertical-align: middle;\n",
       "    }\n",
       "\n",
       "    .dataframe tbody tr th {\n",
       "        vertical-align: top;\n",
       "    }\n",
       "\n",
       "    .dataframe thead th {\n",
       "        text-align: right;\n",
       "    }\n",
       "</style>\n",
       "<table border=\"1\" class=\"dataframe\">\n",
       "  <thead>\n",
       "    <tr style=\"text-align: right;\">\n",
       "      <th></th>\n",
       "      <th>amount</th>\n",
       "    </tr>\n",
       "  </thead>\n",
       "  <tbody>\n",
       "    <tr>\n",
       "      <th>crypto</th>\n",
       "      <td>66254.22</td>\n",
       "    </tr>\n",
       "    <tr>\n",
       "      <th>stock/bond</th>\n",
       "      <td>69133.90</td>\n",
       "    </tr>\n",
       "  </tbody>\n",
       "</table>\n",
       "</div>"
      ],
      "text/plain": [
       "              amount\n",
       "crypto      66254.22\n",
       "stock/bond  69133.90"
      ]
     },
     "metadata": {},
     "output_type": "display_data"
    }
   ],
   "source": [
    "# Create a Pandas DataFrame called savings_df \n",
    "savings_df = pd.DataFrame(savings_data, columns=['amount'], index = ['crypto', 'stock/bond'])\n",
    "\n",
    "# Display the savings_df DataFrame\n",
    "display(savings_df)\n"
   ]
  },
  {
   "cell_type": "markdown",
   "metadata": {},
   "source": [
    "#### Step 3: Use the `savings_df` DataFrame to plot a pie chart that visualizes the composition of the member’s portfolio. The y-axis of the pie chart uses `amount`. Be sure to add a title."
   ]
  },
  {
   "cell_type": "code",
   "execution_count": 25,
   "metadata": {},
   "outputs": [
    {
     "data": {
      "text/plain": [
       "<AxesSubplot:title={'center':'Portfolio Composition of 2022-04-12'}, ylabel='amount'>"
      ]
     },
     "execution_count": 25,
     "metadata": {},
     "output_type": "execute_result"
    },
    {
     "data": {
      "image/png": "[encoded data removed]",
      "text/plain": [
       "<Figure size 504x432 with 1 Axes>"
      ]
     },
     "metadata": {},
     "output_type": "display_data"
    }
   ],
   "source": [
    "# Plot the total value of the member's portfolio (crypto and stock/bond) in a pie chart\n",
    "savings_df.plot.pie(figsize=(7,6), y='amount', title='Portfolio Composition of 2022-04-12')\n"
   ]
  },
  {
   "cell_type": "markdown",
   "metadata": {},
   "source": [
    "#### Step 4: Using Python, determine if the current portfolio has enough to create an emergency fund as part of the member’s financial plan. Ideally, an emergency fund should equal to three times the member’s monthly income. To do this, implement the following steps:\n",
    "\n",
    "Step 1. Create a variable named `emergency_fund_value`, and set it equal to three times the value of the member’s `monthly_income` of 12000. (You set this earlier in Part 1).\n",
    "\n",
    "Step 2. Create a series of three if statements to determine if the member’s total portfolio is large enough to fund the emergency portfolio:\n",
    "\n",
    "* If the total portfolio value is greater than the emergency fund value, display a message congratulating the member for having enough money in this fund.\n",
    "\n",
    "* Else if the total portfolio value is equal to the emergency fund value, display a message congratulating the member on reaching this important financial goal.\n",
    "\n",
    "* Else the total portfolio is less than the emergency fund value, so display a message showing how many dollars away the member is from reaching the goal. (Subtract the total portfolio value from the emergency fund value.)\n"
   ]
  },
  {
   "cell_type": "markdown",
   "metadata": {},
   "source": [
    "##### Step 4-1: Create a variable named `emergency_fund_value`, and set it equal to three times the value of the member’s `monthly_income` of 12000. (You set this earlier in Part 1)."
   ]
  },
  {
   "cell_type": "code",
   "execution_count": 26,
   "metadata": {},
   "outputs": [],
   "source": [
    "# Create a variable named emergency_fund_value\n",
    "emergency_fund_value= monthly_income * 3\n"
   ]
  },
  {
   "cell_type": "markdown",
   "metadata": {},
   "source": [
    "##### Step 4-2: Create a series of three if statements to determine if the member’s total portfolio is large enough to fund the emergency portfolio:\n",
    "\n",
    "* If the total portfolio value is greater than the emergency fund value, display a message congratulating the member for having enough money in this fund.\n",
    "\n",
    "* Else if the total portfolio value is equal to the emergency fund value, display a message congratulating the member on reaching this important financial goal.\n",
    "\n",
    "* Else the total portfolio is less than the emergency fund value, so display a message showing how many dollars away the member is from reaching the goal. (Subtract the total portfolio value from the emergency fund value.)"
   ]
  },
  {
   "cell_type": "code",
   "execution_count": 27,
   "metadata": {},
   "outputs": [
    {
     "name": "stdout",
     "output_type": "stream",
     "text": [
      "Congratulations, your total portfolio is large enough to fund the emergency fund.\n"
     ]
    }
   ],
   "source": [
    "# Evaluate the possibility of creating an emergency fund with 3 conditions:\n",
    "if total_portfolio > emergency_fund_value:\n",
    "    print('Congratulations, your total portfolio is large enough to fund the emergency fund.')\n",
    "elif total_portfolio == emergency_fund_value:\n",
    "    print('Congratulations, you have reached your goal of having an emergency fund.')\n",
    "else:\n",
    "    print(f'You are currently ${(emergency_fund_value - total_portfolio)} away from reaching the goal.')\n"
   ]
  },
  {
   "cell_type": "markdown",
   "metadata": {},
   "source": [
    "## Part 2: Create a Financial Planner for Retirement"
   ]
  },
  {
   "cell_type": "markdown",
   "metadata": {},
   "source": [
    "### Create the Monte Carlo Simulation\n",
    "\n",
    "In this section, you’ll use the MCForecastTools library to create a Monte Carlo simulation for the member’s savings portfolio. To do this, complete the following steps:\n",
    "\n",
    "1. Make an API call via the Alpaca SDK to get 3 years of historical closing prices for a traditional 60/40 portfolio split: 60% stocks (SPY) and 40% bonds (AGG).\n",
    "\n",
    "2. Run a Monte Carlo simulation of 500 samples and 30 years for the 60/40 portfolio, and then plot the results.The following image shows the overlay line plot resulting from a simulation with these characteristics. However, because a random number generator is used to run each live Monte Carlo simulation, your image will differ slightly from this exact image:\n",
    "\n",
    "![A screenshot depicts the resulting plot.](Images/5-4-monte-carlo-line-plot.png)\n",
    "\n",
    "3. Plot the probability distribution of the Monte Carlo simulation. Plot the probability distribution of the Monte Carlo simulation. The following image shows the histogram plot resulting from a simulation with these characteristics. However, because a random number generator is used to run each live Monte Carlo simulation, your image will differ slightly from this exact image:\n",
    "\n",
    "![A screenshot depicts the histogram plot.](Images/5-4-monte-carlo-histogram.png)\n",
    "\n",
    "4. Generate the summary statistics for the Monte Carlo simulation.\n",
    "\n"
   ]
  },
  {
   "cell_type": "markdown",
   "metadata": {},
   "source": [
    "#### Step 1: Make an API call via the Alpaca SDK to get 3 years of historical closing prices for a traditional 60/40 portfolio split: 60% stocks (SPY) and 40% bonds (AGG)."
   ]
  },
  {
   "cell_type": "code",
   "execution_count": 28,
   "metadata": {},
   "outputs": [],
   "source": [
    "# Set start and end dates of 3 years back from my current date using ISO standard\n",
    "new_start_date = pd.Timestamp('2019-04-12', tz='America/New_York').isoformat()\n",
    "new_end_date = pd.Timestamp('2022-04-12', tz='America/New_York').isoformat()\n"
   ]
  },
  {
   "cell_type": "code",
   "execution_count": 29,
   "metadata": {},
   "outputs": [
    {
     "data": {
      "text/html": [
       "<div>\n",
       "<style scoped>\n",
       "    .dataframe tbody tr th:only-of-type {\n",
       "        vertical-align: middle;\n",
       "    }\n",
       "\n",
       "    .dataframe tbody tr th {\n",
       "        vertical-align: top;\n",
       "    }\n",
       "\n",
       "    .dataframe thead tr th {\n",
       "        text-align: left;\n",
       "    }\n",
       "\n",
       "    .dataframe thead tr:last-of-type th {\n",
       "        text-align: right;\n",
       "    }\n",
       "</style>\n",
       "<table border=\"1\" class=\"dataframe\">\n",
       "  <thead>\n",
       "    <tr>\n",
       "      <th></th>\n",
       "      <th colspan=\"7\" halign=\"left\">SPY</th>\n",
       "      <th colspan=\"7\" halign=\"left\">AGG</th>\n",
       "    </tr>\n",
       "    <tr>\n",
       "      <th></th>\n",
       "      <th>open</th>\n",
       "      <th>high</th>\n",
       "      <th>low</th>\n",
       "      <th>close</th>\n",
       "      <th>volume</th>\n",
       "      <th>trade_count</th>\n",
       "      <th>vwap</th>\n",
       "      <th>open</th>\n",
       "      <th>high</th>\n",
       "      <th>low</th>\n",
       "      <th>close</th>\n",
       "      <th>volume</th>\n",
       "      <th>trade_count</th>\n",
       "      <th>vwap</th>\n",
       "    </tr>\n",
       "    <tr>\n",
       "      <th>timestamp</th>\n",
       "      <th></th>\n",
       "      <th></th>\n",
       "      <th></th>\n",
       "      <th></th>\n",
       "      <th></th>\n",
       "      <th></th>\n",
       "      <th></th>\n",
       "      <th></th>\n",
       "      <th></th>\n",
       "      <th></th>\n",
       "      <th></th>\n",
       "      <th></th>\n",
       "      <th></th>\n",
       "      <th></th>\n",
       "    </tr>\n",
       "  </thead>\n",
       "  <tbody>\n",
       "    <tr>\n",
       "      <th>2019-04-12 04:00:00+00:00</th>\n",
       "      <td>290.01</td>\n",
       "      <td>290.470</td>\n",
       "      <td>288.261</td>\n",
       "      <td>290.16</td>\n",
       "      <td>69835782</td>\n",
       "      <td>232166</td>\n",
       "      <td>289.776012</td>\n",
       "      <td>108.26</td>\n",
       "      <td>108.3500</td>\n",
       "      <td>108.22</td>\n",
       "      <td>108.27</td>\n",
       "      <td>2430609</td>\n",
       "      <td>11376</td>\n",
       "      <td>108.269606</td>\n",
       "    </tr>\n",
       "    <tr>\n",
       "      <th>2019-04-15 04:00:00+00:00</th>\n",
       "      <td>290.27</td>\n",
       "      <td>290.350</td>\n",
       "      <td>289.075</td>\n",
       "      <td>289.97</td>\n",
       "      <td>50222730</td>\n",
       "      <td>199622</td>\n",
       "      <td>289.773677</td>\n",
       "      <td>108.21</td>\n",
       "      <td>108.3000</td>\n",
       "      <td>108.21</td>\n",
       "      <td>108.25</td>\n",
       "      <td>2546204</td>\n",
       "      <td>10053</td>\n",
       "      <td>108.253507</td>\n",
       "    </tr>\n",
       "    <tr>\n",
       "      <th>2019-04-16 04:00:00+00:00</th>\n",
       "      <td>290.96</td>\n",
       "      <td>291.010</td>\n",
       "      <td>289.500</td>\n",
       "      <td>290.16</td>\n",
       "      <td>52154597</td>\n",
       "      <td>206469</td>\n",
       "      <td>290.277078</td>\n",
       "      <td>108.12</td>\n",
       "      <td>108.2100</td>\n",
       "      <td>108.02</td>\n",
       "      <td>108.06</td>\n",
       "      <td>4093950</td>\n",
       "      <td>12649</td>\n",
       "      <td>108.108731</td>\n",
       "    </tr>\n",
       "    <tr>\n",
       "      <th>2019-04-17 04:00:00+00:00</th>\n",
       "      <td>291.41</td>\n",
       "      <td>291.425</td>\n",
       "      <td>288.990</td>\n",
       "      <td>289.45</td>\n",
       "      <td>58268470</td>\n",
       "      <td>245037</td>\n",
       "      <td>289.770682</td>\n",
       "      <td>108.09</td>\n",
       "      <td>108.1899</td>\n",
       "      <td>108.05</td>\n",
       "      <td>108.05</td>\n",
       "      <td>3390171</td>\n",
       "      <td>9569</td>\n",
       "      <td>108.090758</td>\n",
       "    </tr>\n",
       "    <tr>\n",
       "      <th>2019-04-18 04:00:00+00:00</th>\n",
       "      <td>290.12</td>\n",
       "      <td>290.320</td>\n",
       "      <td>288.660</td>\n",
       "      <td>290.02</td>\n",
       "      <td>69414428</td>\n",
       "      <td>231296</td>\n",
       "      <td>289.794161</td>\n",
       "      <td>108.23</td>\n",
       "      <td>108.2900</td>\n",
       "      <td>108.16</td>\n",
       "      <td>108.19</td>\n",
       "      <td>2217221</td>\n",
       "      <td>8388</td>\n",
       "      <td>108.211849</td>\n",
       "    </tr>\n",
       "  </tbody>\n",
       "</table>\n",
       "</div>"
      ],
      "text/plain": [
       "                              SPY                                      \\\n",
       "                             open     high      low   close    volume   \n",
       "timestamp                                                               \n",
       "2019-04-12 04:00:00+00:00  290.01  290.470  288.261  290.16  69835782   \n",
       "2019-04-15 04:00:00+00:00  290.27  290.350  289.075  289.97  50222730   \n",
       "2019-04-16 04:00:00+00:00  290.96  291.010  289.500  290.16  52154597   \n",
       "2019-04-17 04:00:00+00:00  291.41  291.425  288.990  289.45  58268470   \n",
       "2019-04-18 04:00:00+00:00  290.12  290.320  288.660  290.02  69414428   \n",
       "\n",
       "                                                      AGG                    \\\n",
       "                          trade_count        vwap    open      high     low   \n",
       "timestamp                                                                     \n",
       "2019-04-12 04:00:00+00:00      232166  289.776012  108.26  108.3500  108.22   \n",
       "2019-04-15 04:00:00+00:00      199622  289.773677  108.21  108.3000  108.21   \n",
       "2019-04-16 04:00:00+00:00      206469  290.277078  108.12  108.2100  108.02   \n",
       "2019-04-17 04:00:00+00:00      245037  289.770682  108.09  108.1899  108.05   \n",
       "2019-04-18 04:00:00+00:00      231296  289.794161  108.23  108.2900  108.16   \n",
       "\n",
       "                                                                    \n",
       "                            close   volume trade_count        vwap  \n",
       "timestamp                                                           \n",
       "2019-04-12 04:00:00+00:00  108.27  2430609       11376  108.269606  \n",
       "2019-04-15 04:00:00+00:00  108.25  2546204       10053  108.253507  \n",
       "2019-04-16 04:00:00+00:00  108.06  4093950       12649  108.108731  \n",
       "2019-04-17 04:00:00+00:00  108.05  3390171        9569  108.090758  \n",
       "2019-04-18 04:00:00+00:00  108.19  2217221        8388  108.211849  "
      ]
     },
     "metadata": {},
     "output_type": "display_data"
    },
    {
     "data": {
      "text/html": [
       "<div>\n",
       "<style scoped>\n",
       "    .dataframe tbody tr th:only-of-type {\n",
       "        vertical-align: middle;\n",
       "    }\n",
       "\n",
       "    .dataframe tbody tr th {\n",
       "        vertical-align: top;\n",
       "    }\n",
       "\n",
       "    .dataframe thead tr th {\n",
       "        text-align: left;\n",
       "    }\n",
       "\n",
       "    .dataframe thead tr:last-of-type th {\n",
       "        text-align: right;\n",
       "    }\n",
       "</style>\n",
       "<table border=\"1\" class=\"dataframe\">\n",
       "  <thead>\n",
       "    <tr>\n",
       "      <th></th>\n",
       "      <th colspan=\"7\" halign=\"left\">SPY</th>\n",
       "      <th colspan=\"7\" halign=\"left\">AGG</th>\n",
       "    </tr>\n",
       "    <tr>\n",
       "      <th></th>\n",
       "      <th>open</th>\n",
       "      <th>high</th>\n",
       "      <th>low</th>\n",
       "      <th>close</th>\n",
       "      <th>volume</th>\n",
       "      <th>trade_count</th>\n",
       "      <th>vwap</th>\n",
       "      <th>open</th>\n",
       "      <th>high</th>\n",
       "      <th>low</th>\n",
       "      <th>close</th>\n",
       "      <th>volume</th>\n",
       "      <th>trade_count</th>\n",
       "      <th>vwap</th>\n",
       "    </tr>\n",
       "    <tr>\n",
       "      <th>timestamp</th>\n",
       "      <th></th>\n",
       "      <th></th>\n",
       "      <th></th>\n",
       "      <th></th>\n",
       "      <th></th>\n",
       "      <th></th>\n",
       "      <th></th>\n",
       "      <th></th>\n",
       "      <th></th>\n",
       "      <th></th>\n",
       "      <th></th>\n",
       "      <th></th>\n",
       "      <th></th>\n",
       "      <th></th>\n",
       "    </tr>\n",
       "  </thead>\n",
       "  <tbody>\n",
       "    <tr>\n",
       "      <th>2022-04-06 04:00:00+00:00</th>\n",
       "      <td>446.87</td>\n",
       "      <td>448.93</td>\n",
       "      <td>443.4700</td>\n",
       "      <td>446.52</td>\n",
       "      <td>105592595</td>\n",
       "      <td>901634</td>\n",
       "      <td>446.345270</td>\n",
       "      <td>105.20</td>\n",
       "      <td>105.805</td>\n",
       "      <td>105.115</td>\n",
       "      <td>105.49</td>\n",
       "      <td>13322630</td>\n",
       "      <td>47090</td>\n",
       "      <td>105.463015</td>\n",
       "    </tr>\n",
       "    <tr>\n",
       "      <th>2022-04-07 04:00:00+00:00</th>\n",
       "      <td>445.67</td>\n",
       "      <td>450.69</td>\n",
       "      <td>443.5300</td>\n",
       "      <td>448.77</td>\n",
       "      <td>77538519</td>\n",
       "      <td>628673</td>\n",
       "      <td>447.098209</td>\n",
       "      <td>105.38</td>\n",
       "      <td>105.510</td>\n",
       "      <td>105.130</td>\n",
       "      <td>105.26</td>\n",
       "      <td>7921117</td>\n",
       "      <td>25631</td>\n",
       "      <td>105.278761</td>\n",
       "    </tr>\n",
       "    <tr>\n",
       "      <th>2022-04-08 04:00:00+00:00</th>\n",
       "      <td>448.04</td>\n",
       "      <td>450.63</td>\n",
       "      <td>445.9400</td>\n",
       "      <td>447.57</td>\n",
       "      <td>79148376</td>\n",
       "      <td>573491</td>\n",
       "      <td>448.250805</td>\n",
       "      <td>104.82</td>\n",
       "      <td>105.010</td>\n",
       "      <td>104.615</td>\n",
       "      <td>104.73</td>\n",
       "      <td>6501822</td>\n",
       "      <td>24900</td>\n",
       "      <td>104.804999</td>\n",
       "    </tr>\n",
       "    <tr>\n",
       "      <th>2022-04-11 04:00:00+00:00</th>\n",
       "      <td>444.11</td>\n",
       "      <td>445.00</td>\n",
       "      <td>439.3900</td>\n",
       "      <td>439.92</td>\n",
       "      <td>89825549</td>\n",
       "      <td>779421</td>\n",
       "      <td>442.206374</td>\n",
       "      <td>104.44</td>\n",
       "      <td>104.505</td>\n",
       "      <td>104.170</td>\n",
       "      <td>104.28</td>\n",
       "      <td>8377902</td>\n",
       "      <td>29767</td>\n",
       "      <td>104.312835</td>\n",
       "    </tr>\n",
       "    <tr>\n",
       "      <th>2022-04-12 04:00:00+00:00</th>\n",
       "      <td>443.02</td>\n",
       "      <td>445.75</td>\n",
       "      <td>436.6501</td>\n",
       "      <td>438.29</td>\n",
       "      <td>84020734</td>\n",
       "      <td>694115</td>\n",
       "      <td>440.815476</td>\n",
       "      <td>104.83</td>\n",
       "      <td>104.920</td>\n",
       "      <td>104.580</td>\n",
       "      <td>104.61</td>\n",
       "      <td>8448652</td>\n",
       "      <td>29955</td>\n",
       "      <td>104.740856</td>\n",
       "    </tr>\n",
       "  </tbody>\n",
       "</table>\n",
       "</div>"
      ],
      "text/plain": [
       "                              SPY                                       \\\n",
       "                             open    high       low   close     volume   \n",
       "timestamp                                                                \n",
       "2022-04-06 04:00:00+00:00  446.87  448.93  443.4700  446.52  105592595   \n",
       "2022-04-07 04:00:00+00:00  445.67  450.69  443.5300  448.77   77538519   \n",
       "2022-04-08 04:00:00+00:00  448.04  450.63  445.9400  447.57   79148376   \n",
       "2022-04-11 04:00:00+00:00  444.11  445.00  439.3900  439.92   89825549   \n",
       "2022-04-12 04:00:00+00:00  443.02  445.75  436.6501  438.29   84020734   \n",
       "\n",
       "                                                      AGG                    \\\n",
       "                          trade_count        vwap    open     high      low   \n",
       "timestamp                                                                     \n",
       "2022-04-06 04:00:00+00:00      901634  446.345270  105.20  105.805  105.115   \n",
       "2022-04-07 04:00:00+00:00      628673  447.098209  105.38  105.510  105.130   \n",
       "2022-04-08 04:00:00+00:00      573491  448.250805  104.82  105.010  104.615   \n",
       "2022-04-11 04:00:00+00:00      779421  442.206374  104.44  104.505  104.170   \n",
       "2022-04-12 04:00:00+00:00      694115  440.815476  104.83  104.920  104.580   \n",
       "\n",
       "                                                                     \n",
       "                            close    volume trade_count        vwap  \n",
       "timestamp                                                            \n",
       "2022-04-06 04:00:00+00:00  105.49  13322630       47090  105.463015  \n",
       "2022-04-07 04:00:00+00:00  105.26   7921117       25631  105.278761  \n",
       "2022-04-08 04:00:00+00:00  104.73   6501822       24900  104.804999  \n",
       "2022-04-11 04:00:00+00:00  104.28   8377902       29767  104.312835  \n",
       "2022-04-12 04:00:00+00:00  104.61   8448652       29955  104.740856  "
      ]
     },
     "metadata": {},
     "output_type": "display_data"
    }
   ],
   "source": [
    "# Set the tickers for both the bond and stock portion of the portfolio\n",
    "tickers = ['SPY', 'AGG']\n",
    "# Set timeframe to 1Day\n",
    "timeframe = '1Day'\n",
    "\n",
    "# Use the Alpaca get_bars function to make the API call to get the 3 years worth of pricing data\n",
    "prices_3years_df = alpaca.get_bars(\n",
    "    tickers,\n",
    "    timeframe,\n",
    "    start=new_start_date,\n",
    "    end=new_end_date,\n",
    ").df\n",
    "\n",
    "# Reorganize the DataFrame\n",
    "# Separate ticker data into their respective tickers\n",
    "SPY = prices_3years_df[prices_3years_df['symbol']=='SPY'].drop('symbol', axis=1)\n",
    "AGG = prices_3years_df[prices_3years_df['symbol']=='AGG'].drop('symbol', axis=1)\n",
    "\n",
    "# Concatenate the ticker DataFrames\n",
    "prices_3years_df = pd.concat([SPY,AGG], axis=1, keys= ['SPY', 'AGG'])\n",
    "\n",
    "# Display both the first and last five rows of the DataFrame\n",
    "display(prices_3years_df.head())\n",
    "display(prices_3years_df.tail())\n"
   ]
  },
  {
   "cell_type": "markdown",
   "metadata": {},
   "source": [
    "#### Step 2: Run a Monte Carlo simulation of 500 samples and 30 years for the 60/40 portfolio, and then plot the results."
   ]
  },
  {
   "cell_type": "code",
   "execution_count": 30,
   "metadata": {},
   "outputs": [
    {
     "data": {
      "text/html": [
       "<div>\n",
       "<style scoped>\n",
       "    .dataframe tbody tr th:only-of-type {\n",
       "        vertical-align: middle;\n",
       "    }\n",
       "\n",
       "    .dataframe tbody tr th {\n",
       "        vertical-align: top;\n",
       "    }\n",
       "\n",
       "    .dataframe thead tr th {\n",
       "        text-align: left;\n",
       "    }\n",
       "\n",
       "    .dataframe thead tr:last-of-type th {\n",
       "        text-align: right;\n",
       "    }\n",
       "</style>\n",
       "<table border=\"1\" class=\"dataframe\">\n",
       "  <thead>\n",
       "    <tr>\n",
       "      <th></th>\n",
       "      <th colspan=\"8\" halign=\"left\">SPY</th>\n",
       "      <th colspan=\"8\" halign=\"left\">AGG</th>\n",
       "    </tr>\n",
       "    <tr>\n",
       "      <th></th>\n",
       "      <th>open</th>\n",
       "      <th>high</th>\n",
       "      <th>low</th>\n",
       "      <th>close</th>\n",
       "      <th>volume</th>\n",
       "      <th>trade_count</th>\n",
       "      <th>vwap</th>\n",
       "      <th>daily_return</th>\n",
       "      <th>open</th>\n",
       "      <th>high</th>\n",
       "      <th>low</th>\n",
       "      <th>close</th>\n",
       "      <th>volume</th>\n",
       "      <th>trade_count</th>\n",
       "      <th>vwap</th>\n",
       "      <th>daily_return</th>\n",
       "    </tr>\n",
       "    <tr>\n",
       "      <th>timestamp</th>\n",
       "      <th></th>\n",
       "      <th></th>\n",
       "      <th></th>\n",
       "      <th></th>\n",
       "      <th></th>\n",
       "      <th></th>\n",
       "      <th></th>\n",
       "      <th></th>\n",
       "      <th></th>\n",
       "      <th></th>\n",
       "      <th></th>\n",
       "      <th></th>\n",
       "      <th></th>\n",
       "      <th></th>\n",
       "      <th></th>\n",
       "      <th></th>\n",
       "    </tr>\n",
       "  </thead>\n",
       "  <tbody>\n",
       "    <tr>\n",
       "      <th>2019-04-12 04:00:00+00:00</th>\n",
       "      <td>290.01</td>\n",
       "      <td>290.470</td>\n",
       "      <td>288.261</td>\n",
       "      <td>290.16</td>\n",
       "      <td>69835782</td>\n",
       "      <td>232166</td>\n",
       "      <td>289.776012</td>\n",
       "      <td>NaN</td>\n",
       "      <td>108.26</td>\n",
       "      <td>108.3500</td>\n",
       "      <td>108.22</td>\n",
       "      <td>108.27</td>\n",
       "      <td>2430609</td>\n",
       "      <td>11376</td>\n",
       "      <td>108.269606</td>\n",
       "      <td>NaN</td>\n",
       "    </tr>\n",
       "    <tr>\n",
       "      <th>2019-04-15 04:00:00+00:00</th>\n",
       "      <td>290.27</td>\n",
       "      <td>290.350</td>\n",
       "      <td>289.075</td>\n",
       "      <td>289.97</td>\n",
       "      <td>50222730</td>\n",
       "      <td>199622</td>\n",
       "      <td>289.773677</td>\n",
       "      <td>-0.000655</td>\n",
       "      <td>108.21</td>\n",
       "      <td>108.3000</td>\n",
       "      <td>108.21</td>\n",
       "      <td>108.25</td>\n",
       "      <td>2546204</td>\n",
       "      <td>10053</td>\n",
       "      <td>108.253507</td>\n",
       "      <td>-0.000185</td>\n",
       "    </tr>\n",
       "    <tr>\n",
       "      <th>2019-04-16 04:00:00+00:00</th>\n",
       "      <td>290.96</td>\n",
       "      <td>291.010</td>\n",
       "      <td>289.500</td>\n",
       "      <td>290.16</td>\n",
       "      <td>52154597</td>\n",
       "      <td>206469</td>\n",
       "      <td>290.277078</td>\n",
       "      <td>0.000655</td>\n",
       "      <td>108.12</td>\n",
       "      <td>108.2100</td>\n",
       "      <td>108.02</td>\n",
       "      <td>108.06</td>\n",
       "      <td>4093950</td>\n",
       "      <td>12649</td>\n",
       "      <td>108.108731</td>\n",
       "      <td>-0.001755</td>\n",
       "    </tr>\n",
       "    <tr>\n",
       "      <th>2019-04-17 04:00:00+00:00</th>\n",
       "      <td>291.41</td>\n",
       "      <td>291.425</td>\n",
       "      <td>288.990</td>\n",
       "      <td>289.45</td>\n",
       "      <td>58268470</td>\n",
       "      <td>245037</td>\n",
       "      <td>289.770682</td>\n",
       "      <td>-0.002447</td>\n",
       "      <td>108.09</td>\n",
       "      <td>108.1899</td>\n",
       "      <td>108.05</td>\n",
       "      <td>108.05</td>\n",
       "      <td>3390171</td>\n",
       "      <td>9569</td>\n",
       "      <td>108.090758</td>\n",
       "      <td>-0.000093</td>\n",
       "    </tr>\n",
       "    <tr>\n",
       "      <th>2019-04-18 04:00:00+00:00</th>\n",
       "      <td>290.12</td>\n",
       "      <td>290.320</td>\n",
       "      <td>288.660</td>\n",
       "      <td>290.02</td>\n",
       "      <td>69414428</td>\n",
       "      <td>231296</td>\n",
       "      <td>289.794161</td>\n",
       "      <td>0.001969</td>\n",
       "      <td>108.23</td>\n",
       "      <td>108.2900</td>\n",
       "      <td>108.16</td>\n",
       "      <td>108.19</td>\n",
       "      <td>2217221</td>\n",
       "      <td>8388</td>\n",
       "      <td>108.211849</td>\n",
       "      <td>0.001296</td>\n",
       "    </tr>\n",
       "  </tbody>\n",
       "</table>\n",
       "</div>"
      ],
      "text/plain": [
       "                              SPY                                      \\\n",
       "                             open     high      low   close    volume   \n",
       "timestamp                                                               \n",
       "2019-04-12 04:00:00+00:00  290.01  290.470  288.261  290.16  69835782   \n",
       "2019-04-15 04:00:00+00:00  290.27  290.350  289.075  289.97  50222730   \n",
       "2019-04-16 04:00:00+00:00  290.96  291.010  289.500  290.16  52154597   \n",
       "2019-04-17 04:00:00+00:00  291.41  291.425  288.990  289.45  58268470   \n",
       "2019-04-18 04:00:00+00:00  290.12  290.320  288.660  290.02  69414428   \n",
       "\n",
       "                                                                   AGG  \\\n",
       "                          trade_count        vwap daily_return    open   \n",
       "timestamp                                                                \n",
       "2019-04-12 04:00:00+00:00      232166  289.776012          NaN  108.26   \n",
       "2019-04-15 04:00:00+00:00      199622  289.773677    -0.000655  108.21   \n",
       "2019-04-16 04:00:00+00:00      206469  290.277078     0.000655  108.12   \n",
       "2019-04-17 04:00:00+00:00      245037  289.770682    -0.002447  108.09   \n",
       "2019-04-18 04:00:00+00:00      231296  289.794161     0.001969  108.23   \n",
       "\n",
       "                                                                          \\\n",
       "                               high     low   close   volume trade_count   \n",
       "timestamp                                                                  \n",
       "2019-04-12 04:00:00+00:00  108.3500  108.22  108.27  2430609       11376   \n",
       "2019-04-15 04:00:00+00:00  108.3000  108.21  108.25  2546204       10053   \n",
       "2019-04-16 04:00:00+00:00  108.2100  108.02  108.06  4093950       12649   \n",
       "2019-04-17 04:00:00+00:00  108.1899  108.05  108.05  3390171        9569   \n",
       "2019-04-18 04:00:00+00:00  108.2900  108.16  108.19  2217221        8388   \n",
       "\n",
       "                                                    \n",
       "                                 vwap daily_return  \n",
       "timestamp                                           \n",
       "2019-04-12 04:00:00+00:00  108.269606          NaN  \n",
       "2019-04-15 04:00:00+00:00  108.253507    -0.000185  \n",
       "2019-04-16 04:00:00+00:00  108.108731    -0.001755  \n",
       "2019-04-17 04:00:00+00:00  108.090758    -0.000093  \n",
       "2019-04-18 04:00:00+00:00  108.211849     0.001296  "
      ]
     },
     "execution_count": 30,
     "metadata": {},
     "output_type": "execute_result"
    }
   ],
   "source": [
    "# Configure the Monte Carlo simulation to forecast 30 years cumulative returns\n",
    "# The weights should be split 60% to SPY and 40% to AGG.\n",
    "# Run 500 samples.\n",
    "MC_spy_agg = MCSimulation(\n",
    "    portfolio_data = prices_3years_df,\n",
    "    weights = [.6,.4],\n",
    "    num_simulation = 500,\n",
    "    num_trading_days = 252*30\n",
    ")\n",
    "# Review the simulation input data\n",
    "MC_spy_agg.portfolio_data.head()\n"
   ]
  },
  {
   "cell_type": "code",
   "execution_count": 31,
   "metadata": {},
   "outputs": [
    {
     "name": "stdout",
     "output_type": "stream",
     "text": [
      "Running Monte Carlo simulation number 0.\n",
      "Running Monte Carlo simulation number 10.\n",
      "Running Monte Carlo simulation number 20.\n",
      "Running Monte Carlo simulation number 30.\n",
      "Running Monte Carlo simulation number 40.\n",
      "Running Monte Carlo simulation number 50.\n",
      "Running Monte Carlo simulation number 60.\n",
      "Running Monte Carlo simulation number 70.\n",
      "Running Monte Carlo simulation number 80.\n",
      "Running Monte Carlo simulation number 90.\n",
      "Running Monte Carlo simulation number 100.\n"
     ]
    },
    {
     "name": "stderr",
     "output_type": "stream",
     "text": [
      "/Users/yjun_ln/Desktop/financial_planning/MCForecastTools.py:117: PerformanceWarning: DataFrame is highly fragmented.  This is usually the result of calling `frame.insert` many times, which has poor performance.  Consider joining all columns at once using pd.concat(axis=1) instead.  To get a de-fragmented frame, use `newframe = frame.copy()`\n",
      "  portfolio_cumulative_returns[n] = (1 + sim_df.fillna(0)).cumprod()\n"
     ]
    },
    {
     "name": "stdout",
     "output_type": "stream",
     "text": [
      "Running Monte Carlo simulation number 110.\n",
      "Running Monte Carlo simulation number 120.\n",
      "Running Monte Carlo simulation number 130.\n",
      "Running Monte Carlo simulation number 140.\n",
      "Running Monte Carlo simulation number 150.\n",
      "Running Monte Carlo simulation number 160.\n",
      "Running Monte Carlo simulation number 170.\n",
      "Running Monte Carlo simulation number 180.\n",
      "Running Monte Carlo simulation number 190.\n",
      "Running Monte Carlo simulation number 200.\n",
      "Running Monte Carlo simulation number 210.\n",
      "Running Monte Carlo simulation number 220.\n",
      "Running Monte Carlo simulation number 230.\n",
      "Running Monte Carlo simulation number 240.\n",
      "Running Monte Carlo simulation number 250.\n",
      "Running Monte Carlo simulation number 260.\n",
      "Running Monte Carlo simulation number 270.\n",
      "Running Monte Carlo simulation number 280.\n",
      "Running Monte Carlo simulation number 290.\n",
      "Running Monte Carlo simulation number 300.\n",
      "Running Monte Carlo simulation number 310.\n",
      "Running Monte Carlo simulation number 320.\n",
      "Running Monte Carlo simulation number 330.\n",
      "Running Monte Carlo simulation number 340.\n",
      "Running Monte Carlo simulation number 350.\n",
      "Running Monte Carlo simulation number 360.\n",
      "Running Monte Carlo simulation number 370.\n",
      "Running Monte Carlo simulation number 380.\n",
      "Running Monte Carlo simulation number 390.\n",
      "Running Monte Carlo simulation number 400.\n",
      "Running Monte Carlo simulation number 410.\n",
      "Running Monte Carlo simulation number 420.\n",
      "Running Monte Carlo simulation number 430.\n",
      "Running Monte Carlo simulation number 440.\n",
      "Running Monte Carlo simulation number 450.\n",
      "Running Monte Carlo simulation number 460.\n",
      "Running Monte Carlo simulation number 470.\n",
      "Running Monte Carlo simulation number 480.\n",
      "Running Monte Carlo simulation number 490.\n"
     ]
    },
    {
     "data": {
      "text/html": [
       "<div>\n",
       "<style scoped>\n",
       "    .dataframe tbody tr th:only-of-type {\n",
       "        vertical-align: middle;\n",
       "    }\n",
       "\n",
       "    .dataframe tbody tr th {\n",
       "        vertical-align: top;\n",
       "    }\n",
       "\n",
       "    .dataframe thead th {\n",
       "        text-align: right;\n",
       "    }\n",
       "</style>\n",
       "<table border=\"1\" class=\"dataframe\">\n",
       "  <thead>\n",
       "    <tr style=\"text-align: right;\">\n",
       "      <th></th>\n",
       "      <th>0</th>\n",
       "      <th>1</th>\n",
       "      <th>2</th>\n",
       "      <th>3</th>\n",
       "      <th>4</th>\n",
       "      <th>5</th>\n",
       "      <th>6</th>\n",
       "      <th>7</th>\n",
       "      <th>8</th>\n",
       "      <th>9</th>\n",
       "      <th>...</th>\n",
       "      <th>490</th>\n",
       "      <th>491</th>\n",
       "      <th>492</th>\n",
       "      <th>493</th>\n",
       "      <th>494</th>\n",
       "      <th>495</th>\n",
       "      <th>496</th>\n",
       "      <th>497</th>\n",
       "      <th>498</th>\n",
       "      <th>499</th>\n",
       "    </tr>\n",
       "  </thead>\n",
       "  <tbody>\n",
       "    <tr>\n",
       "      <th>0</th>\n",
       "      <td>1.000000</td>\n",
       "      <td>1.000000</td>\n",
       "      <td>1.000000</td>\n",
       "      <td>1.000000</td>\n",
       "      <td>1.000000</td>\n",
       "      <td>1.000000</td>\n",
       "      <td>1.000000</td>\n",
       "      <td>1.000000</td>\n",
       "      <td>1.000000</td>\n",
       "      <td>1.000000</td>\n",
       "      <td>...</td>\n",
       "      <td>1.000000</td>\n",
       "      <td>1.000000</td>\n",
       "      <td>1.000000</td>\n",
       "      <td>1.000000</td>\n",
       "      <td>1.000000</td>\n",
       "      <td>1.000000</td>\n",
       "      <td>1.000000</td>\n",
       "      <td>1.000000</td>\n",
       "      <td>1.000000</td>\n",
       "      <td>1.000000</td>\n",
       "    </tr>\n",
       "    <tr>\n",
       "      <th>1</th>\n",
       "      <td>1.001422</td>\n",
       "      <td>0.994262</td>\n",
       "      <td>1.009153</td>\n",
       "      <td>0.992489</td>\n",
       "      <td>1.014071</td>\n",
       "      <td>0.992304</td>\n",
       "      <td>1.004027</td>\n",
       "      <td>0.989985</td>\n",
       "      <td>0.992363</td>\n",
       "      <td>1.001153</td>\n",
       "      <td>...</td>\n",
       "      <td>1.005890</td>\n",
       "      <td>1.007976</td>\n",
       "      <td>1.009638</td>\n",
       "      <td>0.992782</td>\n",
       "      <td>0.995791</td>\n",
       "      <td>0.973541</td>\n",
       "      <td>0.991353</td>\n",
       "      <td>1.002027</td>\n",
       "      <td>0.988289</td>\n",
       "      <td>1.001936</td>\n",
       "    </tr>\n",
       "    <tr>\n",
       "      <th>2</th>\n",
       "      <td>1.004772</td>\n",
       "      <td>0.992597</td>\n",
       "      <td>1.007914</td>\n",
       "      <td>0.990689</td>\n",
       "      <td>1.007236</td>\n",
       "      <td>0.992137</td>\n",
       "      <td>0.993973</td>\n",
       "      <td>1.009452</td>\n",
       "      <td>0.996350</td>\n",
       "      <td>0.997217</td>\n",
       "      <td>...</td>\n",
       "      <td>0.999046</td>\n",
       "      <td>1.020284</td>\n",
       "      <td>1.014704</td>\n",
       "      <td>0.997124</td>\n",
       "      <td>0.993253</td>\n",
       "      <td>0.975917</td>\n",
       "      <td>0.978969</td>\n",
       "      <td>0.998377</td>\n",
       "      <td>0.986204</td>\n",
       "      <td>0.999673</td>\n",
       "    </tr>\n",
       "    <tr>\n",
       "      <th>3</th>\n",
       "      <td>0.995353</td>\n",
       "      <td>1.009868</td>\n",
       "      <td>1.008164</td>\n",
       "      <td>0.995643</td>\n",
       "      <td>1.011134</td>\n",
       "      <td>0.992671</td>\n",
       "      <td>0.996483</td>\n",
       "      <td>1.009670</td>\n",
       "      <td>0.989256</td>\n",
       "      <td>0.996900</td>\n",
       "      <td>...</td>\n",
       "      <td>0.995097</td>\n",
       "      <td>1.012930</td>\n",
       "      <td>1.015638</td>\n",
       "      <td>1.009468</td>\n",
       "      <td>1.000305</td>\n",
       "      <td>0.962665</td>\n",
       "      <td>0.974302</td>\n",
       "      <td>0.995797</td>\n",
       "      <td>1.002397</td>\n",
       "      <td>1.004924</td>\n",
       "    </tr>\n",
       "    <tr>\n",
       "      <th>4</th>\n",
       "      <td>1.004510</td>\n",
       "      <td>1.016755</td>\n",
       "      <td>0.993992</td>\n",
       "      <td>0.994528</td>\n",
       "      <td>1.005429</td>\n",
       "      <td>1.006623</td>\n",
       "      <td>1.007940</td>\n",
       "      <td>1.016098</td>\n",
       "      <td>0.983136</td>\n",
       "      <td>1.016638</td>\n",
       "      <td>...</td>\n",
       "      <td>0.996509</td>\n",
       "      <td>1.005199</td>\n",
       "      <td>1.023737</td>\n",
       "      <td>1.013635</td>\n",
       "      <td>0.986030</td>\n",
       "      <td>0.955979</td>\n",
       "      <td>0.974451</td>\n",
       "      <td>0.995171</td>\n",
       "      <td>0.998059</td>\n",
       "      <td>1.004567</td>\n",
       "    </tr>\n",
       "    <tr>\n",
       "      <th>...</th>\n",
       "      <td>...</td>\n",
       "      <td>...</td>\n",
       "      <td>...</td>\n",
       "      <td>...</td>\n",
       "      <td>...</td>\n",
       "      <td>...</td>\n",
       "      <td>...</td>\n",
       "      <td>...</td>\n",
       "      <td>...</td>\n",
       "      <td>...</td>\n",
       "      <td>...</td>\n",
       "      <td>...</td>\n",
       "      <td>...</td>\n",
       "      <td>...</td>\n",
       "      <td>...</td>\n",
       "      <td>...</td>\n",
       "      <td>...</td>\n",
       "      <td>...</td>\n",
       "      <td>...</td>\n",
       "      <td>...</td>\n",
       "      <td>...</td>\n",
       "    </tr>\n",
       "    <tr>\n",
       "      <th>7556</th>\n",
       "      <td>3.700624</td>\n",
       "      <td>14.981865</td>\n",
       "      <td>18.781025</td>\n",
       "      <td>10.608744</td>\n",
       "      <td>4.013269</td>\n",
       "      <td>103.189714</td>\n",
       "      <td>18.280621</td>\n",
       "      <td>7.834520</td>\n",
       "      <td>6.296957</td>\n",
       "      <td>20.424680</td>\n",
       "      <td>...</td>\n",
       "      <td>2.371420</td>\n",
       "      <td>7.816572</td>\n",
       "      <td>5.062080</td>\n",
       "      <td>3.931012</td>\n",
       "      <td>14.016093</td>\n",
       "      <td>9.495728</td>\n",
       "      <td>4.244119</td>\n",
       "      <td>7.669709</td>\n",
       "      <td>23.885369</td>\n",
       "      <td>3.771089</td>\n",
       "    </tr>\n",
       "    <tr>\n",
       "      <th>7557</th>\n",
       "      <td>3.723200</td>\n",
       "      <td>14.916214</td>\n",
       "      <td>18.723035</td>\n",
       "      <td>10.630247</td>\n",
       "      <td>4.057081</td>\n",
       "      <td>102.977809</td>\n",
       "      <td>18.102192</td>\n",
       "      <td>7.784826</td>\n",
       "      <td>6.291819</td>\n",
       "      <td>20.257972</td>\n",
       "      <td>...</td>\n",
       "      <td>2.418229</td>\n",
       "      <td>7.758975</td>\n",
       "      <td>5.096478</td>\n",
       "      <td>3.861446</td>\n",
       "      <td>13.805149</td>\n",
       "      <td>9.447471</td>\n",
       "      <td>4.245115</td>\n",
       "      <td>7.731520</td>\n",
       "      <td>24.104727</td>\n",
       "      <td>3.731872</td>\n",
       "    </tr>\n",
       "    <tr>\n",
       "      <th>7558</th>\n",
       "      <td>3.709137</td>\n",
       "      <td>15.086647</td>\n",
       "      <td>18.711019</td>\n",
       "      <td>10.716130</td>\n",
       "      <td>4.064350</td>\n",
       "      <td>103.596475</td>\n",
       "      <td>17.980915</td>\n",
       "      <td>7.563337</td>\n",
       "      <td>6.208024</td>\n",
       "      <td>19.728668</td>\n",
       "      <td>...</td>\n",
       "      <td>2.427565</td>\n",
       "      <td>7.796982</td>\n",
       "      <td>5.151575</td>\n",
       "      <td>3.839638</td>\n",
       "      <td>13.675103</td>\n",
       "      <td>9.510521</td>\n",
       "      <td>4.235766</td>\n",
       "      <td>7.808828</td>\n",
       "      <td>24.124923</td>\n",
       "      <td>3.774394</td>\n",
       "    </tr>\n",
       "    <tr>\n",
       "      <th>7559</th>\n",
       "      <td>3.786835</td>\n",
       "      <td>15.107788</td>\n",
       "      <td>18.546752</td>\n",
       "      <td>10.710954</td>\n",
       "      <td>4.041891</td>\n",
       "      <td>103.576748</td>\n",
       "      <td>18.030492</td>\n",
       "      <td>7.693719</td>\n",
       "      <td>6.185597</td>\n",
       "      <td>19.612808</td>\n",
       "      <td>...</td>\n",
       "      <td>2.464826</td>\n",
       "      <td>7.904909</td>\n",
       "      <td>5.180098</td>\n",
       "      <td>3.827527</td>\n",
       "      <td>13.459503</td>\n",
       "      <td>9.423453</td>\n",
       "      <td>4.201409</td>\n",
       "      <td>7.831727</td>\n",
       "      <td>24.220889</td>\n",
       "      <td>3.787586</td>\n",
       "    </tr>\n",
       "    <tr>\n",
       "      <th>7560</th>\n",
       "      <td>3.770713</td>\n",
       "      <td>15.044004</td>\n",
       "      <td>18.166269</td>\n",
       "      <td>10.701323</td>\n",
       "      <td>4.072698</td>\n",
       "      <td>103.021536</td>\n",
       "      <td>18.066600</td>\n",
       "      <td>7.768754</td>\n",
       "      <td>6.263141</td>\n",
       "      <td>19.786449</td>\n",
       "      <td>...</td>\n",
       "      <td>2.427233</td>\n",
       "      <td>7.804102</td>\n",
       "      <td>5.189993</td>\n",
       "      <td>3.834428</td>\n",
       "      <td>13.367604</td>\n",
       "      <td>9.477295</td>\n",
       "      <td>4.206738</td>\n",
       "      <td>7.862042</td>\n",
       "      <td>24.229516</td>\n",
       "      <td>3.807214</td>\n",
       "    </tr>\n",
       "  </tbody>\n",
       "</table>\n",
       "<p>7561 rows × 500 columns</p>\n",
       "</div>"
      ],
      "text/plain": [
       "           0          1          2          3         4           5    \\\n",
       "0     1.000000   1.000000   1.000000   1.000000  1.000000    1.000000   \n",
       "1     1.001422   0.994262   1.009153   0.992489  1.014071    0.992304   \n",
       "2     1.004772   0.992597   1.007914   0.990689  1.007236    0.992137   \n",
       "3     0.995353   1.009868   1.008164   0.995643  1.011134    0.992671   \n",
       "4     1.004510   1.016755   0.993992   0.994528  1.005429    1.006623   \n",
       "...        ...        ...        ...        ...       ...         ...   \n",
       "7556  3.700624  14.981865  18.781025  10.608744  4.013269  103.189714   \n",
       "7557  3.723200  14.916214  18.723035  10.630247  4.057081  102.977809   \n",
       "7558  3.709137  15.086647  18.711019  10.716130  4.064350  103.596475   \n",
       "7559  3.786835  15.107788  18.546752  10.710954  4.041891  103.576748   \n",
       "7560  3.770713  15.044004  18.166269  10.701323  4.072698  103.021536   \n",
       "\n",
       "            6         7         8          9    ...       490       491  \\\n",
       "0      1.000000  1.000000  1.000000   1.000000  ...  1.000000  1.000000   \n",
       "1      1.004027  0.989985  0.992363   1.001153  ...  1.005890  1.007976   \n",
       "2      0.993973  1.009452  0.996350   0.997217  ...  0.999046  1.020284   \n",
       "3      0.996483  1.009670  0.989256   0.996900  ...  0.995097  1.012930   \n",
       "4      1.007940  1.016098  0.983136   1.016638  ...  0.996509  1.005199   \n",
       "...         ...       ...       ...        ...  ...       ...       ...   \n",
       "7556  18.280621  7.834520  6.296957  20.424680  ...  2.371420  7.816572   \n",
       "7557  18.102192  7.784826  6.291819  20.257972  ...  2.418229  7.758975   \n",
       "7558  17.980915  7.563337  6.208024  19.728668  ...  2.427565  7.796982   \n",
       "7559  18.030492  7.693719  6.185597  19.612808  ...  2.464826  7.904909   \n",
       "7560  18.066600  7.768754  6.263141  19.786449  ...  2.427233  7.804102   \n",
       "\n",
       "           492       493        494       495       496       497        498  \\\n",
       "0     1.000000  1.000000   1.000000  1.000000  1.000000  1.000000   1.000000   \n",
       "1     1.009638  0.992782   0.995791  0.973541  0.991353  1.002027   0.988289   \n",
       "2     1.014704  0.997124   0.993253  0.975917  0.978969  0.998377   0.986204   \n",
       "3     1.015638  1.009468   1.000305  0.962665  0.974302  0.995797   1.002397   \n",
       "4     1.023737  1.013635   0.986030  0.955979  0.974451  0.995171   0.998059   \n",
       "...        ...       ...        ...       ...       ...       ...        ...   \n",
       "7556  5.062080  3.931012  14.016093  9.495728  4.244119  7.669709  23.885369   \n",
       "7557  5.096478  3.861446  13.805149  9.447471  4.245115  7.731520  24.104727   \n",
       "7558  5.151575  3.839638  13.675103  9.510521  4.235766  7.808828  24.124923   \n",
       "7559  5.180098  3.827527  13.459503  9.423453  4.201409  7.831727  24.220889   \n",
       "7560  5.189993  3.834428  13.367604  9.477295  4.206738  7.862042  24.229516   \n",
       "\n",
       "           499  \n",
       "0     1.000000  \n",
       "1     1.001936  \n",
       "2     0.999673  \n",
       "3     1.004924  \n",
       "4     1.004567  \n",
       "...        ...  \n",
       "7556  3.771089  \n",
       "7557  3.731872  \n",
       "7558  3.774394  \n",
       "7559  3.787586  \n",
       "7560  3.807214  \n",
       "\n",
       "[7561 rows x 500 columns]"
      ]
     },
     "execution_count": 31,
     "metadata": {},
     "output_type": "execute_result"
    }
   ],
   "source": [
    "# Run the Monte Carlo simulation to forecast 30 years cumulative returns\n",
    "MC_spy_agg.calc_cumulative_return()\n"
   ]
  },
  {
   "cell_type": "code",
   "execution_count": 32,
   "metadata": {},
   "outputs": [
    {
     "data": {
      "text/plain": [
       "<AxesSubplot:title={'center':'500 Simulations of Cumulative Portfolio Return Trajectories Over the Next 7560 Trading Days.'}>"
      ]
     },
     "execution_count": 32,
     "metadata": {},
     "output_type": "execute_result"
    },
    {
     "data": {
      "image/png": "[encoded data removed]",
      "text/plain": [
       "<Figure size 432x288 with 1 Axes>"
      ]
     },
     "metadata": {
      "needs_background": "light"
     },
     "output_type": "display_data"
    }
   ],
   "source": [
    "# Visualize the 30-year Monte Carlo simulation by creating an overlay line plot\n",
    "MC_spy_agg.plot_simulation()\n"
   ]
  },
  {
   "cell_type": "markdown",
   "metadata": {},
   "source": [
    "#### Step 3: Plot the probability distribution of the Monte Carlo simulation."
   ]
  },
  {
   "cell_type": "code",
   "execution_count": 33,
   "metadata": {},
   "outputs": [
    {
     "data": {
      "text/plain": [
       "<AxesSubplot:title={'center':'Distribution of Final Cumuluative Returns Across All 500 Simulations'}, ylabel='Frequency'>"
      ]
     },
     "execution_count": 33,
     "metadata": {},
     "output_type": "execute_result"
    },
    {
     "data": {
      "image/png": "[encoded data removed]",
      "text/plain": [
       "<Figure size 432x288 with 1 Axes>"
      ]
     },
     "metadata": {
      "needs_background": "light"
     },
     "output_type": "display_data"
    }
   ],
   "source": [
    "# Visualize the probability distribution of the 30-year Monte Carlo simulation by plotting a histogram\n",
    "MC_spy_agg.plot_distribution()\n"
   ]
  },
  {
   "cell_type": "markdown",
   "metadata": {},
   "source": [
    "#### Step 4: Generate the summary statistics for the Monte Carlo simulation."
   ]
  },
  {
   "cell_type": "code",
   "execution_count": 34,
   "metadata": {},
   "outputs": [
    {
     "data": {
      "text/plain": [
       "count           500.000000\n",
       "mean             16.625142\n",
       "std              15.294558\n",
       "min               1.278823\n",
       "25%               7.076589\n",
       "50%              12.018074\n",
       "75%              21.197840\n",
       "max             115.274882\n",
       "95% CI Lower      2.729389\n",
       "95% CI Upper     57.406363\n",
       "Name: 7560, dtype: float64"
      ]
     },
     "execution_count": 34,
     "metadata": {},
     "output_type": "execute_result"
    }
   ],
   "source": [
    "# Generate summary statistics from the 30-year Monte Carlo simulation results\n",
    "# Save the results as a variable\n",
    "spy_agg_table = MC_spy_agg.summarize_cumulative_return()\n",
    "\n",
    "\n",
    "# Review the 30-year Monte Carlo summary statistics\n",
    "spy_agg_table"
   ]
  },
  {
   "cell_type": "markdown",
   "metadata": {},
   "source": [
    "### Analyze the Retirement Portfolio Forecasts\n",
    "\n",
    "Using the current value of only the stock and bond portion of the member's portfolio and the summary statistics that you generated from the Monte Carlo simulation, answer the following question in your Jupyter notebook:\n",
    "\n",
    "-  What are the lower and upper bounds for the expected value of the portfolio with a 95% confidence interval?\n"
   ]
  },
  {
   "cell_type": "code",
   "execution_count": 35,
   "metadata": {},
   "outputs": [
    {
     "data": {
      "text/plain": [
       "69133.9"
      ]
     },
     "execution_count": 35,
     "metadata": {},
     "output_type": "execute_result"
    }
   ],
   "source": [
    "# Print the current balance of the stock and bond portion of the members portfolio\n",
    "\n",
    "total_stocks_bonds\n"
   ]
  },
  {
   "cell_type": "code",
   "execution_count": 45,
   "metadata": {},
   "outputs": [
    {
     "name": "stdout",
     "output_type": "stream",
     "text": [
      "The lower bounds for the expected value of the portfolio with a 95% confidence interval is $188693.33\n",
      "The upper bounds for the expected value of the portfolio with a 95% confidence interval is $3968725.79\n"
     ]
    }
   ],
   "source": [
    "# Use the lower and upper `95%` confidence intervals to calculate the range of the possible outcomes for the current stock/bond portfolio\n",
    "ci_lower_thirty_cumulative_return = round(spy_agg_table[8]*total_stocks_bonds,2)\n",
    "ci_upper_thirty_cumulative_return = round(spy_agg_table[9]*total_stocks_bonds,2)\n",
    "\n",
    "# Print the result of calculations\n",
    "print(f'The lower bounds for the expected value of the portfolio with a 95% confidence interval is ${ci_lower_thirty_cumulative_return}')\n",
    "print(f'The upper bounds for the expected value of the portfolio with a 95% confidence interval is ${ci_upper_thirty_cumulative_return}')"
   ]
  },
  {
   "cell_type": "markdown",
   "metadata": {},
   "source": [
    "### Forecast Cumulative Returns in 10 Years\n",
    "\n",
    "The CTO of the credit union is impressed with your work on these planning tools but wonders if 30 years is a long time to wait until retirement. So, your next task is to adjust the retirement portfolio and run a new Monte Carlo simulation to find out if the changes will allow members to retire earlier.\n",
    "\n",
    "For this new Monte Carlo simulation, do the following: \n",
    "\n",
    "- Forecast the cumulative returns for 10 years from now. Because of the shortened investment horizon (30 years to 10 years), the portfolio needs to invest more heavily in the riskier asset&mdash;that is, stock&mdash;to help accumulate wealth for retirement. \n",
    "\n",
    "- Adjust the weights of the retirement portfolio so that the composition for the Monte Carlo simulation consists of 20% bonds and 80% stocks. \n",
    "\n",
    "- Run the simulation over 500 samples, and use the same data that the API call to Alpaca generated.\n",
    "\n",
    "- Based on the new Monte Carlo simulation, answer the following questions in your Jupyter notebook:\n",
    "\n",
    "    - Using the current value of only the stock and bond portion of the member's portfolio and the summary statistics that you generated from the new Monte Carlo simulation, what are the lower and upper bounds for the expected value of the portfolio (with the new weights) with a 95% confidence interval?\n",
    "\n",
    "    - Will weighting the portfolio more heavily toward stocks allow the credit union members to retire after only 10 years?\n"
   ]
  },
  {
   "cell_type": "code",
   "execution_count": 37,
   "metadata": {},
   "outputs": [
    {
     "data": {
      "text/html": [
       "<div>\n",
       "<style scoped>\n",
       "    .dataframe tbody tr th:only-of-type {\n",
       "        vertical-align: middle;\n",
       "    }\n",
       "\n",
       "    .dataframe tbody tr th {\n",
       "        vertical-align: top;\n",
       "    }\n",
       "\n",
       "    .dataframe thead tr th {\n",
       "        text-align: left;\n",
       "    }\n",
       "\n",
       "    .dataframe thead tr:last-of-type th {\n",
       "        text-align: right;\n",
       "    }\n",
       "</style>\n",
       "<table border=\"1\" class=\"dataframe\">\n",
       "  <thead>\n",
       "    <tr>\n",
       "      <th></th>\n",
       "      <th colspan=\"8\" halign=\"left\">SPY</th>\n",
       "      <th colspan=\"8\" halign=\"left\">AGG</th>\n",
       "    </tr>\n",
       "    <tr>\n",
       "      <th></th>\n",
       "      <th>open</th>\n",
       "      <th>high</th>\n",
       "      <th>low</th>\n",
       "      <th>close</th>\n",
       "      <th>volume</th>\n",
       "      <th>trade_count</th>\n",
       "      <th>vwap</th>\n",
       "      <th>daily_return</th>\n",
       "      <th>open</th>\n",
       "      <th>high</th>\n",
       "      <th>low</th>\n",
       "      <th>close</th>\n",
       "      <th>volume</th>\n",
       "      <th>trade_count</th>\n",
       "      <th>vwap</th>\n",
       "      <th>daily_return</th>\n",
       "    </tr>\n",
       "    <tr>\n",
       "      <th>timestamp</th>\n",
       "      <th></th>\n",
       "      <th></th>\n",
       "      <th></th>\n",
       "      <th></th>\n",
       "      <th></th>\n",
       "      <th></th>\n",
       "      <th></th>\n",
       "      <th></th>\n",
       "      <th></th>\n",
       "      <th></th>\n",
       "      <th></th>\n",
       "      <th></th>\n",
       "      <th></th>\n",
       "      <th></th>\n",
       "      <th></th>\n",
       "      <th></th>\n",
       "    </tr>\n",
       "  </thead>\n",
       "  <tbody>\n",
       "    <tr>\n",
       "      <th>2019-04-12 04:00:00+00:00</th>\n",
       "      <td>290.01</td>\n",
       "      <td>290.470</td>\n",
       "      <td>288.261</td>\n",
       "      <td>290.16</td>\n",
       "      <td>69835782</td>\n",
       "      <td>232166</td>\n",
       "      <td>289.776012</td>\n",
       "      <td>NaN</td>\n",
       "      <td>108.26</td>\n",
       "      <td>108.3500</td>\n",
       "      <td>108.22</td>\n",
       "      <td>108.27</td>\n",
       "      <td>2430609</td>\n",
       "      <td>11376</td>\n",
       "      <td>108.269606</td>\n",
       "      <td>NaN</td>\n",
       "    </tr>\n",
       "    <tr>\n",
       "      <th>2019-04-15 04:00:00+00:00</th>\n",
       "      <td>290.27</td>\n",
       "      <td>290.350</td>\n",
       "      <td>289.075</td>\n",
       "      <td>289.97</td>\n",
       "      <td>50222730</td>\n",
       "      <td>199622</td>\n",
       "      <td>289.773677</td>\n",
       "      <td>-0.000655</td>\n",
       "      <td>108.21</td>\n",
       "      <td>108.3000</td>\n",
       "      <td>108.21</td>\n",
       "      <td>108.25</td>\n",
       "      <td>2546204</td>\n",
       "      <td>10053</td>\n",
       "      <td>108.253507</td>\n",
       "      <td>-0.000185</td>\n",
       "    </tr>\n",
       "    <tr>\n",
       "      <th>2019-04-16 04:00:00+00:00</th>\n",
       "      <td>290.96</td>\n",
       "      <td>291.010</td>\n",
       "      <td>289.500</td>\n",
       "      <td>290.16</td>\n",
       "      <td>52154597</td>\n",
       "      <td>206469</td>\n",
       "      <td>290.277078</td>\n",
       "      <td>0.000655</td>\n",
       "      <td>108.12</td>\n",
       "      <td>108.2100</td>\n",
       "      <td>108.02</td>\n",
       "      <td>108.06</td>\n",
       "      <td>4093950</td>\n",
       "      <td>12649</td>\n",
       "      <td>108.108731</td>\n",
       "      <td>-0.001755</td>\n",
       "    </tr>\n",
       "    <tr>\n",
       "      <th>2019-04-17 04:00:00+00:00</th>\n",
       "      <td>291.41</td>\n",
       "      <td>291.425</td>\n",
       "      <td>288.990</td>\n",
       "      <td>289.45</td>\n",
       "      <td>58268470</td>\n",
       "      <td>245037</td>\n",
       "      <td>289.770682</td>\n",
       "      <td>-0.002447</td>\n",
       "      <td>108.09</td>\n",
       "      <td>108.1899</td>\n",
       "      <td>108.05</td>\n",
       "      <td>108.05</td>\n",
       "      <td>3390171</td>\n",
       "      <td>9569</td>\n",
       "      <td>108.090758</td>\n",
       "      <td>-0.000093</td>\n",
       "    </tr>\n",
       "    <tr>\n",
       "      <th>2019-04-18 04:00:00+00:00</th>\n",
       "      <td>290.12</td>\n",
       "      <td>290.320</td>\n",
       "      <td>288.660</td>\n",
       "      <td>290.02</td>\n",
       "      <td>69414428</td>\n",
       "      <td>231296</td>\n",
       "      <td>289.794161</td>\n",
       "      <td>0.001969</td>\n",
       "      <td>108.23</td>\n",
       "      <td>108.2900</td>\n",
       "      <td>108.16</td>\n",
       "      <td>108.19</td>\n",
       "      <td>2217221</td>\n",
       "      <td>8388</td>\n",
       "      <td>108.211849</td>\n",
       "      <td>0.001296</td>\n",
       "    </tr>\n",
       "  </tbody>\n",
       "</table>\n",
       "</div>"
      ],
      "text/plain": [
       "                              SPY                                      \\\n",
       "                             open     high      low   close    volume   \n",
       "timestamp                                                               \n",
       "2019-04-12 04:00:00+00:00  290.01  290.470  288.261  290.16  69835782   \n",
       "2019-04-15 04:00:00+00:00  290.27  290.350  289.075  289.97  50222730   \n",
       "2019-04-16 04:00:00+00:00  290.96  291.010  289.500  290.16  52154597   \n",
       "2019-04-17 04:00:00+00:00  291.41  291.425  288.990  289.45  58268470   \n",
       "2019-04-18 04:00:00+00:00  290.12  290.320  288.660  290.02  69414428   \n",
       "\n",
       "                                                                   AGG  \\\n",
       "                          trade_count        vwap daily_return    open   \n",
       "timestamp                                                                \n",
       "2019-04-12 04:00:00+00:00      232166  289.776012          NaN  108.26   \n",
       "2019-04-15 04:00:00+00:00      199622  289.773677    -0.000655  108.21   \n",
       "2019-04-16 04:00:00+00:00      206469  290.277078     0.000655  108.12   \n",
       "2019-04-17 04:00:00+00:00      245037  289.770682    -0.002447  108.09   \n",
       "2019-04-18 04:00:00+00:00      231296  289.794161     0.001969  108.23   \n",
       "\n",
       "                                                                          \\\n",
       "                               high     low   close   volume trade_count   \n",
       "timestamp                                                                  \n",
       "2019-04-12 04:00:00+00:00  108.3500  108.22  108.27  2430609       11376   \n",
       "2019-04-15 04:00:00+00:00  108.3000  108.21  108.25  2546204       10053   \n",
       "2019-04-16 04:00:00+00:00  108.2100  108.02  108.06  4093950       12649   \n",
       "2019-04-17 04:00:00+00:00  108.1899  108.05  108.05  3390171        9569   \n",
       "2019-04-18 04:00:00+00:00  108.2900  108.16  108.19  2217221        8388   \n",
       "\n",
       "                                                    \n",
       "                                 vwap daily_return  \n",
       "timestamp                                           \n",
       "2019-04-12 04:00:00+00:00  108.269606          NaN  \n",
       "2019-04-15 04:00:00+00:00  108.253507    -0.000185  \n",
       "2019-04-16 04:00:00+00:00  108.108731    -0.001755  \n",
       "2019-04-17 04:00:00+00:00  108.090758    -0.000093  \n",
       "2019-04-18 04:00:00+00:00  108.211849     0.001296  "
      ]
     },
     "execution_count": 37,
     "metadata": {},
     "output_type": "execute_result"
    }
   ],
   "source": [
    "# Configure a Monte Carlo simulation to forecast 10 years cumulative returns\n",
    "# The weights should be split 80% to SPY and 20% to AGG .\n",
    "# Run 500 samples.\n",
    "MC_10years = MCSimulation(\n",
    "    portfolio_data = prices_3years_df,\n",
    "    weights = [.8,.2],\n",
    "    num_simulation = 500,\n",
    "    num_trading_days = 252*10\n",
    ")\n",
    "    \n",
    "# Review the simulation input data\n",
    "MC_10years.portfolio_data.head()\n"
   ]
  },
  {
   "cell_type": "code",
   "execution_count": 38,
   "metadata": {},
   "outputs": [
    {
     "name": "stdout",
     "output_type": "stream",
     "text": [
      "Running Monte Carlo simulation number 0.\n",
      "Running Monte Carlo simulation number 10.\n",
      "Running Monte Carlo simulation number 20.\n",
      "Running Monte Carlo simulation number 30.\n",
      "Running Monte Carlo simulation number 40.\n",
      "Running Monte Carlo simulation number 50.\n",
      "Running Monte Carlo simulation number 60.\n",
      "Running Monte Carlo simulation number 70.\n",
      "Running Monte Carlo simulation number 80.\n",
      "Running Monte Carlo simulation number 90.\n",
      "Running Monte Carlo simulation number 100.\n"
     ]
    },
    {
     "name": "stderr",
     "output_type": "stream",
     "text": [
      "/Users/yjun_ln/Desktop/financial_planning/MCForecastTools.py:117: PerformanceWarning: DataFrame is highly fragmented.  This is usually the result of calling `frame.insert` many times, which has poor performance.  Consider joining all columns at once using pd.concat(axis=1) instead.  To get a de-fragmented frame, use `newframe = frame.copy()`\n",
      "  portfolio_cumulative_returns[n] = (1 + sim_df.fillna(0)).cumprod()\n"
     ]
    },
    {
     "name": "stdout",
     "output_type": "stream",
     "text": [
      "Running Monte Carlo simulation number 110.\n",
      "Running Monte Carlo simulation number 120.\n",
      "Running Monte Carlo simulation number 130.\n",
      "Running Monte Carlo simulation number 140.\n",
      "Running Monte Carlo simulation number 150.\n",
      "Running Monte Carlo simulation number 160.\n",
      "Running Monte Carlo simulation number 170.\n",
      "Running Monte Carlo simulation number 180.\n",
      "Running Monte Carlo simulation number 190.\n",
      "Running Monte Carlo simulation number 200.\n",
      "Running Monte Carlo simulation number 210.\n",
      "Running Monte Carlo simulation number 220.\n",
      "Running Monte Carlo simulation number 230.\n",
      "Running Monte Carlo simulation number 240.\n",
      "Running Monte Carlo simulation number 250.\n",
      "Running Monte Carlo simulation number 260.\n",
      "Running Monte Carlo simulation number 270.\n",
      "Running Monte Carlo simulation number 280.\n",
      "Running Monte Carlo simulation number 290.\n",
      "Running Monte Carlo simulation number 300.\n",
      "Running Monte Carlo simulation number 310.\n",
      "Running Monte Carlo simulation number 320.\n",
      "Running Monte Carlo simulation number 330.\n",
      "Running Monte Carlo simulation number 340.\n",
      "Running Monte Carlo simulation number 350.\n",
      "Running Monte Carlo simulation number 360.\n",
      "Running Monte Carlo simulation number 370.\n",
      "Running Monte Carlo simulation number 380.\n",
      "Running Monte Carlo simulation number 390.\n",
      "Running Monte Carlo simulation number 400.\n",
      "Running Monte Carlo simulation number 410.\n",
      "Running Monte Carlo simulation number 420.\n",
      "Running Monte Carlo simulation number 430.\n",
      "Running Monte Carlo simulation number 440.\n",
      "Running Monte Carlo simulation number 450.\n",
      "Running Monte Carlo simulation number 460.\n",
      "Running Monte Carlo simulation number 470.\n",
      "Running Monte Carlo simulation number 480.\n",
      "Running Monte Carlo simulation number 490.\n"
     ]
    },
    {
     "data": {
      "text/html": [
       "<div>\n",
       "<style scoped>\n",
       "    .dataframe tbody tr th:only-of-type {\n",
       "        vertical-align: middle;\n",
       "    }\n",
       "\n",
       "    .dataframe tbody tr th {\n",
       "        vertical-align: top;\n",
       "    }\n",
       "\n",
       "    .dataframe thead th {\n",
       "        text-align: right;\n",
       "    }\n",
       "</style>\n",
       "<table border=\"1\" class=\"dataframe\">\n",
       "  <thead>\n",
       "    <tr style=\"text-align: right;\">\n",
       "      <th></th>\n",
       "      <th>0</th>\n",
       "      <th>1</th>\n",
       "      <th>2</th>\n",
       "      <th>3</th>\n",
       "      <th>4</th>\n",
       "      <th>5</th>\n",
       "      <th>6</th>\n",
       "      <th>7</th>\n",
       "      <th>8</th>\n",
       "      <th>9</th>\n",
       "      <th>...</th>\n",
       "      <th>490</th>\n",
       "      <th>491</th>\n",
       "      <th>492</th>\n",
       "      <th>493</th>\n",
       "      <th>494</th>\n",
       "      <th>495</th>\n",
       "      <th>496</th>\n",
       "      <th>497</th>\n",
       "      <th>498</th>\n",
       "      <th>499</th>\n",
       "    </tr>\n",
       "  </thead>\n",
       "  <tbody>\n",
       "    <tr>\n",
       "      <th>0</th>\n",
       "      <td>1.000000</td>\n",
       "      <td>1.000000</td>\n",
       "      <td>1.000000</td>\n",
       "      <td>1.000000</td>\n",
       "      <td>1.000000</td>\n",
       "      <td>1.000000</td>\n",
       "      <td>1.000000</td>\n",
       "      <td>1.000000</td>\n",
       "      <td>1.000000</td>\n",
       "      <td>1.000000</td>\n",
       "      <td>...</td>\n",
       "      <td>1.000000</td>\n",
       "      <td>1.000000</td>\n",
       "      <td>1.000000</td>\n",
       "      <td>1.000000</td>\n",
       "      <td>1.000000</td>\n",
       "      <td>1.000000</td>\n",
       "      <td>1.000000</td>\n",
       "      <td>1.000000</td>\n",
       "      <td>1.000000</td>\n",
       "      <td>1.000000</td>\n",
       "    </tr>\n",
       "    <tr>\n",
       "      <th>1</th>\n",
       "      <td>0.989589</td>\n",
       "      <td>1.013841</td>\n",
       "      <td>0.995666</td>\n",
       "      <td>1.000428</td>\n",
       "      <td>1.007776</td>\n",
       "      <td>0.991673</td>\n",
       "      <td>0.983753</td>\n",
       "      <td>0.979888</td>\n",
       "      <td>1.007392</td>\n",
       "      <td>0.996113</td>\n",
       "      <td>...</td>\n",
       "      <td>0.974458</td>\n",
       "      <td>0.994238</td>\n",
       "      <td>0.985207</td>\n",
       "      <td>0.996188</td>\n",
       "      <td>1.018477</td>\n",
       "      <td>1.025424</td>\n",
       "      <td>0.985900</td>\n",
       "      <td>0.991188</td>\n",
       "      <td>0.993248</td>\n",
       "      <td>0.995624</td>\n",
       "    </tr>\n",
       "    <tr>\n",
       "      <th>2</th>\n",
       "      <td>0.992768</td>\n",
       "      <td>1.018236</td>\n",
       "      <td>0.989154</td>\n",
       "      <td>0.993811</td>\n",
       "      <td>1.000700</td>\n",
       "      <td>0.999812</td>\n",
       "      <td>0.971651</td>\n",
       "      <td>0.986177</td>\n",
       "      <td>1.014201</td>\n",
       "      <td>1.007337</td>\n",
       "      <td>...</td>\n",
       "      <td>0.983917</td>\n",
       "      <td>0.991094</td>\n",
       "      <td>0.994607</td>\n",
       "      <td>0.996881</td>\n",
       "      <td>1.037931</td>\n",
       "      <td>1.028544</td>\n",
       "      <td>0.981236</td>\n",
       "      <td>0.995167</td>\n",
       "      <td>0.988870</td>\n",
       "      <td>0.977836</td>\n",
       "    </tr>\n",
       "    <tr>\n",
       "      <th>3</th>\n",
       "      <td>0.967644</td>\n",
       "      <td>1.033185</td>\n",
       "      <td>0.988567</td>\n",
       "      <td>0.975190</td>\n",
       "      <td>0.982668</td>\n",
       "      <td>1.005373</td>\n",
       "      <td>0.977891</td>\n",
       "      <td>0.978415</td>\n",
       "      <td>0.999950</td>\n",
       "      <td>1.005143</td>\n",
       "      <td>...</td>\n",
       "      <td>0.994710</td>\n",
       "      <td>0.993508</td>\n",
       "      <td>0.974547</td>\n",
       "      <td>0.986840</td>\n",
       "      <td>1.031882</td>\n",
       "      <td>1.033955</td>\n",
       "      <td>0.958979</td>\n",
       "      <td>0.989338</td>\n",
       "      <td>0.992379</td>\n",
       "      <td>0.983118</td>\n",
       "    </tr>\n",
       "    <tr>\n",
       "      <th>4</th>\n",
       "      <td>0.969814</td>\n",
       "      <td>1.051724</td>\n",
       "      <td>0.982900</td>\n",
       "      <td>0.975216</td>\n",
       "      <td>0.986480</td>\n",
       "      <td>1.006988</td>\n",
       "      <td>0.987492</td>\n",
       "      <td>0.992992</td>\n",
       "      <td>0.996695</td>\n",
       "      <td>1.005828</td>\n",
       "      <td>...</td>\n",
       "      <td>0.988917</td>\n",
       "      <td>0.986454</td>\n",
       "      <td>0.989471</td>\n",
       "      <td>0.985035</td>\n",
       "      <td>1.059288</td>\n",
       "      <td>1.022415</td>\n",
       "      <td>0.957148</td>\n",
       "      <td>0.991553</td>\n",
       "      <td>0.998558</td>\n",
       "      <td>0.967550</td>\n",
       "    </tr>\n",
       "    <tr>\n",
       "      <th>...</th>\n",
       "      <td>...</td>\n",
       "      <td>...</td>\n",
       "      <td>...</td>\n",
       "      <td>...</td>\n",
       "      <td>...</td>\n",
       "      <td>...</td>\n",
       "      <td>...</td>\n",
       "      <td>...</td>\n",
       "      <td>...</td>\n",
       "      <td>...</td>\n",
       "      <td>...</td>\n",
       "      <td>...</td>\n",
       "      <td>...</td>\n",
       "      <td>...</td>\n",
       "      <td>...</td>\n",
       "      <td>...</td>\n",
       "      <td>...</td>\n",
       "      <td>...</td>\n",
       "      <td>...</td>\n",
       "      <td>...</td>\n",
       "      <td>...</td>\n",
       "    </tr>\n",
       "    <tr>\n",
       "      <th>2516</th>\n",
       "      <td>4.772844</td>\n",
       "      <td>2.175503</td>\n",
       "      <td>5.928806</td>\n",
       "      <td>1.376527</td>\n",
       "      <td>2.471885</td>\n",
       "      <td>4.451011</td>\n",
       "      <td>5.732324</td>\n",
       "      <td>3.396371</td>\n",
       "      <td>3.617196</td>\n",
       "      <td>2.865338</td>\n",
       "      <td>...</td>\n",
       "      <td>3.305638</td>\n",
       "      <td>2.358752</td>\n",
       "      <td>3.484106</td>\n",
       "      <td>2.237294</td>\n",
       "      <td>6.673581</td>\n",
       "      <td>1.073534</td>\n",
       "      <td>3.523900</td>\n",
       "      <td>3.303309</td>\n",
       "      <td>5.769428</td>\n",
       "      <td>5.901455</td>\n",
       "    </tr>\n",
       "    <tr>\n",
       "      <th>2517</th>\n",
       "      <td>4.820884</td>\n",
       "      <td>2.152192</td>\n",
       "      <td>5.852423</td>\n",
       "      <td>1.380960</td>\n",
       "      <td>2.471390</td>\n",
       "      <td>4.472555</td>\n",
       "      <td>5.773845</td>\n",
       "      <td>3.326348</td>\n",
       "      <td>3.614656</td>\n",
       "      <td>2.878451</td>\n",
       "      <td>...</td>\n",
       "      <td>3.333335</td>\n",
       "      <td>2.385919</td>\n",
       "      <td>3.521820</td>\n",
       "      <td>2.265547</td>\n",
       "      <td>6.711480</td>\n",
       "      <td>1.070768</td>\n",
       "      <td>3.486011</td>\n",
       "      <td>3.336750</td>\n",
       "      <td>5.830053</td>\n",
       "      <td>5.955995</td>\n",
       "    </tr>\n",
       "    <tr>\n",
       "      <th>2518</th>\n",
       "      <td>4.862213</td>\n",
       "      <td>2.135003</td>\n",
       "      <td>5.848541</td>\n",
       "      <td>1.354619</td>\n",
       "      <td>2.449980</td>\n",
       "      <td>4.518016</td>\n",
       "      <td>5.796344</td>\n",
       "      <td>3.298042</td>\n",
       "      <td>3.584659</td>\n",
       "      <td>2.857188</td>\n",
       "      <td>...</td>\n",
       "      <td>3.353061</td>\n",
       "      <td>2.386656</td>\n",
       "      <td>3.613148</td>\n",
       "      <td>2.225879</td>\n",
       "      <td>6.591293</td>\n",
       "      <td>1.068438</td>\n",
       "      <td>3.471430</td>\n",
       "      <td>3.398147</td>\n",
       "      <td>5.676692</td>\n",
       "      <td>5.935361</td>\n",
       "    </tr>\n",
       "    <tr>\n",
       "      <th>2519</th>\n",
       "      <td>4.904247</td>\n",
       "      <td>2.163101</td>\n",
       "      <td>5.831384</td>\n",
       "      <td>1.360100</td>\n",
       "      <td>2.459830</td>\n",
       "      <td>4.517027</td>\n",
       "      <td>5.816555</td>\n",
       "      <td>3.385467</td>\n",
       "      <td>3.589260</td>\n",
       "      <td>2.820896</td>\n",
       "      <td>...</td>\n",
       "      <td>3.324747</td>\n",
       "      <td>2.370027</td>\n",
       "      <td>3.663931</td>\n",
       "      <td>2.254794</td>\n",
       "      <td>6.657969</td>\n",
       "      <td>1.064666</td>\n",
       "      <td>3.511939</td>\n",
       "      <td>3.410665</td>\n",
       "      <td>5.565690</td>\n",
       "      <td>5.900571</td>\n",
       "    </tr>\n",
       "    <tr>\n",
       "      <th>2520</th>\n",
       "      <td>4.927100</td>\n",
       "      <td>2.166034</td>\n",
       "      <td>5.932008</td>\n",
       "      <td>1.367890</td>\n",
       "      <td>2.456342</td>\n",
       "      <td>4.423475</td>\n",
       "      <td>5.939246</td>\n",
       "      <td>3.349373</td>\n",
       "      <td>3.578862</td>\n",
       "      <td>2.841963</td>\n",
       "      <td>...</td>\n",
       "      <td>3.280869</td>\n",
       "      <td>2.381168</td>\n",
       "      <td>3.620410</td>\n",
       "      <td>2.213742</td>\n",
       "      <td>6.768681</td>\n",
       "      <td>1.066327</td>\n",
       "      <td>3.513090</td>\n",
       "      <td>3.410938</td>\n",
       "      <td>5.545270</td>\n",
       "      <td>5.943192</td>\n",
       "    </tr>\n",
       "  </tbody>\n",
       "</table>\n",
       "<p>2521 rows × 500 columns</p>\n",
       "</div>"
      ],
      "text/plain": [
       "           0         1         2         3         4         5         6    \\\n",
       "0     1.000000  1.000000  1.000000  1.000000  1.000000  1.000000  1.000000   \n",
       "1     0.989589  1.013841  0.995666  1.000428  1.007776  0.991673  0.983753   \n",
       "2     0.992768  1.018236  0.989154  0.993811  1.000700  0.999812  0.971651   \n",
       "3     0.967644  1.033185  0.988567  0.975190  0.982668  1.005373  0.977891   \n",
       "4     0.969814  1.051724  0.982900  0.975216  0.986480  1.006988  0.987492   \n",
       "...        ...       ...       ...       ...       ...       ...       ...   \n",
       "2516  4.772844  2.175503  5.928806  1.376527  2.471885  4.451011  5.732324   \n",
       "2517  4.820884  2.152192  5.852423  1.380960  2.471390  4.472555  5.773845   \n",
       "2518  4.862213  2.135003  5.848541  1.354619  2.449980  4.518016  5.796344   \n",
       "2519  4.904247  2.163101  5.831384  1.360100  2.459830  4.517027  5.816555   \n",
       "2520  4.927100  2.166034  5.932008  1.367890  2.456342  4.423475  5.939246   \n",
       "\n",
       "           7         8         9    ...       490       491       492  \\\n",
       "0     1.000000  1.000000  1.000000  ...  1.000000  1.000000  1.000000   \n",
       "1     0.979888  1.007392  0.996113  ...  0.974458  0.994238  0.985207   \n",
       "2     0.986177  1.014201  1.007337  ...  0.983917  0.991094  0.994607   \n",
       "3     0.978415  0.999950  1.005143  ...  0.994710  0.993508  0.974547   \n",
       "4     0.992992  0.996695  1.005828  ...  0.988917  0.986454  0.989471   \n",
       "...        ...       ...       ...  ...       ...       ...       ...   \n",
       "2516  3.396371  3.617196  2.865338  ...  3.305638  2.358752  3.484106   \n",
       "2517  3.326348  3.614656  2.878451  ...  3.333335  2.385919  3.521820   \n",
       "2518  3.298042  3.584659  2.857188  ...  3.353061  2.386656  3.613148   \n",
       "2519  3.385467  3.589260  2.820896  ...  3.324747  2.370027  3.663931   \n",
       "2520  3.349373  3.578862  2.841963  ...  3.280869  2.381168  3.620410   \n",
       "\n",
       "           493       494       495       496       497       498       499  \n",
       "0     1.000000  1.000000  1.000000  1.000000  1.000000  1.000000  1.000000  \n",
       "1     0.996188  1.018477  1.025424  0.985900  0.991188  0.993248  0.995624  \n",
       "2     0.996881  1.037931  1.028544  0.981236  0.995167  0.988870  0.977836  \n",
       "3     0.986840  1.031882  1.033955  0.958979  0.989338  0.992379  0.983118  \n",
       "4     0.985035  1.059288  1.022415  0.957148  0.991553  0.998558  0.967550  \n",
       "...        ...       ...       ...       ...       ...       ...       ...  \n",
       "2516  2.237294  6.673581  1.073534  3.523900  3.303309  5.769428  5.901455  \n",
       "2517  2.265547  6.711480  1.070768  3.486011  3.336750  5.830053  5.955995  \n",
       "2518  2.225879  6.591293  1.068438  3.471430  3.398147  5.676692  5.935361  \n",
       "2519  2.254794  6.657969  1.064666  3.511939  3.410665  5.565690  5.900571  \n",
       "2520  2.213742  6.768681  1.066327  3.513090  3.410938  5.545270  5.943192  \n",
       "\n",
       "[2521 rows x 500 columns]"
      ]
     },
     "execution_count": 38,
     "metadata": {},
     "output_type": "execute_result"
    }
   ],
   "source": [
    "# Run the Monte Carlo simulation to forecast 10 years cumulative returns\n",
    "MC_10years.calc_cumulative_return()\n"
   ]
  },
  {
   "cell_type": "code",
   "execution_count": 39,
   "metadata": {},
   "outputs": [
    {
     "data": {
      "text/plain": [
       "<AxesSubplot:title={'center':'500 Simulations of Cumulative Portfolio Return Trajectories Over the Next 2520 Trading Days.'}>"
      ]
     },
     "execution_count": 39,
     "metadata": {},
     "output_type": "execute_result"
    },
    {
     "data": {
      "image/png": "[encoded data removed]",
      "text/plain": [
       "<Figure size 432x288 with 1 Axes>"
      ]
     },
     "metadata": {
      "needs_background": "light"
     },
     "output_type": "display_data"
    }
   ],
   "source": [
    "# Visualize the 10-year Monte Carlo simulation by creating an overlay line plot\n",
    "MC_10years.plot_simulation()\n"
   ]
  },
  {
   "cell_type": "code",
   "execution_count": 40,
   "metadata": {},
   "outputs": [
    {
     "data": {
      "text/plain": [
       "<AxesSubplot:title={'center':'Distribution of Final Cumuluative Returns Across All 500 Simulations'}, ylabel='Frequency'>"
      ]
     },
     "execution_count": 40,
     "metadata": {},
     "output_type": "execute_result"
    },
    {
     "data": {
      "image/png": "[encoded data removed]",
      "text/plain": [
       "<Figure size 432x288 with 1 Axes>"
      ]
     },
     "metadata": {
      "needs_background": "light"
     },
     "output_type": "display_data"
    }
   ],
   "source": [
    "# Visualize the probability distribution of the 10-year Monte Carlo simulation by plotting a histogram\n",
    "MC_10years.plot_distribution()\n"
   ]
  },
  {
   "cell_type": "code",
   "execution_count": 41,
   "metadata": {},
   "outputs": [
    {
     "data": {
      "text/plain": [
       "count           500.000000\n",
       "mean              3.567730\n",
       "std               2.350477\n",
       "min               0.574768\n",
       "25%               2.066406\n",
       "50%               3.068078\n",
       "75%               4.446559\n",
       "max              29.745756\n",
       "95% CI Lower      1.023415\n",
       "95% CI Upper      8.579812\n",
       "Name: 2520, dtype: float64"
      ]
     },
     "execution_count": 41,
     "metadata": {},
     "output_type": "execute_result"
    }
   ],
   "source": [
    "# Generate summary statistics from the 10-year Monte Carlo simulation results\n",
    "# Save the results as a variable\n",
    "MC_10years_table = MC_10years.summarize_cumulative_return()\n",
    "\n",
    "\n",
    "# Review the 10-year Monte Carlo summary statistics\n",
    "MC_10years_table"
   ]
  },
  {
   "cell_type": "markdown",
   "metadata": {},
   "source": [
    "### Answer the following questions:"
   ]
  },
  {
   "cell_type": "markdown",
   "metadata": {},
   "source": [
    "#### Question: Using the current value of only the stock and bond portion of the member's portfolio and the summary statistics that you generated from the new Monte Carlo simulation, what are the lower and upper bounds for the expected value of the portfolio (with the new weights) with a 95% confidence interval?"
   ]
  },
  {
   "cell_type": "code",
   "execution_count": 42,
   "metadata": {},
   "outputs": [
    {
     "data": {
      "text/plain": [
       "69133.9"
      ]
     },
     "execution_count": 42,
     "metadata": {},
     "output_type": "execute_result"
    }
   ],
   "source": [
    "# Print the current balance of the stock and bond portion of the members portfolio\n",
    "total_stocks_bonds\n"
   ]
  },
  {
   "cell_type": "code",
   "execution_count": 46,
   "metadata": {},
   "outputs": [
    {
     "name": "stdout",
     "output_type": "stream",
     "text": [
      "The new lower bounds for the expected value of the portfolio with a 95% confidence interval is $70752.7\n",
      "The new upper bounds for the expected value of the portfolio with a 95% confidence interval is $593155.84\n"
     ]
    }
   ],
   "source": [
    "# Use the lower and upper `95%` confidence intervals to calculate the range of the possible outcomes for the current stock/bond portfolio\n",
    "ci_lower_ten_cumulative_return = round(MC_10years_table[8]*total_stocks_bonds,2)\n",
    "ci_upper_ten_cumulative_return = round(MC_10years_table[9]*total_stocks_bonds,2)\n",
    "\n",
    "# Print the result of calculations\n",
    "print(f'The new lower bounds for the expected value of the portfolio with a 95% confidence interval is ${ci_lower_ten_cumulative_return}')\n",
    "print(f'The new upper bounds for the expected value of the portfolio with a 95% confidence interval is ${ci_upper_ten_cumulative_return}')\n"
   ]
  },
  {
   "cell_type": "markdown",
   "metadata": {},
   "source": [
    "#### Question: Will weighting the portfolio more heavily to stocks allow the credit union members to retire after only 10 years?"
   ]
  },
  {
   "cell_type": "code",
   "execution_count": null,
   "metadata": {},
   "outputs": [],
   "source": [
    "Base on running 2 separate Monte Carlo simulation on 30 years and 10 years we can \n",
    "see that ther is a 95% chance that the current investment amount of $69133.9 in \n",
    "the portfolio with a 80% weight in stocks and 20% in bonds over the next 10 years \n",
    "will end with in the range of $75353.98 and $581853.3. These amount are way less \n",
    "than investing 60% in stocks and 20% in bonds over the next 30 years, which will \n",
    "end with in the range of $198942.83 and $3816039.86. So heavy weighting on stocks \n",
    "will not allow the members to retire after only 10 years."
   ]
  },
  {
   "cell_type": "code",
   "execution_count": null,
   "metadata": {},
   "outputs": [],
   "source": []
  }
 ],
 "metadata": {
  "kernelspec": {
   "display_name": "Python 3 (ipykernel)",
   "language": "python",
   "name": "python3"
  },
  "language_info": {
   "codemirror_mode": {
    "name": "ipython",
    "version": 3
   },
   "file_extension": ".py",
   "mimetype": "text/x-python",
   "name": "python",
   "nbconvert_exporter": "python",
   "pygments_lexer": "ipython3",
   "version": "3.7.11"
  }
 },
 "nbformat": 4,
 "nbformat_minor": 4
}

