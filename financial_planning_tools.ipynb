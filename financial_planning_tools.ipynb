{
 "cells": [
  {
   "cell_type": "markdown",
   "metadata": {},
   "source": [
    "# Financial Planning with APIs and Simulations\n",
    "\n",
    "In this Challenge, you’ll create two financial analysis tools by using a single Jupyter notebook:\n",
    "\n",
    "Part 1: A financial planner for emergencies. The members will be able to use this tool to visualize their current savings. The members can then determine if they have enough reserves for an emergency fund.\n",
    "\n",
    "Part 2: A financial planner for retirement. This tool will forecast the performance of their retirement portfolio in 30 years. To do this, the tool will make an Alpaca API call via the Alpaca SDK to get historical price data for use in Monte Carlo simulations.\n",
    "\n",
    "You’ll use the information from the Monte Carlo simulation to answer questions about the portfolio in your Jupyter notebook.\n",
    "\n"
   ]
  },
  {
   "cell_type": "code",
   "execution_count": 2,
   "metadata": {},
   "outputs": [],
   "source": [
    "# Import the required libraries and dependencies\n",
    "import os\n",
    "import requests\n",
    "import json\n",
    "import pandas as pd\n",
    "from dotenv import load_dotenv\n",
    "import alpaca_trade_api as tradeapi\n",
    "from MCForecastTools import MCSimulation\n",
    "\n",
    "%matplotlib inline"
   ]
  },
  {
   "cell_type": "code",
   "execution_count": 3,
   "metadata": {},
   "outputs": [
    {
     "data": {
      "text/plain": [
       "True"
      ]
     },
     "execution_count": 3,
     "metadata": {},
     "output_type": "execute_result"
    }
   ],
   "source": [
    "# Load the environment variables from the .env file\n",
    "#by calling the load_dotenv function\n",
    "load_dotenv()"
   ]
  },
  {
   "cell_type": "markdown",
   "metadata": {},
   "source": [
    "## Part 1: Create a Financial Planner for Emergencies"
   ]
  },
  {
   "cell_type": "markdown",
   "metadata": {},
   "source": [
    "### Evaluate the Cryptocurrency Wallet by Using the Requests Library\n",
    "\n",
    "In this section, you’ll determine the current value of a member’s cryptocurrency wallet. You’ll collect the current prices for the Bitcoin and Ethereum cryptocurrencies by using the Python Requests library. For the prototype, you’ll assume that the member holds the 1.2 Bitcoins (BTC) and 5.3 Ethereum coins (ETH). To do all this, complete the following steps:\n",
    "\n",
    "1. Create a variable named `monthly_income`, and set its value to `12000`.\n",
    "\n",
    "2. Use the Requests library to get the current price (in US dollars) of Bitcoin (BTC) and Ethereum (ETH) by using the API endpoints that the starter code supplies.\n",
    "\n",
    "3. Navigate the JSON response object to access the current price of each coin, and store each in a variable.\n",
    "\n",
    "    > **Hint** Note the specific identifier for each cryptocurrency in the API JSON response. The Bitcoin identifier is `1`, and the Ethereum identifier is `1027`.\n",
    "\n",
    "4. Calculate the value, in US dollars, of the current amount of each cryptocurrency and of the entire cryptocurrency wallet.\n",
    "\n"
   ]
  },
  {
   "cell_type": "code",
   "execution_count": 4,
   "metadata": {},
   "outputs": [],
   "source": [
    "# The current number of coins for each cryptocurrency asset held in the portfolio.\n",
    "btc_coins = 1.2\n",
    "eth_coins = 5.3"
   ]
  },
  {
   "cell_type": "markdown",
   "metadata": {},
   "source": [
    "#### Step 1: Create a variable named `monthly_income`, and set its value to `12000`."
   ]
  },
  {
   "cell_type": "code",
   "execution_count": 65,
   "metadata": {},
   "outputs": [],
   "source": [
    "# The monthly amount for the member's household income\n",
    "monthly_income = 12000\n"
   ]
  },
  {
   "cell_type": "markdown",
   "metadata": {},
   "source": [
    "#### Review the endpoint URLs for the API calls to Free Crypto API in order to get the current pricing information for both BTC and ETH."
   ]
  },
  {
   "cell_type": "code",
   "execution_count": 8,
   "metadata": {},
   "outputs": [],
   "source": [
    "# The Free Crypto API Call endpoint URLs for the held cryptocurrency assets\n",
    "btc_url = \"https://api.alternative.me/v2/ticker/Bitcoin/?convert=USD\"\n",
    "eth_url = \"https://api.alternative.me/v2/ticker/Ethereum/?convert=USD\""
   ]
  },
  {
   "cell_type": "markdown",
   "metadata": {},
   "source": [
    "#### Step 2. Use the Requests library to get the current price (in US dollars) of Bitcoin (BTC) and Ethereum (ETH) by using the API endpoints that the starter code supplied."
   ]
  },
  {
   "cell_type": "code",
   "execution_count": 12,
   "metadata": {},
   "outputs": [
    {
     "name": "stdout",
     "output_type": "stream",
     "text": [
      "{\n",
      "    \"data\": {\n",
      "        \"1\": {\n",
      "            \"circulating_supply\": 19010587,\n",
      "            \"id\": 1,\n",
      "            \"last_updated\": 1649858592,\n",
      "            \"max_supply\": 21000000,\n",
      "            \"name\": \"Bitcoin\",\n",
      "            \"quotes\": {\n",
      "                \"USD\": {\n",
      "                    \"market_cap\": 769446080034,\n",
      "                    \"percent_change_1h\": 1.72547061442583,\n",
      "                    \"percent_change_24h\": 0.0864143344969756,\n",
      "                    \"percent_change_7d\": -11.2882391174235,\n",
      "                    \"percentage_change_1h\": 1.72547061442583,\n",
      "                    \"percentage_change_24h\": 0.0864143344969756,\n",
      "                    \"percentage_change_7d\": -11.2882391174235,\n",
      "                    \"price\": 40484.0,\n",
      "                    \"volume_24h\": 23333629459\n",
      "                }\n",
      "            },\n",
      "            \"rank\": 1,\n",
      "            \"symbol\": \"BTC\",\n",
      "            \"total_supply\": 19010587,\n",
      "            \"website_slug\": \"bitcoin\"\n",
      "        }\n",
      "    },\n",
      "    \"metadata\": {\n",
      "        \"error\": null,\n",
      "        \"num_cryptocurrencies\": 3106,\n",
      "        \"timestamp\": 1649858592\n",
      "    }\n",
      "}\n"
     ]
    }
   ],
   "source": [
    "# Using the Python requests library, make an API call to access the current price of BTC\n",
    "btc_response = requests.get(btc_url).json()\n",
    "\n",
    "# Use the json.dumps function to review the response data from the API call\n",
    "# Use the indent and sort_keys parameters to make the response object readable\n",
    "print(json.dumps(btc_response, indent=4, sort_keys=True))\n"
   ]
  },
  {
   "cell_type": "code",
   "execution_count": 13,
   "metadata": {},
   "outputs": [
    {
     "name": "stdout",
     "output_type": "stream",
     "text": [
      "{\n",
      "    \"data\": {\n",
      "        \"1027\": {\n",
      "            \"circulating_supply\": 120361961,\n",
      "            \"id\": 1027,\n",
      "            \"last_updated\": 1649858518,\n",
      "            \"max_supply\": 0,\n",
      "            \"name\": \"Ethereum\",\n",
      "            \"quotes\": {\n",
      "                \"USD\": {\n",
      "                    \"market_cap\": 369664932027,\n",
      "                    \"percent_change_1h\": 2.04218274083586,\n",
      "                    \"percent_change_24h\": 0.595843725588459,\n",
      "                    \"percent_change_7d\": -10.1695535326494,\n",
      "                    \"percentage_change_1h\": 2.04218274083586,\n",
      "                    \"percentage_change_24h\": 0.595843725588459,\n",
      "                    \"percentage_change_7d\": -10.1695535326494,\n",
      "                    \"price\": 3074.87,\n",
      "                    \"volume_24h\": 15869897718\n",
      "                }\n",
      "            },\n",
      "            \"rank\": 2,\n",
      "            \"symbol\": \"ETH\",\n",
      "            \"total_supply\": 120361961,\n",
      "            \"website_slug\": \"ethereum\"\n",
      "        }\n",
      "    },\n",
      "    \"metadata\": {\n",
      "        \"error\": null,\n",
      "        \"num_cryptocurrencies\": 3106,\n",
      "        \"timestamp\": 1649858518\n",
      "    }\n",
      "}\n"
     ]
    }
   ],
   "source": [
    "# Using the Python requests library, make an API call to access the current price ETH\n",
    "eth_response = requests.get(eth_url).json()\n",
    "\n",
    "# Use the json.dumps function to review the response data from the API call\n",
    "# Use the indent and sort_keys parameters to make the response object readable\n",
    "print(json.dumps(eth_response, indent=4, sort_keys=True))\n"
   ]
  },
  {
   "cell_type": "markdown",
   "metadata": {},
   "source": [
    "#### Step 3: Navigate the JSON response object to access the current price of each coin, and store each in a variable."
   ]
  },
  {
   "cell_type": "code",
   "execution_count": 17,
   "metadata": {},
   "outputs": [
    {
     "name": "stdout",
     "output_type": "stream",
     "text": [
      "40484.0\n"
     ]
    }
   ],
   "source": [
    "# Navigate the BTC response object to access the current price of BTC\n",
    "btc_price = btc_response['data']['1']['quotes']['USD']['price']\n",
    "\n",
    "# Print the current price of BTC\n",
    "print(btc_price)\n"
   ]
  },
  {
   "cell_type": "code",
   "execution_count": 18,
   "metadata": {},
   "outputs": [
    {
     "name": "stdout",
     "output_type": "stream",
     "text": [
      "3074.87\n"
     ]
    }
   ],
   "source": [
    "# Navigate the BTC response object to access the current price of ETH\n",
    "eth_price = eth_response['data']['1027']['quotes']['USD']['price']\n",
    "\n",
    "# Print the current price of ETH\n",
    "print(eth_price)\n"
   ]
  },
  {
   "cell_type": "markdown",
   "metadata": {},
   "source": [
    "### Step 4: Calculate the value, in US dollars, of the current amount of each cryptocurrency and of the entire cryptocurrency wallet."
   ]
  },
  {
   "cell_type": "code",
   "execution_count": 19,
   "metadata": {},
   "outputs": [
    {
     "name": "stdout",
     "output_type": "stream",
     "text": [
      "48580.799999999996\n"
     ]
    }
   ],
   "source": [
    "# Compute the current value of the BTC holding \n",
    "btc_value = btc_price * btc_coins\n",
    "\n",
    "# Print current value of your holding in BTC\n",
    "print(btc_value)\n"
   ]
  },
  {
   "cell_type": "code",
   "execution_count": 21,
   "metadata": {},
   "outputs": [
    {
     "name": "stdout",
     "output_type": "stream",
     "text": [
      "16296.811\n"
     ]
    }
   ],
   "source": [
    "# Compute the current value of the ETH holding \n",
    "eth_value = eth_price * eth_coins\n",
    "\n",
    "# Print current value of your holding in ETH\n",
    "print(eth_value)\n"
   ]
  },
  {
   "cell_type": "code",
   "execution_count": 23,
   "metadata": {},
   "outputs": [
    {
     "name": "stdout",
     "output_type": "stream",
     "text": [
      "64877.611\n"
     ]
    }
   ],
   "source": [
    "# Compute the total value of the cryptocurrency wallet\n",
    "# Add the value of the BTC holding to the value of the ETH holding\n",
    "total_crypto_wallet = btc_value + eth_value\n",
    "\n",
    "# Print current cryptocurrency wallet balance\n",
    "print(total_crypto_wallet)\n"
   ]
  },
  {
   "cell_type": "markdown",
   "metadata": {},
   "source": [
    "### Evaluate the Stock and Bond Holdings by Using the Alpaca SDK\n",
    "\n",
    "In this section, you’ll determine the current value of a member’s stock and bond holdings. You’ll make an API call to Alpaca via the Alpaca SDK to get the current closing prices of the SPDR S&P 500 ETF Trust (ticker: SPY) and of the iShares Core US Aggregate Bond ETF (ticker: AGG). For the prototype, assume that the member holds 110 shares of SPY, which represents the stock portion of their portfolio, and 200 shares of AGG, which represents the bond portion. To do all this, complete the following steps:\n",
    "\n",
    "1. In the `Starter_Code` folder, create an environment file (`.env`) to store the values of your Alpaca API key and Alpaca secret key.\n",
    "\n",
    "2. Set the variables for the Alpaca API and secret keys. Using the Alpaca SDK, create the Alpaca `tradeapi.REST` object. In this object, include the parameters for the Alpaca API key, the secret key, and the version number.\n",
    "\n",
    "3. Set the following parameters for the Alpaca API call:\n",
    "\n",
    "    - `tickers`: Use the tickers for the member’s stock and bond holdings.\n",
    "\n",
    "    - `timeframe`: Use a time frame of one day.\n",
    "\n",
    "    - `start_date` and `end_date`: Use the same date for these parameters, and format them with the date of the previous weekday (or `2020-08-07`). This is because you want the one closing price for the most-recent trading day.\n",
    "\n",
    "4. Get the current closing prices for `SPY` and `AGG` by using the Alpaca `get_bars` function. Format the response as a Pandas DataFrame by including the `df` property at the end of the `get_bars` function.\n",
    "\n",
    "5. Navigating the Alpaca response DataFrame, select the `SPY` and `AGG` closing prices, and store them as variables.\n",
    "\n",
    "6. Calculate the value, in US dollars, of the current amount of shares in each of the stock and bond portions of the portfolio, and print the results.\n"
   ]
  },
  {
   "cell_type": "markdown",
   "metadata": {},
   "source": [
    "#### Review the total number of shares held in both (SPY) and (AGG)."
   ]
  },
  {
   "cell_type": "code",
   "execution_count": 24,
   "metadata": {},
   "outputs": [],
   "source": [
    "# Current amount of shares held in both the stock (SPY) and bond (AGG) portion of the portfolio.\n",
    "spy_shares = 110\n",
    "agg_shares = 200\n"
   ]
  },
  {
   "cell_type": "markdown",
   "metadata": {},
   "source": [
    "#### Step 1: In the `Starter_Code` folder, create an environment file (`.env`) to store the values of your Alpaca API key and Alpaca secret key."
   ]
  },
  {
   "cell_type": "markdown",
   "metadata": {},
   "source": [
    "#### Step 2: Set the variables for the Alpaca API and secret keys. Using the Alpaca SDK, create the Alpaca `tradeapi.REST` object. In this object, include the parameters for the Alpaca API key, the secret key, and the version number."
   ]
  },
  {
   "cell_type": "code",
   "execution_count": 25,
   "metadata": {},
   "outputs": [],
   "source": [
    "# Set the variables for the Alpaca API and secret keys\n",
    "alpaca_api_key = os.getenv('ALPACA_API_KEY')\n",
    "alpaca_secret_key = os.getenv(\"ALPACA_SECRET_KEY\")\n",
    "\n",
    "# Create the Alpaca tradeapi.REST object\n",
    "alpaca = tradeapi.REST(\n",
    "    alpaca_api_key,\n",
    "    alpaca_secret_key,\n",
    "    api_version=\"v2\"\n",
    ")"
   ]
  },
  {
   "cell_type": "markdown",
   "metadata": {},
   "source": [
    "#### Step 3: Set the following parameters for the Alpaca API call:\n",
    "\n",
    "- `tickers`: Use the tickers for the member’s stock and bond holdings.\n",
    "\n",
    "- `timeframe`: Use a time frame of one day.\n",
    "\n",
    "- `start_date` and `end_date`: Use the same date for these parameters, and format them with the date of the previous weekday (or `2020-08-07`). This is because you want the one closing price for the most-recent trading day.\n"
   ]
  },
  {
   "cell_type": "code",
   "execution_count": 26,
   "metadata": {},
   "outputs": [],
   "source": [
    "# Set the tickers for both the bond and stock portion of the portfolio\n",
    "tickers = ['SPY', 'AGG']\n",
    "\n",
    "# Set timeframe to 1Day\n",
    "timeframe = '1Day'\n",
    "\n",
    "# Format current date as ISO format\n",
    "# Set both the start and end date at the date of your prior weekday \n",
    "# This will give you the closing price of the previous trading day\n",
    "# Alternatively you can use a start and end date of 2020-08-07\n",
    "start_date = pd.Timestamp('2022-04-12', tz='America/New_York').isoformat()\n",
    "end_date = pd.Timestamp('2022-04-12', tz='America/New_York').isoformat()\n"
   ]
  },
  {
   "cell_type": "markdown",
   "metadata": {},
   "source": [
    "#### Step 4: Get the current closing prices for `SPY` and `AGG` by using the Alpaca `get_bars` function. Format the response as a Pandas DataFrame by including the `df` property at the end of the `get_bars` function."
   ]
  },
  {
   "cell_type": "code",
   "execution_count": 30,
   "metadata": {},
   "outputs": [
    {
     "data": {
      "text/html": [
       "<div>\n",
       "<style scoped>\n",
       "    .dataframe tbody tr th:only-of-type {\n",
       "        vertical-align: middle;\n",
       "    }\n",
       "\n",
       "    .dataframe tbody tr th {\n",
       "        vertical-align: top;\n",
       "    }\n",
       "\n",
       "    .dataframe thead tr th {\n",
       "        text-align: left;\n",
       "    }\n",
       "</style>\n",
       "<table border=\"1\" class=\"dataframe\">\n",
       "  <thead>\n",
       "    <tr>\n",
       "      <th></th>\n",
       "      <th colspan=\"7\" halign=\"left\">SPY</th>\n",
       "      <th colspan=\"7\" halign=\"left\">AGG</th>\n",
       "    </tr>\n",
       "    <tr>\n",
       "      <th></th>\n",
       "      <th>open</th>\n",
       "      <th>high</th>\n",
       "      <th>low</th>\n",
       "      <th>close</th>\n",
       "      <th>volume</th>\n",
       "      <th>trade_count</th>\n",
       "      <th>vwap</th>\n",
       "      <th>open</th>\n",
       "      <th>high</th>\n",
       "      <th>low</th>\n",
       "      <th>close</th>\n",
       "      <th>volume</th>\n",
       "      <th>trade_count</th>\n",
       "      <th>vwap</th>\n",
       "    </tr>\n",
       "  </thead>\n",
       "  <tbody>\n",
       "    <tr>\n",
       "      <th>2022-04-12</th>\n",
       "      <td>443.02</td>\n",
       "      <td>445.75</td>\n",
       "      <td>436.6501</td>\n",
       "      <td>438.29</td>\n",
       "      <td>84020734</td>\n",
       "      <td>694115</td>\n",
       "      <td>440.815476</td>\n",
       "      <td>104.83</td>\n",
       "      <td>104.92</td>\n",
       "      <td>104.58</td>\n",
       "      <td>104.61</td>\n",
       "      <td>8448652</td>\n",
       "      <td>29955</td>\n",
       "      <td>104.740856</td>\n",
       "    </tr>\n",
       "  </tbody>\n",
       "</table>\n",
       "</div>"
      ],
      "text/plain": [
       "               SPY                                                  \\\n",
       "              open    high       low   close    volume trade_count   \n",
       "2022-04-12  443.02  445.75  436.6501  438.29  84020734      694115   \n",
       "\n",
       "                           AGG                                               \\\n",
       "                  vwap    open    high     low   close   volume trade_count   \n",
       "2022-04-12  440.815476  104.83  104.92  104.58  104.61  8448652       29955   \n",
       "\n",
       "                        \n",
       "                  vwap  \n",
       "2022-04-12  104.740856  "
      ]
     },
     "execution_count": 30,
     "metadata": {},
     "output_type": "execute_result"
    }
   ],
   "source": [
    "# Use the Alpaca get_bars function to get current closing prices the portfolio\n",
    "# Be sure to set the `df` property after the function to format the response object as a DataFrame\n",
    "prices_df = alpaca.get_bars(\n",
    "    tickers,\n",
    "    timeframe,\n",
    "    start=start_date,\n",
    "    end=end_date\n",
    ").df\n",
    "\n",
    "# Reorganize the DataFrame\n",
    "# Separate ticker data\n",
    "SPY = prices_df[prices_df['symbol']=='SPY'].drop('symbol', axis=1)\n",
    "AGG = prices_df[prices_df['symbol']=='AGG'].drop('symbol', axis=1)\n",
    "# Concatenate the ticker DataFrames\n",
    "prices_df = pd.concat([SPY,AGG], axis=1, keys= ['SPY', 'AGG'])\n",
    "# For new prices dataframe, keep only the date component\n",
    "prices_df.index = prices_df.index.date\n",
    "# Review the first 5 rows of the Alpaca DataFrame\n",
    "prices_df.head()\n"
   ]
  },
  {
   "cell_type": "markdown",
   "metadata": {},
   "source": [
    "#### Step 5: Navigating the Alpaca response DataFrame, select the `SPY` and `AGG` closing prices, and store them as variables."
   ]
  },
  {
   "cell_type": "code",
   "execution_count": 37,
   "metadata": {},
   "outputs": [
    {
     "name": "stdout",
     "output_type": "stream",
     "text": [
      "104.61\n"
     ]
    }
   ],
   "source": [
    "# Access the closing price for AGG from the Alpaca DataFrame\n",
    "# Converting the value to a floating point number\n",
    "agg_close_price = float(prices_df['AGG']['close'])\n",
    "\n",
    "# Print the AGG closing price\n",
    "print(agg_close_price)\n"
   ]
  },
  {
   "cell_type": "code",
   "execution_count": 41,
   "metadata": {},
   "outputs": [
    {
     "name": "stdout",
     "output_type": "stream",
     "text": [
      "438.29\n"
     ]
    }
   ],
   "source": [
    "# Access the closing price for SPY from the Alpaca DataFrame\n",
    "# Converting the value to a floating point number\n",
    "spy_close_price = float(prices_df['SPY']['close'])\n",
    "\n",
    "# Print the SPY closing price\n",
    "print(spy_close_price)\n"
   ]
  },
  {
   "cell_type": "markdown",
   "metadata": {},
   "source": [
    "#### Step 6: Calculate the value, in US dollars, of the current amount of shares in each of the stock and bond portions of the portfolio, and print the results."
   ]
  },
  {
   "cell_type": "code",
   "execution_count": 42,
   "metadata": {},
   "outputs": [
    {
     "name": "stdout",
     "output_type": "stream",
     "text": [
      "20922.0\n"
     ]
    }
   ],
   "source": [
    "# Calculate the current value of the bond portion of the portfolio\n",
    "agg_value = agg_shares * agg_close_price\n",
    "\n",
    "# Print the current value of the bond portfolio\n",
    "print(agg_value)\n"
   ]
  },
  {
   "cell_type": "code",
   "execution_count": 43,
   "metadata": {},
   "outputs": [
    {
     "name": "stdout",
     "output_type": "stream",
     "text": [
      "48211.9\n"
     ]
    }
   ],
   "source": [
    "# Calculate the current value of the stock portion of the portfolio\n",
    "spy_value = spy_shares * spy_close_price\n",
    "\n",
    "# Print the current value of the stock portfolio\n",
    "print(spy_value)\n"
   ]
  },
  {
   "cell_type": "code",
   "execution_count": 44,
   "metadata": {},
   "outputs": [
    {
     "name": "stdout",
     "output_type": "stream",
     "text": [
      "69133.9\n"
     ]
    }
   ],
   "source": [
    "# Calculate the total value of the stock and bond portion of the portfolio\n",
    "total_stocks_bonds = agg_value + spy_value\n",
    "\n",
    "# Print the current balance of the stock and bond portion of the portfolio\n",
    "print(total_stocks_bonds)\n"
   ]
  },
  {
   "cell_type": "code",
   "execution_count": 46,
   "metadata": {},
   "outputs": [
    {
     "name": "stdout",
     "output_type": "stream",
     "text": [
      "134011.511\n"
     ]
    }
   ],
   "source": [
    "# Calculate the total value of the member's entire savings portfolio\n",
    "# Add the value of the cryptocurrency wallet to the value of the total stocks and bonds\n",
    "total_portfolio = total_crypto_wallet + total_stocks_bonds\n",
    "\n",
    "# Print current cryptocurrency wallet balance\n",
    "print(total_portfolio)\n"
   ]
  },
  {
   "cell_type": "markdown",
   "metadata": {},
   "source": [
    "### Evaluate the Emergency Fund\n",
    "\n",
    "In this section, you’ll use the valuations for the cryptocurrency wallet and for the stock and bond portions of the portfolio to determine if the credit union member has enough savings to build an emergency fund into their financial plan. To do this, complete the following steps:\n",
    "\n",
    "1. Create a Python list named `savings_data` that has two elements. The first element contains the total value of the cryptocurrency wallet. The second element contains the total value of the stock and bond portions of the portfolio.\n",
    "\n",
    "2. Use the `savings_data` list to create a Pandas DataFrame named `savings_df`, and then display this DataFrame. The function to create the DataFrame should take the following three parameters:\n",
    "\n",
    "    - `savings_data`: Use the list that you just created.\n",
    "\n",
    "    - `columns`: Set this parameter equal to a Python list with a single value called `amount`.\n",
    "\n",
    "    - `index`: Set this parameter equal to a Python list with the values of `crypto` and `stock/bond`.\n",
    "\n",
    "3. Use the `savings_df` DataFrame to plot a pie chart that visualizes the composition of the member’s portfolio. The y-axis of the pie chart uses `amount`. Be sure to add a title.\n",
    "\n",
    "4. Using Python, determine if the current portfolio has enough to create an emergency fund as part of the member’s financial plan. Ideally, an emergency fund should equal to three times the member’s monthly income. To do this, implement the following steps:\n",
    "\n",
    "    1. Create a variable named `emergency_fund_value`, and set it equal to three times the value of the member’s `monthly_income` of $12000. (You set this earlier in Part 1).\n",
    "\n",
    "    2. Create a series of three if statements to determine if the member’s total portfolio is large enough to fund the emergency portfolio:\n",
    "\n",
    "        1. If the total portfolio value is greater than the emergency fund value, display a message congratulating the member for having enough money in this fund.\n",
    "\n",
    "        2. Else if the total portfolio value is equal to the emergency fund value, display a message congratulating the member on reaching this important financial goal.\n",
    "\n",
    "        3. Else the total portfolio is less than the emergency fund value, so display a message showing how many dollars away the member is from reaching the goal. (Subtract the total portfolio value from the emergency fund value.)\n"
   ]
  },
  {
   "cell_type": "markdown",
   "metadata": {},
   "source": [
    "#### Step 1: Create a Python list named `savings_data` that has two elements. The first element contains the total value of the cryptocurrency wallet. The second element contains the total value of the stock and bond portions of the portfolio."
   ]
  },
  {
   "cell_type": "code",
   "execution_count": 50,
   "metadata": {},
   "outputs": [
    {
     "data": {
      "text/plain": [
       "[64877.611, 69133.9]"
      ]
     },
     "execution_count": 50,
     "metadata": {},
     "output_type": "execute_result"
    }
   ],
   "source": [
    "# Consolidate financial assets data into a Python list\n",
    "savings_data = [total_crypto_wallet, total_stocks_bonds]\n",
    "\n",
    "# Review the Python list savings_data\n",
    "savings_data\n",
    "    "
   ]
  },
  {
   "cell_type": "markdown",
   "metadata": {},
   "source": [
    "#### Step 2: Use the `savings_data` list to create a Pandas DataFrame named `savings_df`, and then display this DataFrame. The function to create the DataFrame should take the following three parameters:\n",
    "\n",
    "- `savings_data`: Use the list that you just created.\n",
    "\n",
    "- `columns`: Set this parameter equal to a Python list with a single value called `amount`.\n",
    "\n",
    "- `index`: Set this parameter equal to a Python list with the values of `crypto` and `stock/bond`.\n"
   ]
  },
  {
   "cell_type": "code",
   "execution_count": 52,
   "metadata": {},
   "outputs": [
    {
     "data": {
      "text/html": [
       "<div>\n",
       "<style scoped>\n",
       "    .dataframe tbody tr th:only-of-type {\n",
       "        vertical-align: middle;\n",
       "    }\n",
       "\n",
       "    .dataframe tbody tr th {\n",
       "        vertical-align: top;\n",
       "    }\n",
       "\n",
       "    .dataframe thead th {\n",
       "        text-align: right;\n",
       "    }\n",
       "</style>\n",
       "<table border=\"1\" class=\"dataframe\">\n",
       "  <thead>\n",
       "    <tr style=\"text-align: right;\">\n",
       "      <th></th>\n",
       "      <th>amount</th>\n",
       "    </tr>\n",
       "  </thead>\n",
       "  <tbody>\n",
       "    <tr>\n",
       "      <th>crypto</th>\n",
       "      <td>64877.611</td>\n",
       "    </tr>\n",
       "    <tr>\n",
       "      <th>stock/bond</th>\n",
       "      <td>69133.900</td>\n",
       "    </tr>\n",
       "  </tbody>\n",
       "</table>\n",
       "</div>"
      ],
      "text/plain": [
       "               amount\n",
       "crypto      64877.611\n",
       "stock/bond  69133.900"
      ]
     },
     "execution_count": 52,
     "metadata": {},
     "output_type": "execute_result"
    }
   ],
   "source": [
    "# Create a Pandas DataFrame called savings_df \n",
    "savings_df = pd.DataFrame(savings_data, columns=['amount'], index = ['crypto', 'stock/bond'])\n",
    "\n",
    "# Display the savings_df DataFrame\n",
    "savings_df\n"
   ]
  },
  {
   "cell_type": "markdown",
   "metadata": {},
   "source": [
    "#### Step 3: Use the `savings_df` DataFrame to plot a pie chart that visualizes the composition of the member’s portfolio. The y-axis of the pie chart uses `amount`. Be sure to add a title."
   ]
  },
  {
   "cell_type": "code",
   "execution_count": 57,
   "metadata": {},
   "outputs": [
    {
     "data": {
      "text/plain": [
       "<AxesSubplot:title={'center':'Portfolio Composition of 2022-04-12'}, ylabel='amount'>"
      ]
     },
     "execution_count": 57,
     "metadata": {},
     "output_type": "execute_result"
    },
    {
     "data": {
      "image/png": "[encoded data removed]",
      "text/plain": [
       "<Figure size 504x432 with 1 Axes>"
      ]
     },
     "metadata": {},
     "output_type": "display_data"
    }
   ],
   "source": [
    "# Plot the total value of the member's portfolio (crypto and stock/bond) in a pie chart\n",
    "savings_df.plot.pie(figsize=(7,6), y='amount', title='Portfolio Composition of 2022-04-12')\n"
   ]
  },
  {
   "cell_type": "markdown",
   "metadata": {},
   "source": [
    "#### Step 4: Using Python, determine if the current portfolio has enough to create an emergency fund as part of the member’s financial plan. Ideally, an emergency fund should equal to three times the member’s monthly income. To do this, implement the following steps:\n",
    "\n",
    "Step 1. Create a variable named `emergency_fund_value`, and set it equal to three times the value of the member’s `monthly_income` of 12000. (You set this earlier in Part 1).\n",
    "\n",
    "Step 2. Create a series of three if statements to determine if the member’s total portfolio is large enough to fund the emergency portfolio:\n",
    "\n",
    "* If the total portfolio value is greater than the emergency fund value, display a message congratulating the member for having enough money in this fund.\n",
    "\n",
    "* Else if the total portfolio value is equal to the emergency fund value, display a message congratulating the member on reaching this important financial goal.\n",
    "\n",
    "* Else the total portfolio is less than the emergency fund value, so display a message showing how many dollars away the member is from reaching the goal. (Subtract the total portfolio value from the emergency fund value.)\n"
   ]
  },
  {
   "cell_type": "markdown",
   "metadata": {},
   "source": [
    "##### Step 4-1: Create a variable named `emergency_fund_value`, and set it equal to three times the value of the member’s `monthly_income` of 12000. (You set this earlier in Part 1)."
   ]
  },
  {
   "cell_type": "code",
   "execution_count": 66,
   "metadata": {},
   "outputs": [],
   "source": [
    "# Create a variable named emergency_fund_value\n",
    "emergency_fund_value= monthly_income * 3\n"
   ]
  },
  {
   "cell_type": "markdown",
   "metadata": {},
   "source": [
    "##### Step 4-2: Create a series of three if statements to determine if the member’s total portfolio is large enough to fund the emergency portfolio:\n",
    "\n",
    "* If the total portfolio value is greater than the emergency fund value, display a message congratulating the member for having enough money in this fund.\n",
    "\n",
    "* Else if the total portfolio value is equal to the emergency fund value, display a message congratulating the member on reaching this important financial goal.\n",
    "\n",
    "* Else the total portfolio is less than the emergency fund value, so display a message showing how many dollars away the member is from reaching the goal. (Subtract the total portfolio value from the emergency fund value.)"
   ]
  },
  {
   "cell_type": "code",
   "execution_count": 67,
   "metadata": {},
   "outputs": [
    {
     "name": "stdout",
     "output_type": "stream",
     "text": [
      "Congratulations, your total portfolio is large enough to fund the emergency portfolio.\n"
     ]
    }
   ],
   "source": [
    "# Evaluate the possibility of creating an emergency fund with 3 conditions:\n",
    "if total_portfolio > emergency_fund_value:\n",
    "    print('Congratulations, your total portfolio is large enough to fund the emergency portfolio.')\n",
    "elif total_portfolio == emergency_fund_value:\n",
    "    print('Congratulations, you have reached your goal of having an emergency fund portfolio.')\n",
    "else:\n",
    "    print(f'You are currently ${(emergency_fund_value - total_portfolio)} away from reaching the goal.')\n"
   ]
  },
  {
   "cell_type": "markdown",
   "metadata": {},
   "source": [
    "## Part 2: Create a Financial Planner for Retirement"
   ]
  },
  {
   "cell_type": "markdown",
   "metadata": {},
   "source": [
    "### Create the Monte Carlo Simulation\n",
    "\n",
    "In this section, you’ll use the MCForecastTools library to create a Monte Carlo simulation for the member’s savings portfolio. To do this, complete the following steps:\n",
    "\n",
    "1. Make an API call via the Alpaca SDK to get 3 years of historical closing prices for a traditional 60/40 portfolio split: 60% stocks (SPY) and 40% bonds (AGG).\n",
    "\n",
    "2. Run a Monte Carlo simulation of 500 samples and 30 years for the 60/40 portfolio, and then plot the results.The following image shows the overlay line plot resulting from a simulation with these characteristics. However, because a random number generator is used to run each live Monte Carlo simulation, your image will differ slightly from this exact image:\n",
    "\n",
    "![A screenshot depicts the resulting plot.](Images/5-4-monte-carlo-line-plot.png)\n",
    "\n",
    "3. Plot the probability distribution of the Monte Carlo simulation. Plot the probability distribution of the Monte Carlo simulation. The following image shows the histogram plot resulting from a simulation with these characteristics. However, because a random number generator is used to run each live Monte Carlo simulation, your image will differ slightly from this exact image:\n",
    "\n",
    "![A screenshot depicts the histogram plot.](Images/5-4-monte-carlo-histogram.png)\n",
    "\n",
    "4. Generate the summary statistics for the Monte Carlo simulation.\n",
    "\n"
   ]
  },
  {
   "cell_type": "markdown",
   "metadata": {},
   "source": [
    "#### Step 1: Make an API call via the Alpaca SDK to get 3 years of historical closing prices for a traditional 60/40 portfolio split: 60% stocks (SPY) and 40% bonds (AGG)."
   ]
  },
  {
   "cell_type": "code",
   "execution_count": 100,
   "metadata": {},
   "outputs": [],
   "source": [
    "# Set start and end dates of 3 years back from your current date\n",
    "# Alternatively, you can use an end date of 2020-08-07 and work 3 years back from that date \n",
    "new_start_date = pd.Timestamp('2019-04-12', tz='America/New_York').isoformat()\n",
    "new_end_date = pd.Timestamp('2022-04-12', tz='America/New_York').isoformat()\n"
   ]
  },
  {
   "cell_type": "code",
   "execution_count": 101,
   "metadata": {},
   "outputs": [
    {
     "data": {
      "text/html": [
       "<div>\n",
       "<style scoped>\n",
       "    .dataframe tbody tr th:only-of-type {\n",
       "        vertical-align: middle;\n",
       "    }\n",
       "\n",
       "    .dataframe tbody tr th {\n",
       "        vertical-align: top;\n",
       "    }\n",
       "\n",
       "    .dataframe thead tr th {\n",
       "        text-align: left;\n",
       "    }\n",
       "\n",
       "    .dataframe thead tr:last-of-type th {\n",
       "        text-align: right;\n",
       "    }\n",
       "</style>\n",
       "<table border=\"1\" class=\"dataframe\">\n",
       "  <thead>\n",
       "    <tr>\n",
       "      <th></th>\n",
       "      <th colspan=\"7\" halign=\"left\">SPY</th>\n",
       "      <th colspan=\"7\" halign=\"left\">AGG</th>\n",
       "    </tr>\n",
       "    <tr>\n",
       "      <th></th>\n",
       "      <th>open</th>\n",
       "      <th>high</th>\n",
       "      <th>low</th>\n",
       "      <th>close</th>\n",
       "      <th>volume</th>\n",
       "      <th>trade_count</th>\n",
       "      <th>vwap</th>\n",
       "      <th>open</th>\n",
       "      <th>high</th>\n",
       "      <th>low</th>\n",
       "      <th>close</th>\n",
       "      <th>volume</th>\n",
       "      <th>trade_count</th>\n",
       "      <th>vwap</th>\n",
       "    </tr>\n",
       "    <tr>\n",
       "      <th>timestamp</th>\n",
       "      <th></th>\n",
       "      <th></th>\n",
       "      <th></th>\n",
       "      <th></th>\n",
       "      <th></th>\n",
       "      <th></th>\n",
       "      <th></th>\n",
       "      <th></th>\n",
       "      <th></th>\n",
       "      <th></th>\n",
       "      <th></th>\n",
       "      <th></th>\n",
       "      <th></th>\n",
       "      <th></th>\n",
       "    </tr>\n",
       "  </thead>\n",
       "  <tbody>\n",
       "    <tr>\n",
       "      <th>2019-04-12 04:00:00+00:00</th>\n",
       "      <td>290.01</td>\n",
       "      <td>290.470</td>\n",
       "      <td>288.261</td>\n",
       "      <td>290.16</td>\n",
       "      <td>69835782</td>\n",
       "      <td>232166</td>\n",
       "      <td>289.776012</td>\n",
       "      <td>108.26</td>\n",
       "      <td>108.3500</td>\n",
       "      <td>108.22</td>\n",
       "      <td>108.27</td>\n",
       "      <td>2430609</td>\n",
       "      <td>11376</td>\n",
       "      <td>108.269606</td>\n",
       "    </tr>\n",
       "    <tr>\n",
       "      <th>2019-04-15 04:00:00+00:00</th>\n",
       "      <td>290.27</td>\n",
       "      <td>290.350</td>\n",
       "      <td>289.075</td>\n",
       "      <td>289.97</td>\n",
       "      <td>50222730</td>\n",
       "      <td>199622</td>\n",
       "      <td>289.773677</td>\n",
       "      <td>108.21</td>\n",
       "      <td>108.3000</td>\n",
       "      <td>108.21</td>\n",
       "      <td>108.25</td>\n",
       "      <td>2546204</td>\n",
       "      <td>10053</td>\n",
       "      <td>108.253507</td>\n",
       "    </tr>\n",
       "    <tr>\n",
       "      <th>2019-04-16 04:00:00+00:00</th>\n",
       "      <td>290.96</td>\n",
       "      <td>291.010</td>\n",
       "      <td>289.500</td>\n",
       "      <td>290.16</td>\n",
       "      <td>52154597</td>\n",
       "      <td>206469</td>\n",
       "      <td>290.277078</td>\n",
       "      <td>108.12</td>\n",
       "      <td>108.2100</td>\n",
       "      <td>108.02</td>\n",
       "      <td>108.06</td>\n",
       "      <td>4093950</td>\n",
       "      <td>12649</td>\n",
       "      <td>108.108731</td>\n",
       "    </tr>\n",
       "    <tr>\n",
       "      <th>2019-04-17 04:00:00+00:00</th>\n",
       "      <td>291.41</td>\n",
       "      <td>291.425</td>\n",
       "      <td>288.990</td>\n",
       "      <td>289.45</td>\n",
       "      <td>58268470</td>\n",
       "      <td>245037</td>\n",
       "      <td>289.770682</td>\n",
       "      <td>108.09</td>\n",
       "      <td>108.1899</td>\n",
       "      <td>108.05</td>\n",
       "      <td>108.05</td>\n",
       "      <td>3390171</td>\n",
       "      <td>9569</td>\n",
       "      <td>108.090758</td>\n",
       "    </tr>\n",
       "    <tr>\n",
       "      <th>2019-04-18 04:00:00+00:00</th>\n",
       "      <td>290.12</td>\n",
       "      <td>290.320</td>\n",
       "      <td>288.660</td>\n",
       "      <td>290.02</td>\n",
       "      <td>69414428</td>\n",
       "      <td>231296</td>\n",
       "      <td>289.794161</td>\n",
       "      <td>108.23</td>\n",
       "      <td>108.2900</td>\n",
       "      <td>108.16</td>\n",
       "      <td>108.19</td>\n",
       "      <td>2217221</td>\n",
       "      <td>8388</td>\n",
       "      <td>108.211849</td>\n",
       "    </tr>\n",
       "  </tbody>\n",
       "</table>\n",
       "</div>"
      ],
      "text/plain": [
       "                              SPY                                      \\\n",
       "                             open     high      low   close    volume   \n",
       "timestamp                                                               \n",
       "2019-04-12 04:00:00+00:00  290.01  290.470  288.261  290.16  69835782   \n",
       "2019-04-15 04:00:00+00:00  290.27  290.350  289.075  289.97  50222730   \n",
       "2019-04-16 04:00:00+00:00  290.96  291.010  289.500  290.16  52154597   \n",
       "2019-04-17 04:00:00+00:00  291.41  291.425  288.990  289.45  58268470   \n",
       "2019-04-18 04:00:00+00:00  290.12  290.320  288.660  290.02  69414428   \n",
       "\n",
       "                                                      AGG                    \\\n",
       "                          trade_count        vwap    open      high     low   \n",
       "timestamp                                                                     \n",
       "2019-04-12 04:00:00+00:00      232166  289.776012  108.26  108.3500  108.22   \n",
       "2019-04-15 04:00:00+00:00      199622  289.773677  108.21  108.3000  108.21   \n",
       "2019-04-16 04:00:00+00:00      206469  290.277078  108.12  108.2100  108.02   \n",
       "2019-04-17 04:00:00+00:00      245037  289.770682  108.09  108.1899  108.05   \n",
       "2019-04-18 04:00:00+00:00      231296  289.794161  108.23  108.2900  108.16   \n",
       "\n",
       "                                                                    \n",
       "                            close   volume trade_count        vwap  \n",
       "timestamp                                                           \n",
       "2019-04-12 04:00:00+00:00  108.27  2430609       11376  108.269606  \n",
       "2019-04-15 04:00:00+00:00  108.25  2546204       10053  108.253507  \n",
       "2019-04-16 04:00:00+00:00  108.06  4093950       12649  108.108731  \n",
       "2019-04-17 04:00:00+00:00  108.05  3390171        9569  108.090758  \n",
       "2019-04-18 04:00:00+00:00  108.19  2217221        8388  108.211849  "
      ]
     },
     "metadata": {},
     "output_type": "display_data"
    },
    {
     "data": {
      "text/html": [
       "<div>\n",
       "<style scoped>\n",
       "    .dataframe tbody tr th:only-of-type {\n",
       "        vertical-align: middle;\n",
       "    }\n",
       "\n",
       "    .dataframe tbody tr th {\n",
       "        vertical-align: top;\n",
       "    }\n",
       "\n",
       "    .dataframe thead tr th {\n",
       "        text-align: left;\n",
       "    }\n",
       "\n",
       "    .dataframe thead tr:last-of-type th {\n",
       "        text-align: right;\n",
       "    }\n",
       "</style>\n",
       "<table border=\"1\" class=\"dataframe\">\n",
       "  <thead>\n",
       "    <tr>\n",
       "      <th></th>\n",
       "      <th colspan=\"7\" halign=\"left\">SPY</th>\n",
       "      <th colspan=\"7\" halign=\"left\">AGG</th>\n",
       "    </tr>\n",
       "    <tr>\n",
       "      <th></th>\n",
       "      <th>open</th>\n",
       "      <th>high</th>\n",
       "      <th>low</th>\n",
       "      <th>close</th>\n",
       "      <th>volume</th>\n",
       "      <th>trade_count</th>\n",
       "      <th>vwap</th>\n",
       "      <th>open</th>\n",
       "      <th>high</th>\n",
       "      <th>low</th>\n",
       "      <th>close</th>\n",
       "      <th>volume</th>\n",
       "      <th>trade_count</th>\n",
       "      <th>vwap</th>\n",
       "    </tr>\n",
       "    <tr>\n",
       "      <th>timestamp</th>\n",
       "      <th></th>\n",
       "      <th></th>\n",
       "      <th></th>\n",
       "      <th></th>\n",
       "      <th></th>\n",
       "      <th></th>\n",
       "      <th></th>\n",
       "      <th></th>\n",
       "      <th></th>\n",
       "      <th></th>\n",
       "      <th></th>\n",
       "      <th></th>\n",
       "      <th></th>\n",
       "      <th></th>\n",
       "    </tr>\n",
       "  </thead>\n",
       "  <tbody>\n",
       "    <tr>\n",
       "      <th>2022-04-06 04:00:00+00:00</th>\n",
       "      <td>446.87</td>\n",
       "      <td>448.93</td>\n",
       "      <td>443.4700</td>\n",
       "      <td>446.52</td>\n",
       "      <td>105592595</td>\n",
       "      <td>901634</td>\n",
       "      <td>446.345270</td>\n",
       "      <td>105.20</td>\n",
       "      <td>105.805</td>\n",
       "      <td>105.115</td>\n",
       "      <td>105.49</td>\n",
       "      <td>13322630</td>\n",
       "      <td>47090</td>\n",
       "      <td>105.463015</td>\n",
       "    </tr>\n",
       "    <tr>\n",
       "      <th>2022-04-07 04:00:00+00:00</th>\n",
       "      <td>445.67</td>\n",
       "      <td>450.69</td>\n",
       "      <td>443.5300</td>\n",
       "      <td>448.77</td>\n",
       "      <td>77538519</td>\n",
       "      <td>628673</td>\n",
       "      <td>447.098209</td>\n",
       "      <td>105.38</td>\n",
       "      <td>105.510</td>\n",
       "      <td>105.130</td>\n",
       "      <td>105.26</td>\n",
       "      <td>7921117</td>\n",
       "      <td>25631</td>\n",
       "      <td>105.278761</td>\n",
       "    </tr>\n",
       "    <tr>\n",
       "      <th>2022-04-08 04:00:00+00:00</th>\n",
       "      <td>448.04</td>\n",
       "      <td>450.63</td>\n",
       "      <td>445.9400</td>\n",
       "      <td>447.57</td>\n",
       "      <td>79148376</td>\n",
       "      <td>573491</td>\n",
       "      <td>448.250805</td>\n",
       "      <td>104.82</td>\n",
       "      <td>105.010</td>\n",
       "      <td>104.615</td>\n",
       "      <td>104.73</td>\n",
       "      <td>6501822</td>\n",
       "      <td>24900</td>\n",
       "      <td>104.804999</td>\n",
       "    </tr>\n",
       "    <tr>\n",
       "      <th>2022-04-11 04:00:00+00:00</th>\n",
       "      <td>444.11</td>\n",
       "      <td>445.00</td>\n",
       "      <td>439.3900</td>\n",
       "      <td>439.92</td>\n",
       "      <td>89825549</td>\n",
       "      <td>779421</td>\n",
       "      <td>442.206374</td>\n",
       "      <td>104.44</td>\n",
       "      <td>104.505</td>\n",
       "      <td>104.170</td>\n",
       "      <td>104.28</td>\n",
       "      <td>8377902</td>\n",
       "      <td>29767</td>\n",
       "      <td>104.312835</td>\n",
       "    </tr>\n",
       "    <tr>\n",
       "      <th>2022-04-12 04:00:00+00:00</th>\n",
       "      <td>443.02</td>\n",
       "      <td>445.75</td>\n",
       "      <td>436.6501</td>\n",
       "      <td>438.29</td>\n",
       "      <td>84020734</td>\n",
       "      <td>694115</td>\n",
       "      <td>440.815476</td>\n",
       "      <td>104.83</td>\n",
       "      <td>104.920</td>\n",
       "      <td>104.580</td>\n",
       "      <td>104.61</td>\n",
       "      <td>8448652</td>\n",
       "      <td>29955</td>\n",
       "      <td>104.740856</td>\n",
       "    </tr>\n",
       "  </tbody>\n",
       "</table>\n",
       "</div>"
      ],
      "text/plain": [
       "                              SPY                                       \\\n",
       "                             open    high       low   close     volume   \n",
       "timestamp                                                                \n",
       "2022-04-06 04:00:00+00:00  446.87  448.93  443.4700  446.52  105592595   \n",
       "2022-04-07 04:00:00+00:00  445.67  450.69  443.5300  448.77   77538519   \n",
       "2022-04-08 04:00:00+00:00  448.04  450.63  445.9400  447.57   79148376   \n",
       "2022-04-11 04:00:00+00:00  444.11  445.00  439.3900  439.92   89825549   \n",
       "2022-04-12 04:00:00+00:00  443.02  445.75  436.6501  438.29   84020734   \n",
       "\n",
       "                                                      AGG                    \\\n",
       "                          trade_count        vwap    open     high      low   \n",
       "timestamp                                                                     \n",
       "2022-04-06 04:00:00+00:00      901634  446.345270  105.20  105.805  105.115   \n",
       "2022-04-07 04:00:00+00:00      628673  447.098209  105.38  105.510  105.130   \n",
       "2022-04-08 04:00:00+00:00      573491  448.250805  104.82  105.010  104.615   \n",
       "2022-04-11 04:00:00+00:00      779421  442.206374  104.44  104.505  104.170   \n",
       "2022-04-12 04:00:00+00:00      694115  440.815476  104.83  104.920  104.580   \n",
       "\n",
       "                                                                     \n",
       "                            close    volume trade_count        vwap  \n",
       "timestamp                                                            \n",
       "2022-04-06 04:00:00+00:00  105.49  13322630       47090  105.463015  \n",
       "2022-04-07 04:00:00+00:00  105.26   7921117       25631  105.278761  \n",
       "2022-04-08 04:00:00+00:00  104.73   6501822       24900  104.804999  \n",
       "2022-04-11 04:00:00+00:00  104.28   8377902       29767  104.312835  \n",
       "2022-04-12 04:00:00+00:00  104.61   8448652       29955  104.740856  "
      ]
     },
     "metadata": {},
     "output_type": "display_data"
    }
   ],
   "source": [
    "# Use the Alpaca get_bars function to make the API call to get the 3 years worth of pricing data\n",
    "# Set the tickers for both the bond and stock portion of the portfolio\n",
    "tickers = ['SPY', 'AGG']\n",
    "\n",
    "# Set timeframe to 1Day\n",
    "timeframe = '1Day'\n",
    "# The start and end dates should be updated with the information set above\n",
    "# Remember to add the df property to the end of the call so the response is returned as a DataFrame\n",
    "prices_3years_df = alpaca.get_bars(\n",
    "    tickers,\n",
    "    timeframe,\n",
    "    start=new_start_date,\n",
    "    end=new_end_date,\n",
    ").df\n",
    "\n",
    "# Reorganize the DataFrame\n",
    "# Separate ticker data\n",
    "SPY = prices_3years_df[prices_3years_df['symbol']=='SPY'].drop('symbol', axis=1)\n",
    "AGG = prices_3years_df[prices_3years_df['symbol']=='AGG'].drop('symbol', axis=1)\n",
    "\n",
    "# Concatenate the ticker DataFrames\n",
    "prices_3years_df = pd.concat([SPY,AGG], axis=1, keys= ['SPY', 'AGG'])\n",
    "\n",
    "# Display both the first and last five rows of the DataFrame\n",
    "display(prices_3years_df.head())\n",
    "display(prices_3years_df.tail())\n"
   ]
  },
  {
   "cell_type": "markdown",
   "metadata": {},
   "source": [
    "#### Step 2: Run a Monte Carlo simulation of 500 samples and 30 years for the 60/40 portfolio, and then plot the results."
   ]
  },
  {
   "cell_type": "code",
   "execution_count": 108,
   "metadata": {},
   "outputs": [
    {
     "data": {
      "text/html": [
       "<div>\n",
       "<style scoped>\n",
       "    .dataframe tbody tr th:only-of-type {\n",
       "        vertical-align: middle;\n",
       "    }\n",
       "\n",
       "    .dataframe tbody tr th {\n",
       "        vertical-align: top;\n",
       "    }\n",
       "\n",
       "    .dataframe thead tr th {\n",
       "        text-align: left;\n",
       "    }\n",
       "\n",
       "    .dataframe thead tr:last-of-type th {\n",
       "        text-align: right;\n",
       "    }\n",
       "</style>\n",
       "<table border=\"1\" class=\"dataframe\">\n",
       "  <thead>\n",
       "    <tr>\n",
       "      <th></th>\n",
       "      <th colspan=\"8\" halign=\"left\">SPY</th>\n",
       "      <th colspan=\"8\" halign=\"left\">AGG</th>\n",
       "    </tr>\n",
       "    <tr>\n",
       "      <th></th>\n",
       "      <th>open</th>\n",
       "      <th>high</th>\n",
       "      <th>low</th>\n",
       "      <th>close</th>\n",
       "      <th>volume</th>\n",
       "      <th>trade_count</th>\n",
       "      <th>vwap</th>\n",
       "      <th>daily_return</th>\n",
       "      <th>open</th>\n",
       "      <th>high</th>\n",
       "      <th>low</th>\n",
       "      <th>close</th>\n",
       "      <th>volume</th>\n",
       "      <th>trade_count</th>\n",
       "      <th>vwap</th>\n",
       "      <th>daily_return</th>\n",
       "    </tr>\n",
       "    <tr>\n",
       "      <th>timestamp</th>\n",
       "      <th></th>\n",
       "      <th></th>\n",
       "      <th></th>\n",
       "      <th></th>\n",
       "      <th></th>\n",
       "      <th></th>\n",
       "      <th></th>\n",
       "      <th></th>\n",
       "      <th></th>\n",
       "      <th></th>\n",
       "      <th></th>\n",
       "      <th></th>\n",
       "      <th></th>\n",
       "      <th></th>\n",
       "      <th></th>\n",
       "      <th></th>\n",
       "    </tr>\n",
       "  </thead>\n",
       "  <tbody>\n",
       "    <tr>\n",
       "      <th>2019-04-12 04:00:00+00:00</th>\n",
       "      <td>290.01</td>\n",
       "      <td>290.470</td>\n",
       "      <td>288.261</td>\n",
       "      <td>290.16</td>\n",
       "      <td>69835782</td>\n",
       "      <td>232166</td>\n",
       "      <td>289.776012</td>\n",
       "      <td>NaN</td>\n",
       "      <td>108.26</td>\n",
       "      <td>108.3500</td>\n",
       "      <td>108.22</td>\n",
       "      <td>108.27</td>\n",
       "      <td>2430609</td>\n",
       "      <td>11376</td>\n",
       "      <td>108.269606</td>\n",
       "      <td>NaN</td>\n",
       "    </tr>\n",
       "    <tr>\n",
       "      <th>2019-04-15 04:00:00+00:00</th>\n",
       "      <td>290.27</td>\n",
       "      <td>290.350</td>\n",
       "      <td>289.075</td>\n",
       "      <td>289.97</td>\n",
       "      <td>50222730</td>\n",
       "      <td>199622</td>\n",
       "      <td>289.773677</td>\n",
       "      <td>-0.000655</td>\n",
       "      <td>108.21</td>\n",
       "      <td>108.3000</td>\n",
       "      <td>108.21</td>\n",
       "      <td>108.25</td>\n",
       "      <td>2546204</td>\n",
       "      <td>10053</td>\n",
       "      <td>108.253507</td>\n",
       "      <td>-0.000185</td>\n",
       "    </tr>\n",
       "    <tr>\n",
       "      <th>2019-04-16 04:00:00+00:00</th>\n",
       "      <td>290.96</td>\n",
       "      <td>291.010</td>\n",
       "      <td>289.500</td>\n",
       "      <td>290.16</td>\n",
       "      <td>52154597</td>\n",
       "      <td>206469</td>\n",
       "      <td>290.277078</td>\n",
       "      <td>0.000655</td>\n",
       "      <td>108.12</td>\n",
       "      <td>108.2100</td>\n",
       "      <td>108.02</td>\n",
       "      <td>108.06</td>\n",
       "      <td>4093950</td>\n",
       "      <td>12649</td>\n",
       "      <td>108.108731</td>\n",
       "      <td>-0.001755</td>\n",
       "    </tr>\n",
       "    <tr>\n",
       "      <th>2019-04-17 04:00:00+00:00</th>\n",
       "      <td>291.41</td>\n",
       "      <td>291.425</td>\n",
       "      <td>288.990</td>\n",
       "      <td>289.45</td>\n",
       "      <td>58268470</td>\n",
       "      <td>245037</td>\n",
       "      <td>289.770682</td>\n",
       "      <td>-0.002447</td>\n",
       "      <td>108.09</td>\n",
       "      <td>108.1899</td>\n",
       "      <td>108.05</td>\n",
       "      <td>108.05</td>\n",
       "      <td>3390171</td>\n",
       "      <td>9569</td>\n",
       "      <td>108.090758</td>\n",
       "      <td>-0.000093</td>\n",
       "    </tr>\n",
       "    <tr>\n",
       "      <th>2019-04-18 04:00:00+00:00</th>\n",
       "      <td>290.12</td>\n",
       "      <td>290.320</td>\n",
       "      <td>288.660</td>\n",
       "      <td>290.02</td>\n",
       "      <td>69414428</td>\n",
       "      <td>231296</td>\n",
       "      <td>289.794161</td>\n",
       "      <td>0.001969</td>\n",
       "      <td>108.23</td>\n",
       "      <td>108.2900</td>\n",
       "      <td>108.16</td>\n",
       "      <td>108.19</td>\n",
       "      <td>2217221</td>\n",
       "      <td>8388</td>\n",
       "      <td>108.211849</td>\n",
       "      <td>0.001296</td>\n",
       "    </tr>\n",
       "  </tbody>\n",
       "</table>\n",
       "</div>"
      ],
      "text/plain": [
       "                              SPY                                      \\\n",
       "                             open     high      low   close    volume   \n",
       "timestamp                                                               \n",
       "2019-04-12 04:00:00+00:00  290.01  290.470  288.261  290.16  69835782   \n",
       "2019-04-15 04:00:00+00:00  290.27  290.350  289.075  289.97  50222730   \n",
       "2019-04-16 04:00:00+00:00  290.96  291.010  289.500  290.16  52154597   \n",
       "2019-04-17 04:00:00+00:00  291.41  291.425  288.990  289.45  58268470   \n",
       "2019-04-18 04:00:00+00:00  290.12  290.320  288.660  290.02  69414428   \n",
       "\n",
       "                                                                   AGG  \\\n",
       "                          trade_count        vwap daily_return    open   \n",
       "timestamp                                                                \n",
       "2019-04-12 04:00:00+00:00      232166  289.776012          NaN  108.26   \n",
       "2019-04-15 04:00:00+00:00      199622  289.773677    -0.000655  108.21   \n",
       "2019-04-16 04:00:00+00:00      206469  290.277078     0.000655  108.12   \n",
       "2019-04-17 04:00:00+00:00      245037  289.770682    -0.002447  108.09   \n",
       "2019-04-18 04:00:00+00:00      231296  289.794161     0.001969  108.23   \n",
       "\n",
       "                                                                          \\\n",
       "                               high     low   close   volume trade_count   \n",
       "timestamp                                                                  \n",
       "2019-04-12 04:00:00+00:00  108.3500  108.22  108.27  2430609       11376   \n",
       "2019-04-15 04:00:00+00:00  108.3000  108.21  108.25  2546204       10053   \n",
       "2019-04-16 04:00:00+00:00  108.2100  108.02  108.06  4093950       12649   \n",
       "2019-04-17 04:00:00+00:00  108.1899  108.05  108.05  3390171        9569   \n",
       "2019-04-18 04:00:00+00:00  108.2900  108.16  108.19  2217221        8388   \n",
       "\n",
       "                                                    \n",
       "                                 vwap daily_return  \n",
       "timestamp                                           \n",
       "2019-04-12 04:00:00+00:00  108.269606          NaN  \n",
       "2019-04-15 04:00:00+00:00  108.253507    -0.000185  \n",
       "2019-04-16 04:00:00+00:00  108.108731    -0.001755  \n",
       "2019-04-17 04:00:00+00:00  108.090758    -0.000093  \n",
       "2019-04-18 04:00:00+00:00  108.211849     0.001296  "
      ]
     },
     "execution_count": 108,
     "metadata": {},
     "output_type": "execute_result"
    }
   ],
   "source": [
    "# Configure the Monte Carlo simulation to forecast 30 years cumulative returns\n",
    "# The weights should be split 40% to AGG and 60% to SPY.\n",
    "# Run 500 samples.\n",
    "MC_spy_agg = MCSimulation(\n",
    "    portfolio_data = prices_3years_df,\n",
    "    weights = [.6,.4],\n",
    "    num_simulation = 500,\n",
    "    num_trading_days = 252*30\n",
    ")\n",
    "# Review the simulation input data\n",
    "MC_spy_agg.portfolio_data.head()\n"
   ]
  },
  {
   "cell_type": "code",
   "execution_count": 109,
   "metadata": {},
   "outputs": [
    {
     "name": "stdout",
     "output_type": "stream",
     "text": [
      "Running Monte Carlo simulation number 0.\n",
      "Running Monte Carlo simulation number 10.\n",
      "Running Monte Carlo simulation number 20.\n",
      "Running Monte Carlo simulation number 30.\n",
      "Running Monte Carlo simulation number 40.\n",
      "Running Monte Carlo simulation number 50.\n",
      "Running Monte Carlo simulation number 60.\n",
      "Running Monte Carlo simulation number 70.\n",
      "Running Monte Carlo simulation number 80.\n",
      "Running Monte Carlo simulation number 90.\n",
      "Running Monte Carlo simulation number 100.\n"
     ]
    },
    {
     "name": "stderr",
     "output_type": "stream",
     "text": [
      "/Users/yjun_ln/Desktop/FinTech/Module5/Starter_Code/MCForecastTools.py:117: PerformanceWarning: DataFrame is highly fragmented.  This is usually the result of calling `frame.insert` many times, which has poor performance.  Consider joining all columns at once using pd.concat(axis=1) instead.  To get a de-fragmented frame, use `newframe = frame.copy()`\n",
      "  portfolio_cumulative_returns[n] = (1 + sim_df.fillna(0)).cumprod()\n"
     ]
    },
    {
     "name": "stdout",
     "output_type": "stream",
     "text": [
      "Running Monte Carlo simulation number 110.\n",
      "Running Monte Carlo simulation number 120.\n",
      "Running Monte Carlo simulation number 130.\n",
      "Running Monte Carlo simulation number 140.\n",
      "Running Monte Carlo simulation number 150.\n",
      "Running Monte Carlo simulation number 160.\n",
      "Running Monte Carlo simulation number 170.\n",
      "Running Monte Carlo simulation number 180.\n",
      "Running Monte Carlo simulation number 190.\n",
      "Running Monte Carlo simulation number 200.\n",
      "Running Monte Carlo simulation number 210.\n",
      "Running Monte Carlo simulation number 220.\n",
      "Running Monte Carlo simulation number 230.\n",
      "Running Monte Carlo simulation number 240.\n",
      "Running Monte Carlo simulation number 250.\n",
      "Running Monte Carlo simulation number 260.\n",
      "Running Monte Carlo simulation number 270.\n",
      "Running Monte Carlo simulation number 280.\n",
      "Running Monte Carlo simulation number 290.\n",
      "Running Monte Carlo simulation number 300.\n",
      "Running Monte Carlo simulation number 310.\n",
      "Running Monte Carlo simulation number 320.\n",
      "Running Monte Carlo simulation number 330.\n",
      "Running Monte Carlo simulation number 340.\n",
      "Running Monte Carlo simulation number 350.\n",
      "Running Monte Carlo simulation number 360.\n",
      "Running Monte Carlo simulation number 370.\n",
      "Running Monte Carlo simulation number 380.\n",
      "Running Monte Carlo simulation number 390.\n",
      "Running Monte Carlo simulation number 400.\n",
      "Running Monte Carlo simulation number 410.\n",
      "Running Monte Carlo simulation number 420.\n",
      "Running Monte Carlo simulation number 430.\n",
      "Running Monte Carlo simulation number 440.\n",
      "Running Monte Carlo simulation number 450.\n",
      "Running Monte Carlo simulation number 460.\n",
      "Running Monte Carlo simulation number 470.\n",
      "Running Monte Carlo simulation number 480.\n",
      "Running Monte Carlo simulation number 490.\n"
     ]
    },
    {
     "data": {
      "text/html": [
       "<div>\n",
       "<style scoped>\n",
       "    .dataframe tbody tr th:only-of-type {\n",
       "        vertical-align: middle;\n",
       "    }\n",
       "\n",
       "    .dataframe tbody tr th {\n",
       "        vertical-align: top;\n",
       "    }\n",
       "\n",
       "    .dataframe thead th {\n",
       "        text-align: right;\n",
       "    }\n",
       "</style>\n",
       "<table border=\"1\" class=\"dataframe\">\n",
       "  <thead>\n",
       "    <tr style=\"text-align: right;\">\n",
       "      <th></th>\n",
       "      <th>0</th>\n",
       "      <th>1</th>\n",
       "      <th>2</th>\n",
       "      <th>3</th>\n",
       "      <th>4</th>\n",
       "      <th>5</th>\n",
       "      <th>6</th>\n",
       "      <th>7</th>\n",
       "      <th>8</th>\n",
       "      <th>9</th>\n",
       "      <th>...</th>\n",
       "      <th>490</th>\n",
       "      <th>491</th>\n",
       "      <th>492</th>\n",
       "      <th>493</th>\n",
       "      <th>494</th>\n",
       "      <th>495</th>\n",
       "      <th>496</th>\n",
       "      <th>497</th>\n",
       "      <th>498</th>\n",
       "      <th>499</th>\n",
       "    </tr>\n",
       "  </thead>\n",
       "  <tbody>\n",
       "    <tr>\n",
       "      <th>0</th>\n",
       "      <td>1.000000</td>\n",
       "      <td>1.000000</td>\n",
       "      <td>1.000000</td>\n",
       "      <td>1.000000</td>\n",
       "      <td>1.000000</td>\n",
       "      <td>1.000000</td>\n",
       "      <td>1.000000</td>\n",
       "      <td>1.000000</td>\n",
       "      <td>1.000000</td>\n",
       "      <td>1.000000</td>\n",
       "      <td>...</td>\n",
       "      <td>1.000000</td>\n",
       "      <td>1.000000</td>\n",
       "      <td>1.000000</td>\n",
       "      <td>1.000000</td>\n",
       "      <td>1.000000</td>\n",
       "      <td>1.000000</td>\n",
       "      <td>1.000000</td>\n",
       "      <td>1.000000</td>\n",
       "      <td>1.000000</td>\n",
       "      <td>1.000000</td>\n",
       "    </tr>\n",
       "    <tr>\n",
       "      <th>1</th>\n",
       "      <td>1.003172</td>\n",
       "      <td>1.004386</td>\n",
       "      <td>1.010320</td>\n",
       "      <td>0.995080</td>\n",
       "      <td>0.996115</td>\n",
       "      <td>0.999464</td>\n",
       "      <td>0.987691</td>\n",
       "      <td>0.994720</td>\n",
       "      <td>1.010317</td>\n",
       "      <td>0.991815</td>\n",
       "      <td>...</td>\n",
       "      <td>0.992874</td>\n",
       "      <td>1.002167</td>\n",
       "      <td>1.006357</td>\n",
       "      <td>1.004168</td>\n",
       "      <td>1.014728</td>\n",
       "      <td>1.013558</td>\n",
       "      <td>1.000134</td>\n",
       "      <td>1.001006</td>\n",
       "      <td>0.991739</td>\n",
       "      <td>0.990521</td>\n",
       "    </tr>\n",
       "    <tr>\n",
       "      <th>2</th>\n",
       "      <td>1.011312</td>\n",
       "      <td>1.009202</td>\n",
       "      <td>1.012116</td>\n",
       "      <td>0.998645</td>\n",
       "      <td>0.988064</td>\n",
       "      <td>1.000736</td>\n",
       "      <td>0.991817</td>\n",
       "      <td>1.004698</td>\n",
       "      <td>1.011415</td>\n",
       "      <td>0.978234</td>\n",
       "      <td>...</td>\n",
       "      <td>0.988589</td>\n",
       "      <td>1.004489</td>\n",
       "      <td>0.999298</td>\n",
       "      <td>1.005096</td>\n",
       "      <td>1.008974</td>\n",
       "      <td>1.023553</td>\n",
       "      <td>0.979143</td>\n",
       "      <td>1.004044</td>\n",
       "      <td>0.970644</td>\n",
       "      <td>0.989373</td>\n",
       "    </tr>\n",
       "    <tr>\n",
       "      <th>3</th>\n",
       "      <td>1.012951</td>\n",
       "      <td>1.001317</td>\n",
       "      <td>1.014455</td>\n",
       "      <td>0.984577</td>\n",
       "      <td>0.988779</td>\n",
       "      <td>1.005436</td>\n",
       "      <td>1.001656</td>\n",
       "      <td>0.998538</td>\n",
       "      <td>1.001390</td>\n",
       "      <td>0.986094</td>\n",
       "      <td>...</td>\n",
       "      <td>0.998000</td>\n",
       "      <td>1.012550</td>\n",
       "      <td>0.994462</td>\n",
       "      <td>1.006422</td>\n",
       "      <td>1.003130</td>\n",
       "      <td>1.004662</td>\n",
       "      <td>0.978156</td>\n",
       "      <td>1.003336</td>\n",
       "      <td>0.958934</td>\n",
       "      <td>0.988891</td>\n",
       "    </tr>\n",
       "    <tr>\n",
       "      <th>4</th>\n",
       "      <td>1.013306</td>\n",
       "      <td>0.998224</td>\n",
       "      <td>1.006955</td>\n",
       "      <td>0.984872</td>\n",
       "      <td>0.991564</td>\n",
       "      <td>1.011581</td>\n",
       "      <td>1.001320</td>\n",
       "      <td>1.007463</td>\n",
       "      <td>1.012099</td>\n",
       "      <td>0.974484</td>\n",
       "      <td>...</td>\n",
       "      <td>0.987372</td>\n",
       "      <td>1.012056</td>\n",
       "      <td>1.008886</td>\n",
       "      <td>1.010364</td>\n",
       "      <td>0.988732</td>\n",
       "      <td>1.003405</td>\n",
       "      <td>0.977539</td>\n",
       "      <td>1.004975</td>\n",
       "      <td>0.966335</td>\n",
       "      <td>0.981894</td>\n",
       "    </tr>\n",
       "    <tr>\n",
       "      <th>...</th>\n",
       "      <td>...</td>\n",
       "      <td>...</td>\n",
       "      <td>...</td>\n",
       "      <td>...</td>\n",
       "      <td>...</td>\n",
       "      <td>...</td>\n",
       "      <td>...</td>\n",
       "      <td>...</td>\n",
       "      <td>...</td>\n",
       "      <td>...</td>\n",
       "      <td>...</td>\n",
       "      <td>...</td>\n",
       "      <td>...</td>\n",
       "      <td>...</td>\n",
       "      <td>...</td>\n",
       "      <td>...</td>\n",
       "      <td>...</td>\n",
       "      <td>...</td>\n",
       "      <td>...</td>\n",
       "      <td>...</td>\n",
       "      <td>...</td>\n",
       "    </tr>\n",
       "    <tr>\n",
       "      <th>7556</th>\n",
       "      <td>7.299918</td>\n",
       "      <td>12.530041</td>\n",
       "      <td>12.198568</td>\n",
       "      <td>26.526519</td>\n",
       "      <td>6.896271</td>\n",
       "      <td>6.845965</td>\n",
       "      <td>7.096217</td>\n",
       "      <td>17.469975</td>\n",
       "      <td>3.969713</td>\n",
       "      <td>29.960399</td>\n",
       "      <td>...</td>\n",
       "      <td>1.702625</td>\n",
       "      <td>10.809371</td>\n",
       "      <td>6.637340</td>\n",
       "      <td>20.752541</td>\n",
       "      <td>58.304875</td>\n",
       "      <td>4.964506</td>\n",
       "      <td>29.579659</td>\n",
       "      <td>24.825638</td>\n",
       "      <td>8.349520</td>\n",
       "      <td>7.259869</td>\n",
       "    </tr>\n",
       "    <tr>\n",
       "      <th>7557</th>\n",
       "      <td>7.244722</td>\n",
       "      <td>12.578550</td>\n",
       "      <td>12.278523</td>\n",
       "      <td>26.635810</td>\n",
       "      <td>6.869535</td>\n",
       "      <td>6.870653</td>\n",
       "      <td>7.084537</td>\n",
       "      <td>17.381345</td>\n",
       "      <td>4.030955</td>\n",
       "      <td>29.895504</td>\n",
       "      <td>...</td>\n",
       "      <td>1.718066</td>\n",
       "      <td>10.851348</td>\n",
       "      <td>6.627814</td>\n",
       "      <td>20.663595</td>\n",
       "      <td>58.079353</td>\n",
       "      <td>4.941941</td>\n",
       "      <td>29.380290</td>\n",
       "      <td>24.742515</td>\n",
       "      <td>8.382042</td>\n",
       "      <td>7.230430</td>\n",
       "    </tr>\n",
       "    <tr>\n",
       "      <th>7558</th>\n",
       "      <td>7.233374</td>\n",
       "      <td>12.695152</td>\n",
       "      <td>12.229557</td>\n",
       "      <td>26.750253</td>\n",
       "      <td>6.805940</td>\n",
       "      <td>6.830702</td>\n",
       "      <td>7.071774</td>\n",
       "      <td>17.252643</td>\n",
       "      <td>4.059688</td>\n",
       "      <td>29.822898</td>\n",
       "      <td>...</td>\n",
       "      <td>1.724130</td>\n",
       "      <td>10.855642</td>\n",
       "      <td>6.650865</td>\n",
       "      <td>20.900914</td>\n",
       "      <td>57.845904</td>\n",
       "      <td>4.929431</td>\n",
       "      <td>29.670282</td>\n",
       "      <td>24.715986</td>\n",
       "      <td>8.359515</td>\n",
       "      <td>7.250861</td>\n",
       "    </tr>\n",
       "    <tr>\n",
       "      <th>7559</th>\n",
       "      <td>7.311207</td>\n",
       "      <td>12.733106</td>\n",
       "      <td>12.272631</td>\n",
       "      <td>26.796946</td>\n",
       "      <td>6.746542</td>\n",
       "      <td>6.891297</td>\n",
       "      <td>7.112464</td>\n",
       "      <td>17.123276</td>\n",
       "      <td>4.090026</td>\n",
       "      <td>29.838568</td>\n",
       "      <td>...</td>\n",
       "      <td>1.744902</td>\n",
       "      <td>10.834129</td>\n",
       "      <td>6.768690</td>\n",
       "      <td>20.747646</td>\n",
       "      <td>58.063272</td>\n",
       "      <td>4.972974</td>\n",
       "      <td>30.007192</td>\n",
       "      <td>24.852985</td>\n",
       "      <td>8.334567</td>\n",
       "      <td>7.280911</td>\n",
       "    </tr>\n",
       "    <tr>\n",
       "      <th>7560</th>\n",
       "      <td>7.254456</td>\n",
       "      <td>12.747609</td>\n",
       "      <td>12.016273</td>\n",
       "      <td>27.050177</td>\n",
       "      <td>6.720814</td>\n",
       "      <td>6.855515</td>\n",
       "      <td>7.144998</td>\n",
       "      <td>17.225411</td>\n",
       "      <td>4.081240</td>\n",
       "      <td>29.740789</td>\n",
       "      <td>...</td>\n",
       "      <td>1.746443</td>\n",
       "      <td>11.008638</td>\n",
       "      <td>6.788672</td>\n",
       "      <td>20.520938</td>\n",
       "      <td>56.744924</td>\n",
       "      <td>4.970298</td>\n",
       "      <td>29.956457</td>\n",
       "      <td>24.580388</td>\n",
       "      <td>8.411798</td>\n",
       "      <td>7.226546</td>\n",
       "    </tr>\n",
       "  </tbody>\n",
       "</table>\n",
       "<p>7561 rows × 500 columns</p>\n",
       "</div>"
      ],
      "text/plain": [
       "           0          1          2          3         4         5         6    \\\n",
       "0     1.000000   1.000000   1.000000   1.000000  1.000000  1.000000  1.000000   \n",
       "1     1.003172   1.004386   1.010320   0.995080  0.996115  0.999464  0.987691   \n",
       "2     1.011312   1.009202   1.012116   0.998645  0.988064  1.000736  0.991817   \n",
       "3     1.012951   1.001317   1.014455   0.984577  0.988779  1.005436  1.001656   \n",
       "4     1.013306   0.998224   1.006955   0.984872  0.991564  1.011581  1.001320   \n",
       "...        ...        ...        ...        ...       ...       ...       ...   \n",
       "7556  7.299918  12.530041  12.198568  26.526519  6.896271  6.845965  7.096217   \n",
       "7557  7.244722  12.578550  12.278523  26.635810  6.869535  6.870653  7.084537   \n",
       "7558  7.233374  12.695152  12.229557  26.750253  6.805940  6.830702  7.071774   \n",
       "7559  7.311207  12.733106  12.272631  26.796946  6.746542  6.891297  7.112464   \n",
       "7560  7.254456  12.747609  12.016273  27.050177  6.720814  6.855515  7.144998   \n",
       "\n",
       "            7         8          9    ...       490        491       492  \\\n",
       "0      1.000000  1.000000   1.000000  ...  1.000000   1.000000  1.000000   \n",
       "1      0.994720  1.010317   0.991815  ...  0.992874   1.002167  1.006357   \n",
       "2      1.004698  1.011415   0.978234  ...  0.988589   1.004489  0.999298   \n",
       "3      0.998538  1.001390   0.986094  ...  0.998000   1.012550  0.994462   \n",
       "4      1.007463  1.012099   0.974484  ...  0.987372   1.012056  1.008886   \n",
       "...         ...       ...        ...  ...       ...        ...       ...   \n",
       "7556  17.469975  3.969713  29.960399  ...  1.702625  10.809371  6.637340   \n",
       "7557  17.381345  4.030955  29.895504  ...  1.718066  10.851348  6.627814   \n",
       "7558  17.252643  4.059688  29.822898  ...  1.724130  10.855642  6.650865   \n",
       "7559  17.123276  4.090026  29.838568  ...  1.744902  10.834129  6.768690   \n",
       "7560  17.225411  4.081240  29.740789  ...  1.746443  11.008638  6.788672   \n",
       "\n",
       "            493        494       495        496        497       498       499  \n",
       "0      1.000000   1.000000  1.000000   1.000000   1.000000  1.000000  1.000000  \n",
       "1      1.004168   1.014728  1.013558   1.000134   1.001006  0.991739  0.990521  \n",
       "2      1.005096   1.008974  1.023553   0.979143   1.004044  0.970644  0.989373  \n",
       "3      1.006422   1.003130  1.004662   0.978156   1.003336  0.958934  0.988891  \n",
       "4      1.010364   0.988732  1.003405   0.977539   1.004975  0.966335  0.981894  \n",
       "...         ...        ...       ...        ...        ...       ...       ...  \n",
       "7556  20.752541  58.304875  4.964506  29.579659  24.825638  8.349520  7.259869  \n",
       "7557  20.663595  58.079353  4.941941  29.380290  24.742515  8.382042  7.230430  \n",
       "7558  20.900914  57.845904  4.929431  29.670282  24.715986  8.359515  7.250861  \n",
       "7559  20.747646  58.063272  4.972974  30.007192  24.852985  8.334567  7.280911  \n",
       "7560  20.520938  56.744924  4.970298  29.956457  24.580388  8.411798  7.226546  \n",
       "\n",
       "[7561 rows x 500 columns]"
      ]
     },
     "execution_count": 109,
     "metadata": {},
     "output_type": "execute_result"
    }
   ],
   "source": [
    "# Run the Monte Carlo simulation to forecast 30 years cumulative returns\n",
    "MC_spy_agg.calc_cumulative_return()\n"
   ]
  },
  {
   "cell_type": "code",
   "execution_count": 110,
   "metadata": {},
   "outputs": [
    {
     "data": {
      "text/plain": [
       "<AxesSubplot:title={'center':'500 Simulations of Cumulative Portfolio Return Trajectories Over the Next 7560 Trading Days.'}>"
      ]
     },
     "execution_count": 110,
     "metadata": {},
     "output_type": "execute_result"
    },
    {
     "data": {
      "image/png": "[encoded data removed]",
      "text/plain": [
       "<Figure size 432x288 with 1 Axes>"
      ]
     },
     "metadata": {
      "needs_background": "light"
     },
     "output_type": "display_data"
    }
   ],
   "source": [
    "# Visualize the 30-year Monte Carlo simulation by creating an\n",
    "# overlay line plot\n",
    "MC_spy_agg.plot_simulation()\n"
   ]
  },
  {
   "cell_type": "markdown",
   "metadata": {},
   "source": [
    "#### Step 3: Plot the probability distribution of the Monte Carlo simulation."
   ]
  },
  {
   "cell_type": "code",
   "execution_count": 111,
   "metadata": {},
   "outputs": [
    {
     "data": {
      "text/plain": [
       "<AxesSubplot:title={'center':'Distribution of Final Cumuluative Returns Across All 500 Simulations'}, ylabel='Frequency'>"
      ]
     },
     "execution_count": 111,
     "metadata": {},
     "output_type": "execute_result"
    },
    {
     "data": {
      "image/png": "[encoded data removed]",
      "text/plain": [
       "<Figure size 432x288 with 1 Axes>"
      ]
     },
     "metadata": {
      "needs_background": "light"
     },
     "output_type": "display_data"
    }
   ],
   "source": [
    "# Visualize the probability distribution of the 30-year Monte Carlo simulation \n",
    "# by plotting a histogram\n",
    "MC_spy_agg.plot_distribution()\n"
   ]
  },
  {
   "cell_type": "markdown",
   "metadata": {},
   "source": [
    "#### Step 4: Generate the summary statistics for the Monte Carlo simulation."
   ]
  },
  {
   "cell_type": "code",
   "execution_count": 112,
   "metadata": {},
   "outputs": [
    {
     "data": {
      "text/plain": [
       "count           500.000000\n",
       "mean             16.677547\n",
       "std              13.177866\n",
       "min               1.722879\n",
       "25%               7.716161\n",
       "50%              12.725157\n",
       "75%              20.566011\n",
       "max              79.865990\n",
       "95% CI Lower      2.877645\n",
       "95% CI Upper     55.197810\n",
       "Name: 7560, dtype: float64"
      ]
     },
     "execution_count": 112,
     "metadata": {},
     "output_type": "execute_result"
    }
   ],
   "source": [
    "# Generate summary statistics from the 30-year Monte Carlo simulation results\n",
    "# Save the results as a variable\n",
    "spy_agg_table = MC_spy_agg.summarize_cumulative_return()\n",
    "\n",
    "\n",
    "# Review the 30-year Monte Carlo summary statistics\n",
    "spy_agg_table"
   ]
  },
  {
   "cell_type": "markdown",
   "metadata": {},
   "source": [
    "### Analyze the Retirement Portfolio Forecasts\n",
    "\n",
    "Using the current value of only the stock and bond portion of the member's portfolio and the summary statistics that you generated from the Monte Carlo simulation, answer the following question in your Jupyter notebook:\n",
    "\n",
    "-  What are the lower and upper bounds for the expected value of the portfolio with a 95% confidence interval?\n"
   ]
  },
  {
   "cell_type": "code",
   "execution_count": 119,
   "metadata": {},
   "outputs": [
    {
     "data": {
      "text/plain": [
       "69133.9"
      ]
     },
     "execution_count": 119,
     "metadata": {},
     "output_type": "execute_result"
    }
   ],
   "source": [
    "# Print the current balance of the stock and bond portion of the members portfolio\n",
    "\n",
    "total_stocks_bonds\n"
   ]
  },
  {
   "cell_type": "code",
   "execution_count": 117,
   "metadata": {},
   "outputs": [
    {
     "name": "stdout",
     "output_type": "stream",
     "text": [
      "198942.83\n",
      "3816039.86\n"
     ]
    }
   ],
   "source": [
    "# Use the lower and upper `95%` confidence intervals to calculate the range of the possible outcomes for the current stock/bond portfolio\n",
    "ci_lower_thirty_cumulative_return = round(spy_agg_table[8]*total_stocks_bonds,2)\n",
    "ci_upper_thirty_cumulative_return = round(spy_agg_table[9]*total_stocks_bonds,2)\n",
    "\n",
    "# Print the result of your calculations\n",
    "print(ci_lower_thirty_cumulative_return)\n",
    "print(ci_upper_thirty_cumulative_return)"
   ]
  },
  {
   "cell_type": "markdown",
   "metadata": {},
   "source": [
    "### Forecast Cumulative Returns in 10 Years\n",
    "\n",
    "The CTO of the credit union is impressed with your work on these planning tools but wonders if 30 years is a long time to wait until retirement. So, your next task is to adjust the retirement portfolio and run a new Monte Carlo simulation to find out if the changes will allow members to retire earlier.\n",
    "\n",
    "For this new Monte Carlo simulation, do the following: \n",
    "\n",
    "- Forecast the cumulative returns for 10 years from now. Because of the shortened investment horizon (30 years to 10 years), the portfolio needs to invest more heavily in the riskier asset&mdash;that is, stock&mdash;to help accumulate wealth for retirement. \n",
    "\n",
    "- Adjust the weights of the retirement portfolio so that the composition for the Monte Carlo simulation consists of 20% bonds and 80% stocks. \n",
    "\n",
    "- Run the simulation over 500 samples, and use the same data that the API call to Alpaca generated.\n",
    "\n",
    "- Based on the new Monte Carlo simulation, answer the following questions in your Jupyter notebook:\n",
    "\n",
    "    - Using the current value of only the stock and bond portion of the member's portfolio and the summary statistics that you generated from the new Monte Carlo simulation, what are the lower and upper bounds for the expected value of the portfolio (with the new weights) with a 95% confidence interval?\n",
    "\n",
    "    - Will weighting the portfolio more heavily toward stocks allow the credit union members to retire after only 10 years?\n"
   ]
  },
  {
   "cell_type": "code",
   "execution_count": 121,
   "metadata": {},
   "outputs": [
    {
     "data": {
      "text/html": [
       "<div>\n",
       "<style scoped>\n",
       "    .dataframe tbody tr th:only-of-type {\n",
       "        vertical-align: middle;\n",
       "    }\n",
       "\n",
       "    .dataframe tbody tr th {\n",
       "        vertical-align: top;\n",
       "    }\n",
       "\n",
       "    .dataframe thead tr th {\n",
       "        text-align: left;\n",
       "    }\n",
       "\n",
       "    .dataframe thead tr:last-of-type th {\n",
       "        text-align: right;\n",
       "    }\n",
       "</style>\n",
       "<table border=\"1\" class=\"dataframe\">\n",
       "  <thead>\n",
       "    <tr>\n",
       "      <th></th>\n",
       "      <th colspan=\"8\" halign=\"left\">SPY</th>\n",
       "      <th colspan=\"8\" halign=\"left\">AGG</th>\n",
       "    </tr>\n",
       "    <tr>\n",
       "      <th></th>\n",
       "      <th>open</th>\n",
       "      <th>high</th>\n",
       "      <th>low</th>\n",
       "      <th>close</th>\n",
       "      <th>volume</th>\n",
       "      <th>trade_count</th>\n",
       "      <th>vwap</th>\n",
       "      <th>daily_return</th>\n",
       "      <th>open</th>\n",
       "      <th>high</th>\n",
       "      <th>low</th>\n",
       "      <th>close</th>\n",
       "      <th>volume</th>\n",
       "      <th>trade_count</th>\n",
       "      <th>vwap</th>\n",
       "      <th>daily_return</th>\n",
       "    </tr>\n",
       "    <tr>\n",
       "      <th>timestamp</th>\n",
       "      <th></th>\n",
       "      <th></th>\n",
       "      <th></th>\n",
       "      <th></th>\n",
       "      <th></th>\n",
       "      <th></th>\n",
       "      <th></th>\n",
       "      <th></th>\n",
       "      <th></th>\n",
       "      <th></th>\n",
       "      <th></th>\n",
       "      <th></th>\n",
       "      <th></th>\n",
       "      <th></th>\n",
       "      <th></th>\n",
       "      <th></th>\n",
       "    </tr>\n",
       "  </thead>\n",
       "  <tbody>\n",
       "    <tr>\n",
       "      <th>2019-04-12 04:00:00+00:00</th>\n",
       "      <td>290.01</td>\n",
       "      <td>290.470</td>\n",
       "      <td>288.261</td>\n",
       "      <td>290.16</td>\n",
       "      <td>69835782</td>\n",
       "      <td>232166</td>\n",
       "      <td>289.776012</td>\n",
       "      <td>NaN</td>\n",
       "      <td>108.26</td>\n",
       "      <td>108.3500</td>\n",
       "      <td>108.22</td>\n",
       "      <td>108.27</td>\n",
       "      <td>2430609</td>\n",
       "      <td>11376</td>\n",
       "      <td>108.269606</td>\n",
       "      <td>NaN</td>\n",
       "    </tr>\n",
       "    <tr>\n",
       "      <th>2019-04-15 04:00:00+00:00</th>\n",
       "      <td>290.27</td>\n",
       "      <td>290.350</td>\n",
       "      <td>289.075</td>\n",
       "      <td>289.97</td>\n",
       "      <td>50222730</td>\n",
       "      <td>199622</td>\n",
       "      <td>289.773677</td>\n",
       "      <td>-0.000655</td>\n",
       "      <td>108.21</td>\n",
       "      <td>108.3000</td>\n",
       "      <td>108.21</td>\n",
       "      <td>108.25</td>\n",
       "      <td>2546204</td>\n",
       "      <td>10053</td>\n",
       "      <td>108.253507</td>\n",
       "      <td>-0.000185</td>\n",
       "    </tr>\n",
       "    <tr>\n",
       "      <th>2019-04-16 04:00:00+00:00</th>\n",
       "      <td>290.96</td>\n",
       "      <td>291.010</td>\n",
       "      <td>289.500</td>\n",
       "      <td>290.16</td>\n",
       "      <td>52154597</td>\n",
       "      <td>206469</td>\n",
       "      <td>290.277078</td>\n",
       "      <td>0.000655</td>\n",
       "      <td>108.12</td>\n",
       "      <td>108.2100</td>\n",
       "      <td>108.02</td>\n",
       "      <td>108.06</td>\n",
       "      <td>4093950</td>\n",
       "      <td>12649</td>\n",
       "      <td>108.108731</td>\n",
       "      <td>-0.001755</td>\n",
       "    </tr>\n",
       "    <tr>\n",
       "      <th>2019-04-17 04:00:00+00:00</th>\n",
       "      <td>291.41</td>\n",
       "      <td>291.425</td>\n",
       "      <td>288.990</td>\n",
       "      <td>289.45</td>\n",
       "      <td>58268470</td>\n",
       "      <td>245037</td>\n",
       "      <td>289.770682</td>\n",
       "      <td>-0.002447</td>\n",
       "      <td>108.09</td>\n",
       "      <td>108.1899</td>\n",
       "      <td>108.05</td>\n",
       "      <td>108.05</td>\n",
       "      <td>3390171</td>\n",
       "      <td>9569</td>\n",
       "      <td>108.090758</td>\n",
       "      <td>-0.000093</td>\n",
       "    </tr>\n",
       "    <tr>\n",
       "      <th>2019-04-18 04:00:00+00:00</th>\n",
       "      <td>290.12</td>\n",
       "      <td>290.320</td>\n",
       "      <td>288.660</td>\n",
       "      <td>290.02</td>\n",
       "      <td>69414428</td>\n",
       "      <td>231296</td>\n",
       "      <td>289.794161</td>\n",
       "      <td>0.001969</td>\n",
       "      <td>108.23</td>\n",
       "      <td>108.2900</td>\n",
       "      <td>108.16</td>\n",
       "      <td>108.19</td>\n",
       "      <td>2217221</td>\n",
       "      <td>8388</td>\n",
       "      <td>108.211849</td>\n",
       "      <td>0.001296</td>\n",
       "    </tr>\n",
       "  </tbody>\n",
       "</table>\n",
       "</div>"
      ],
      "text/plain": [
       "                              SPY                                      \\\n",
       "                             open     high      low   close    volume   \n",
       "timestamp                                                               \n",
       "2019-04-12 04:00:00+00:00  290.01  290.470  288.261  290.16  69835782   \n",
       "2019-04-15 04:00:00+00:00  290.27  290.350  289.075  289.97  50222730   \n",
       "2019-04-16 04:00:00+00:00  290.96  291.010  289.500  290.16  52154597   \n",
       "2019-04-17 04:00:00+00:00  291.41  291.425  288.990  289.45  58268470   \n",
       "2019-04-18 04:00:00+00:00  290.12  290.320  288.660  290.02  69414428   \n",
       "\n",
       "                                                                   AGG  \\\n",
       "                          trade_count        vwap daily_return    open   \n",
       "timestamp                                                                \n",
       "2019-04-12 04:00:00+00:00      232166  289.776012          NaN  108.26   \n",
       "2019-04-15 04:00:00+00:00      199622  289.773677    -0.000655  108.21   \n",
       "2019-04-16 04:00:00+00:00      206469  290.277078     0.000655  108.12   \n",
       "2019-04-17 04:00:00+00:00      245037  289.770682    -0.002447  108.09   \n",
       "2019-04-18 04:00:00+00:00      231296  289.794161     0.001969  108.23   \n",
       "\n",
       "                                                                          \\\n",
       "                               high     low   close   volume trade_count   \n",
       "timestamp                                                                  \n",
       "2019-04-12 04:00:00+00:00  108.3500  108.22  108.27  2430609       11376   \n",
       "2019-04-15 04:00:00+00:00  108.3000  108.21  108.25  2546204       10053   \n",
       "2019-04-16 04:00:00+00:00  108.2100  108.02  108.06  4093950       12649   \n",
       "2019-04-17 04:00:00+00:00  108.1899  108.05  108.05  3390171        9569   \n",
       "2019-04-18 04:00:00+00:00  108.2900  108.16  108.19  2217221        8388   \n",
       "\n",
       "                                                    \n",
       "                                 vwap daily_return  \n",
       "timestamp                                           \n",
       "2019-04-12 04:00:00+00:00  108.269606          NaN  \n",
       "2019-04-15 04:00:00+00:00  108.253507    -0.000185  \n",
       "2019-04-16 04:00:00+00:00  108.108731    -0.001755  \n",
       "2019-04-17 04:00:00+00:00  108.090758    -0.000093  \n",
       "2019-04-18 04:00:00+00:00  108.211849     0.001296  "
      ]
     },
     "execution_count": 121,
     "metadata": {},
     "output_type": "execute_result"
    }
   ],
   "source": [
    "# Configure a Monte Carlo simulation to forecast 10 years cumulative returns\n",
    "# The weights should be split 20% to AGG and 80% to SPY.\n",
    "# Run 500 samples.\n",
    "MC_10years = MCSimulation(\n",
    "    portfolio_data = prices_3years_df,\n",
    "    weights = [.8,.2],\n",
    "    num_simulation = 500,\n",
    "    num_trading_days = 252*10\n",
    ")\n",
    "    \n",
    "# Review the simulation input data\n",
    "MC_10years.portfolio_data.head()\n"
   ]
  },
  {
   "cell_type": "code",
   "execution_count": 122,
   "metadata": {},
   "outputs": [
    {
     "name": "stdout",
     "output_type": "stream",
     "text": [
      "Running Monte Carlo simulation number 0.\n",
      "Running Monte Carlo simulation number 10.\n",
      "Running Monte Carlo simulation number 20.\n",
      "Running Monte Carlo simulation number 30.\n",
      "Running Monte Carlo simulation number 40.\n",
      "Running Monte Carlo simulation number 50.\n",
      "Running Monte Carlo simulation number 60.\n",
      "Running Monte Carlo simulation number 70.\n",
      "Running Monte Carlo simulation number 80.\n",
      "Running Monte Carlo simulation number 90.\n",
      "Running Monte Carlo simulation number 100.\n"
     ]
    },
    {
     "name": "stderr",
     "output_type": "stream",
     "text": [
      "/Users/yjun_ln/Desktop/FinTech/Module5/Starter_Code/MCForecastTools.py:117: PerformanceWarning: DataFrame is highly fragmented.  This is usually the result of calling `frame.insert` many times, which has poor performance.  Consider joining all columns at once using pd.concat(axis=1) instead.  To get a de-fragmented frame, use `newframe = frame.copy()`\n",
      "  portfolio_cumulative_returns[n] = (1 + sim_df.fillna(0)).cumprod()\n"
     ]
    },
    {
     "name": "stdout",
     "output_type": "stream",
     "text": [
      "Running Monte Carlo simulation number 110.\n",
      "Running Monte Carlo simulation number 120.\n",
      "Running Monte Carlo simulation number 130.\n",
      "Running Monte Carlo simulation number 140.\n",
      "Running Monte Carlo simulation number 150.\n",
      "Running Monte Carlo simulation number 160.\n",
      "Running Monte Carlo simulation number 170.\n",
      "Running Monte Carlo simulation number 180.\n",
      "Running Monte Carlo simulation number 190.\n",
      "Running Monte Carlo simulation number 200.\n",
      "Running Monte Carlo simulation number 210.\n",
      "Running Monte Carlo simulation number 220.\n",
      "Running Monte Carlo simulation number 230.\n",
      "Running Monte Carlo simulation number 240.\n",
      "Running Monte Carlo simulation number 250.\n",
      "Running Monte Carlo simulation number 260.\n",
      "Running Monte Carlo simulation number 270.\n",
      "Running Monte Carlo simulation number 280.\n",
      "Running Monte Carlo simulation number 290.\n",
      "Running Monte Carlo simulation number 300.\n",
      "Running Monte Carlo simulation number 310.\n",
      "Running Monte Carlo simulation number 320.\n",
      "Running Monte Carlo simulation number 330.\n",
      "Running Monte Carlo simulation number 340.\n",
      "Running Monte Carlo simulation number 350.\n",
      "Running Monte Carlo simulation number 360.\n",
      "Running Monte Carlo simulation number 370.\n",
      "Running Monte Carlo simulation number 380.\n",
      "Running Monte Carlo simulation number 390.\n",
      "Running Monte Carlo simulation number 400.\n",
      "Running Monte Carlo simulation number 410.\n",
      "Running Monte Carlo simulation number 420.\n",
      "Running Monte Carlo simulation number 430.\n",
      "Running Monte Carlo simulation number 440.\n",
      "Running Monte Carlo simulation number 450.\n",
      "Running Monte Carlo simulation number 460.\n",
      "Running Monte Carlo simulation number 470.\n",
      "Running Monte Carlo simulation number 480.\n",
      "Running Monte Carlo simulation number 490.\n"
     ]
    },
    {
     "data": {
      "text/html": [
       "<div>\n",
       "<style scoped>\n",
       "    .dataframe tbody tr th:only-of-type {\n",
       "        vertical-align: middle;\n",
       "    }\n",
       "\n",
       "    .dataframe tbody tr th {\n",
       "        vertical-align: top;\n",
       "    }\n",
       "\n",
       "    .dataframe thead th {\n",
       "        text-align: right;\n",
       "    }\n",
       "</style>\n",
       "<table border=\"1\" class=\"dataframe\">\n",
       "  <thead>\n",
       "    <tr style=\"text-align: right;\">\n",
       "      <th></th>\n",
       "      <th>0</th>\n",
       "      <th>1</th>\n",
       "      <th>2</th>\n",
       "      <th>3</th>\n",
       "      <th>4</th>\n",
       "      <th>5</th>\n",
       "      <th>6</th>\n",
       "      <th>7</th>\n",
       "      <th>8</th>\n",
       "      <th>9</th>\n",
       "      <th>...</th>\n",
       "      <th>490</th>\n",
       "      <th>491</th>\n",
       "      <th>492</th>\n",
       "      <th>493</th>\n",
       "      <th>494</th>\n",
       "      <th>495</th>\n",
       "      <th>496</th>\n",
       "      <th>497</th>\n",
       "      <th>498</th>\n",
       "      <th>499</th>\n",
       "    </tr>\n",
       "  </thead>\n",
       "  <tbody>\n",
       "    <tr>\n",
       "      <th>0</th>\n",
       "      <td>1.000000</td>\n",
       "      <td>1.000000</td>\n",
       "      <td>1.000000</td>\n",
       "      <td>1.000000</td>\n",
       "      <td>1.000000</td>\n",
       "      <td>1.000000</td>\n",
       "      <td>1.000000</td>\n",
       "      <td>1.000000</td>\n",
       "      <td>1.000000</td>\n",
       "      <td>1.000000</td>\n",
       "      <td>...</td>\n",
       "      <td>1.000000</td>\n",
       "      <td>1.000000</td>\n",
       "      <td>1.000000</td>\n",
       "      <td>1.000000</td>\n",
       "      <td>1.000000</td>\n",
       "      <td>1.000000</td>\n",
       "      <td>1.000000</td>\n",
       "      <td>1.000000</td>\n",
       "      <td>1.000000</td>\n",
       "      <td>1.000000</td>\n",
       "    </tr>\n",
       "    <tr>\n",
       "      <th>1</th>\n",
       "      <td>0.998875</td>\n",
       "      <td>1.017263</td>\n",
       "      <td>1.003460</td>\n",
       "      <td>0.985790</td>\n",
       "      <td>0.998214</td>\n",
       "      <td>0.994191</td>\n",
       "      <td>0.998939</td>\n",
       "      <td>1.010361</td>\n",
       "      <td>1.009866</td>\n",
       "      <td>0.981852</td>\n",
       "      <td>...</td>\n",
       "      <td>0.982023</td>\n",
       "      <td>1.003974</td>\n",
       "      <td>0.993640</td>\n",
       "      <td>1.018992</td>\n",
       "      <td>0.991891</td>\n",
       "      <td>1.000672</td>\n",
       "      <td>0.998542</td>\n",
       "      <td>1.017085</td>\n",
       "      <td>1.014173</td>\n",
       "      <td>1.007124</td>\n",
       "    </tr>\n",
       "    <tr>\n",
       "      <th>2</th>\n",
       "      <td>0.993657</td>\n",
       "      <td>1.002791</td>\n",
       "      <td>1.000373</td>\n",
       "      <td>0.990465</td>\n",
       "      <td>0.989962</td>\n",
       "      <td>0.989449</td>\n",
       "      <td>1.038855</td>\n",
       "      <td>1.018128</td>\n",
       "      <td>1.020149</td>\n",
       "      <td>0.980358</td>\n",
       "      <td>...</td>\n",
       "      <td>0.958957</td>\n",
       "      <td>0.998132</td>\n",
       "      <td>0.986009</td>\n",
       "      <td>1.031865</td>\n",
       "      <td>1.005143</td>\n",
       "      <td>1.014123</td>\n",
       "      <td>1.007087</td>\n",
       "      <td>1.014556</td>\n",
       "      <td>1.015535</td>\n",
       "      <td>1.018768</td>\n",
       "    </tr>\n",
       "    <tr>\n",
       "      <th>3</th>\n",
       "      <td>0.974540</td>\n",
       "      <td>0.991263</td>\n",
       "      <td>1.026496</td>\n",
       "      <td>0.996421</td>\n",
       "      <td>0.989934</td>\n",
       "      <td>0.985146</td>\n",
       "      <td>1.036445</td>\n",
       "      <td>1.020685</td>\n",
       "      <td>1.030521</td>\n",
       "      <td>0.984177</td>\n",
       "      <td>...</td>\n",
       "      <td>0.967607</td>\n",
       "      <td>1.010556</td>\n",
       "      <td>0.993937</td>\n",
       "      <td>1.045121</td>\n",
       "      <td>1.005269</td>\n",
       "      <td>1.019853</td>\n",
       "      <td>1.021414</td>\n",
       "      <td>1.005509</td>\n",
       "      <td>1.014550</td>\n",
       "      <td>1.015389</td>\n",
       "    </tr>\n",
       "    <tr>\n",
       "      <th>4</th>\n",
       "      <td>0.975576</td>\n",
       "      <td>1.001737</td>\n",
       "      <td>1.025824</td>\n",
       "      <td>1.012252</td>\n",
       "      <td>1.008624</td>\n",
       "      <td>1.007612</td>\n",
       "      <td>1.039764</td>\n",
       "      <td>1.015972</td>\n",
       "      <td>1.022466</td>\n",
       "      <td>0.988560</td>\n",
       "      <td>...</td>\n",
       "      <td>0.937945</td>\n",
       "      <td>1.003669</td>\n",
       "      <td>0.996385</td>\n",
       "      <td>1.030455</td>\n",
       "      <td>0.996313</td>\n",
       "      <td>1.008230</td>\n",
       "      <td>1.006194</td>\n",
       "      <td>0.998779</td>\n",
       "      <td>1.015262</td>\n",
       "      <td>0.996406</td>\n",
       "    </tr>\n",
       "    <tr>\n",
       "      <th>...</th>\n",
       "      <td>...</td>\n",
       "      <td>...</td>\n",
       "      <td>...</td>\n",
       "      <td>...</td>\n",
       "      <td>...</td>\n",
       "      <td>...</td>\n",
       "      <td>...</td>\n",
       "      <td>...</td>\n",
       "      <td>...</td>\n",
       "      <td>...</td>\n",
       "      <td>...</td>\n",
       "      <td>...</td>\n",
       "      <td>...</td>\n",
       "      <td>...</td>\n",
       "      <td>...</td>\n",
       "      <td>...</td>\n",
       "      <td>...</td>\n",
       "      <td>...</td>\n",
       "      <td>...</td>\n",
       "      <td>...</td>\n",
       "      <td>...</td>\n",
       "    </tr>\n",
       "    <tr>\n",
       "      <th>2516</th>\n",
       "      <td>3.356614</td>\n",
       "      <td>4.730142</td>\n",
       "      <td>5.386864</td>\n",
       "      <td>8.684369</td>\n",
       "      <td>2.860598</td>\n",
       "      <td>5.012100</td>\n",
       "      <td>6.667887</td>\n",
       "      <td>4.203035</td>\n",
       "      <td>6.058462</td>\n",
       "      <td>7.102558</td>\n",
       "      <td>...</td>\n",
       "      <td>1.505999</td>\n",
       "      <td>3.292874</td>\n",
       "      <td>6.076825</td>\n",
       "      <td>3.254943</td>\n",
       "      <td>4.641683</td>\n",
       "      <td>3.866877</td>\n",
       "      <td>4.237067</td>\n",
       "      <td>6.971074</td>\n",
       "      <td>3.004690</td>\n",
       "      <td>7.604257</td>\n",
       "    </tr>\n",
       "    <tr>\n",
       "      <th>2517</th>\n",
       "      <td>3.310391</td>\n",
       "      <td>4.695715</td>\n",
       "      <td>5.440373</td>\n",
       "      <td>8.700416</td>\n",
       "      <td>2.877950</td>\n",
       "      <td>5.045238</td>\n",
       "      <td>6.586572</td>\n",
       "      <td>4.221106</td>\n",
       "      <td>6.072321</td>\n",
       "      <td>7.093914</td>\n",
       "      <td>...</td>\n",
       "      <td>1.513528</td>\n",
       "      <td>3.297016</td>\n",
       "      <td>5.985641</td>\n",
       "      <td>3.225750</td>\n",
       "      <td>4.700118</td>\n",
       "      <td>3.816033</td>\n",
       "      <td>4.172566</td>\n",
       "      <td>7.076603</td>\n",
       "      <td>2.997788</td>\n",
       "      <td>7.617782</td>\n",
       "    </tr>\n",
       "    <tr>\n",
       "      <th>2518</th>\n",
       "      <td>3.319130</td>\n",
       "      <td>4.662704</td>\n",
       "      <td>5.445035</td>\n",
       "      <td>8.645702</td>\n",
       "      <td>2.873451</td>\n",
       "      <td>5.032945</td>\n",
       "      <td>6.636346</td>\n",
       "      <td>4.221248</td>\n",
       "      <td>6.003100</td>\n",
       "      <td>7.186784</td>\n",
       "      <td>...</td>\n",
       "      <td>1.505188</td>\n",
       "      <td>3.242550</td>\n",
       "      <td>5.987392</td>\n",
       "      <td>3.237774</td>\n",
       "      <td>4.622451</td>\n",
       "      <td>3.803723</td>\n",
       "      <td>4.190579</td>\n",
       "      <td>7.271531</td>\n",
       "      <td>2.940585</td>\n",
       "      <td>7.904897</td>\n",
       "    </tr>\n",
       "    <tr>\n",
       "      <th>2519</th>\n",
       "      <td>3.403280</td>\n",
       "      <td>4.685708</td>\n",
       "      <td>5.399827</td>\n",
       "      <td>8.578318</td>\n",
       "      <td>2.920243</td>\n",
       "      <td>5.155487</td>\n",
       "      <td>6.632906</td>\n",
       "      <td>4.238504</td>\n",
       "      <td>6.036686</td>\n",
       "      <td>7.122463</td>\n",
       "      <td>...</td>\n",
       "      <td>1.518509</td>\n",
       "      <td>3.245307</td>\n",
       "      <td>6.024216</td>\n",
       "      <td>3.263357</td>\n",
       "      <td>4.549726</td>\n",
       "      <td>3.845927</td>\n",
       "      <td>4.188361</td>\n",
       "      <td>7.342414</td>\n",
       "      <td>2.889589</td>\n",
       "      <td>7.943933</td>\n",
       "    </tr>\n",
       "    <tr>\n",
       "      <th>2520</th>\n",
       "      <td>3.420097</td>\n",
       "      <td>4.613717</td>\n",
       "      <td>5.408114</td>\n",
       "      <td>8.493647</td>\n",
       "      <td>2.948265</td>\n",
       "      <td>5.179388</td>\n",
       "      <td>6.684059</td>\n",
       "      <td>4.242727</td>\n",
       "      <td>6.073218</td>\n",
       "      <td>7.133604</td>\n",
       "      <td>...</td>\n",
       "      <td>1.511335</td>\n",
       "      <td>3.248823</td>\n",
       "      <td>5.921362</td>\n",
       "      <td>3.292399</td>\n",
       "      <td>4.570721</td>\n",
       "      <td>3.796421</td>\n",
       "      <td>4.232900</td>\n",
       "      <td>7.326177</td>\n",
       "      <td>2.923682</td>\n",
       "      <td>7.999841</td>\n",
       "    </tr>\n",
       "  </tbody>\n",
       "</table>\n",
       "<p>2521 rows × 500 columns</p>\n",
       "</div>"
      ],
      "text/plain": [
       "           0         1         2         3         4         5         6    \\\n",
       "0     1.000000  1.000000  1.000000  1.000000  1.000000  1.000000  1.000000   \n",
       "1     0.998875  1.017263  1.003460  0.985790  0.998214  0.994191  0.998939   \n",
       "2     0.993657  1.002791  1.000373  0.990465  0.989962  0.989449  1.038855   \n",
       "3     0.974540  0.991263  1.026496  0.996421  0.989934  0.985146  1.036445   \n",
       "4     0.975576  1.001737  1.025824  1.012252  1.008624  1.007612  1.039764   \n",
       "...        ...       ...       ...       ...       ...       ...       ...   \n",
       "2516  3.356614  4.730142  5.386864  8.684369  2.860598  5.012100  6.667887   \n",
       "2517  3.310391  4.695715  5.440373  8.700416  2.877950  5.045238  6.586572   \n",
       "2518  3.319130  4.662704  5.445035  8.645702  2.873451  5.032945  6.636346   \n",
       "2519  3.403280  4.685708  5.399827  8.578318  2.920243  5.155487  6.632906   \n",
       "2520  3.420097  4.613717  5.408114  8.493647  2.948265  5.179388  6.684059   \n",
       "\n",
       "           7         8         9    ...       490       491       492  \\\n",
       "0     1.000000  1.000000  1.000000  ...  1.000000  1.000000  1.000000   \n",
       "1     1.010361  1.009866  0.981852  ...  0.982023  1.003974  0.993640   \n",
       "2     1.018128  1.020149  0.980358  ...  0.958957  0.998132  0.986009   \n",
       "3     1.020685  1.030521  0.984177  ...  0.967607  1.010556  0.993937   \n",
       "4     1.015972  1.022466  0.988560  ...  0.937945  1.003669  0.996385   \n",
       "...        ...       ...       ...  ...       ...       ...       ...   \n",
       "2516  4.203035  6.058462  7.102558  ...  1.505999  3.292874  6.076825   \n",
       "2517  4.221106  6.072321  7.093914  ...  1.513528  3.297016  5.985641   \n",
       "2518  4.221248  6.003100  7.186784  ...  1.505188  3.242550  5.987392   \n",
       "2519  4.238504  6.036686  7.122463  ...  1.518509  3.245307  6.024216   \n",
       "2520  4.242727  6.073218  7.133604  ...  1.511335  3.248823  5.921362   \n",
       "\n",
       "           493       494       495       496       497       498       499  \n",
       "0     1.000000  1.000000  1.000000  1.000000  1.000000  1.000000  1.000000  \n",
       "1     1.018992  0.991891  1.000672  0.998542  1.017085  1.014173  1.007124  \n",
       "2     1.031865  1.005143  1.014123  1.007087  1.014556  1.015535  1.018768  \n",
       "3     1.045121  1.005269  1.019853  1.021414  1.005509  1.014550  1.015389  \n",
       "4     1.030455  0.996313  1.008230  1.006194  0.998779  1.015262  0.996406  \n",
       "...        ...       ...       ...       ...       ...       ...       ...  \n",
       "2516  3.254943  4.641683  3.866877  4.237067  6.971074  3.004690  7.604257  \n",
       "2517  3.225750  4.700118  3.816033  4.172566  7.076603  2.997788  7.617782  \n",
       "2518  3.237774  4.622451  3.803723  4.190579  7.271531  2.940585  7.904897  \n",
       "2519  3.263357  4.549726  3.845927  4.188361  7.342414  2.889589  7.943933  \n",
       "2520  3.292399  4.570721  3.796421  4.232900  7.326177  2.923682  7.999841  \n",
       "\n",
       "[2521 rows x 500 columns]"
      ]
     },
     "execution_count": 122,
     "metadata": {},
     "output_type": "execute_result"
    }
   ],
   "source": [
    "# Run the Monte Carlo simulation to forecast 10 years cumulative returns\n",
    "MC_10years.calc_cumulative_return()\n"
   ]
  },
  {
   "cell_type": "code",
   "execution_count": 124,
   "metadata": {},
   "outputs": [
    {
     "data": {
      "text/plain": [
       "<AxesSubplot:title={'center':'500 Simulations of Cumulative Portfolio Return Trajectories Over the Next 2520 Trading Days.'}>"
      ]
     },
     "execution_count": 124,
     "metadata": {},
     "output_type": "execute_result"
    },
    {
     "data": {
      "image/png": "[encoded data removed]",
      "text/plain": [
       "<Figure size 432x288 with 1 Axes>"
      ]
     },
     "metadata": {
      "needs_background": "light"
     },
     "output_type": "display_data"
    }
   ],
   "source": [
    "# Visualize the 10-year Monte Carlo simulation by creating an\n",
    "# overlay line plot\n",
    "MC_10years.plot_simulation()\n"
   ]
  },
  {
   "cell_type": "code",
   "execution_count": 125,
   "metadata": {},
   "outputs": [
    {
     "data": {
      "text/plain": [
       "<AxesSubplot:title={'center':'Distribution of Final Cumuluative Returns Across All 500 Simulations'}, ylabel='Frequency'>"
      ]
     },
     "execution_count": 125,
     "metadata": {},
     "output_type": "execute_result"
    },
    {
     "data": {
      "image/png": "[encoded data removed]",
      "text/plain": [
       "<Figure size 432x288 with 1 Axes>"
      ]
     },
     "metadata": {
      "needs_background": "light"
     },
     "output_type": "display_data"
    }
   ],
   "source": [
    "# Visualize the probability distribution of the 10-year Monte Carlo simulation \n",
    "# by plotting a histogram\n",
    "MC_10years.plot_distribution()\n"
   ]
  },
  {
   "cell_type": "code",
   "execution_count": 126,
   "metadata": {},
   "outputs": [
    {
     "data": {
      "text/plain": [
       "count           500.000000\n",
       "mean              3.681524\n",
       "std               2.275837\n",
       "min               0.593649\n",
       "25%               2.212929\n",
       "50%               3.195363\n",
       "75%               4.500233\n",
       "max              23.473374\n",
       "95% CI Lower      1.089972\n",
       "95% CI Upper      8.416324\n",
       "Name: 2520, dtype: float64"
      ]
     },
     "execution_count": 126,
     "metadata": {},
     "output_type": "execute_result"
    }
   ],
   "source": [
    "# Generate summary statistics from the 10-year Monte Carlo simulation results\n",
    "# Save the results as a variable\n",
    "MC_10years_table = MC_10years.summarize_cumulative_return()\n",
    "\n",
    "\n",
    "# Review the 10-year Monte Carlo summary statistics\n",
    "MC_10years_table"
   ]
  },
  {
   "cell_type": "markdown",
   "metadata": {},
   "source": [
    "### Answer the following questions:"
   ]
  },
  {
   "cell_type": "markdown",
   "metadata": {},
   "source": [
    "#### Question: Using the current value of only the stock and bond portion of the member's portfolio and the summary statistics that you generated from the new Monte Carlo simulation, what are the lower and upper bounds for the expected value of the portfolio (with the new weights) with a 95% confidence interval?"
   ]
  },
  {
   "cell_type": "code",
   "execution_count": 127,
   "metadata": {},
   "outputs": [
    {
     "data": {
      "text/plain": [
       "69133.9"
      ]
     },
     "execution_count": 127,
     "metadata": {},
     "output_type": "execute_result"
    }
   ],
   "source": [
    "# Print the current balance of the stock and bond portion of the members portfolio\n",
    "total_stocks_bonds\n"
   ]
  },
  {
   "cell_type": "code",
   "execution_count": 128,
   "metadata": {},
   "outputs": [
    {
     "name": "stdout",
     "output_type": "stream",
     "text": [
      "75353.98\n",
      "581853.3\n"
     ]
    }
   ],
   "source": [
    "# Use the lower and upper `95%` confidence intervals to calculate the range of the possible outcomes for the current stock/bond portfolio\n",
    "ci_lower_ten_cumulative_return = round(MC_10years_table[8]*total_stocks_bonds,2)\n",
    "ci_upper_ten_cumulative_return = round(MC_10years_table[9]*total_stocks_bonds,2)\n",
    "\n",
    "# Print the result of your calculations\n",
    "print(ci_lower_ten_cumulative_return)\n",
    "print(ci_upper_ten_cumulative_return)\n"
   ]
  },
  {
   "cell_type": "markdown",
   "metadata": {},
   "source": [
    "#### Question: Will weighting the portfolio more heavily to stocks allow the credit union members to retire after only 10 years?"
   ]
  },
  {
   "cell_type": "raw",
   "metadata": {},
   "source": [
    "**Answer** 198942.83\n",
    "3816039.86"
   ]
  },
  {
   "cell_type": "code",
   "execution_count": null,
   "metadata": {},
   "outputs": [],
   "source": []
  }
 ],
 "metadata": {
  "kernelspec": {
   "display_name": "Python 3 (ipykernel)",
   "language": "python",
   "name": "python3"
  },
  "language_info": {
   "codemirror_mode": {
    "name": "ipython",
    "version": 3
   },
   "file_extension": ".py",
   "mimetype": "text/x-python",
   "name": "python",
   "nbconvert_exporter": "python",
   "pygments_lexer": "ipython3",
   "version": "3.7.11"
  }
 },
 "nbformat": 4,
 "nbformat_minor": 4
}
